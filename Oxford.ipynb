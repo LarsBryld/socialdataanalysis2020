{
  "nbformat": 4,
  "nbformat_minor": 0,
  "metadata": {
    "colab": {
      "name": "Copy of Oxford.ipynb",
      "provenance": [],
      "collapsed_sections": [],
      "authorship_tag": "ABX9TyPpwLg0BByMgwUIO8wQ1t0M",
      "include_colab_link": true
    },
    "kernelspec": {
      "name": "python3",
      "display_name": "Python 3"
    }
  },
  "cells": [
    {
      "cell_type": "markdown",
      "metadata": {
        "id": "view-in-github",
        "colab_type": "text"
      },
      "source": [
        "<a href=\"https://colab.research.google.com/github/LarsBryld/socialdataanalysis2020/blob/master/Oxford.ipynb\" target=\"_parent\"><img src=\"https://colab.research.google.com/assets/colab-badge.svg\" alt=\"Open In Colab\"/></a>"
      ]
    },
    {
      "cell_type": "code",
      "metadata": {
        "id": "yM9wFsEAlXZp",
        "colab_type": "code",
        "colab": {}
      },
      "source": [
        "import pandas as pd\n",
        "\n",
        "ox = pd.read_csv(\"https://raw.githubusercontent.com/OxCGRT/covid-policy-tracker/master/data/OxCGRT_latest.csv\" , parse_dates=[\"Date\"])\n",
        "\n",
        "covid = pd.read_csv(\"https://open-covid-19.github.io/data/data.csv\", parse_dates=[\"Date\"], na_values='-')\n",
        "\n",
        "\n",
        "\n",
        "#Define focus contries based on stock indecies\n",
        "focuscountries = set(['China', 'Austria', 'Belgium', 'Denmark', 'Finland', 'France', 'Italy', 'Germany', 'Greece', 'Iceland', 'Ireland', 'Netherlands', 'Poland', 'Portugal', 'Spain',\n",
        "                  'Sweden', 'Switzerland', 'United Kingdom', 'Canada', 'United States', 'Australia', 'New Zealand', 'Hong Kong', 'Japan', 'South Korea', 'Singapore',\n",
        "                  'Taiwan', 'Brazil', 'Israel', 'India', 'Mexico', 'South Africa', 'Russia'])\n",
        "\n",
        "\n",
        "#Create dataframes of only focus countries\n",
        "ox = ox[ox['CountryName'].isin(focuscountries)]\n",
        "covid = covid[covid['CountryName'].isin(focuscountries)]\n",
        "\n",
        "\n",
        "#Sometimes, due to data entry errors, we have isgeneral=1 when the underlying indicator is 0 or null. These cases should be disregarded. Only use isgeneral=1 values when the underlying indicator is 1 or higher.\n",
        "\n",
        "#ox = ox[(ox['S1_IsGeneral'] != 1) & (ox['S1_School closing'] > 0)]\n",
        "#ox =  (ox['S2_IsGeneral'] != 1) & (ox['S2_Workplace closing'] > 0) \n",
        "#ox = ox[(ox['S2_IsGeneral'] != 1) & (ox['S2_Workplace closing'] > 0)]\n",
        "#ox = ox[(ox['S3_IsGeneral'] != 1) & (ox['S3_Cancel public events'] > 0)]\n",
        "#ox = ox[(ox['S4_IsGeneral'] != 1) & (ox['S4_Close public transport'] > 0)]\n",
        "#ox = ox[(ox['S5_IsGeneral'] != 1) & (ox['S5_Public information campaigns'] > 0)]\n",
        "#ox = ox[(ox['S6_IsGeneral'] != 1) & (ox['S6_Restrictions on internal movement'] > 0)]\n",
        "#drop2 = ox[(ox['S1_IsGeneral'] == 1) & (ox['S1_School closing'] == 0)] \n",
        "\n",
        "\n",
        "#Nine of the indicators (S1–S7, S12 and S13) take policies such as school closures, travel bans, etc, and are recorded on an ordinal scale\n",
        "#policies = ox[['CountryName', 'Date', 'S1_School closing', 'S2_Workplace closing', 'S3_Cancel public events', 'S3_Cancel public events', 'S4_Close public transport', 'S5_Public information campaigns', 'S6_Restrictions on internal movement', 'S7_International travel controls']]\n",
        "\n",
        "#the others (S8–S11) are financial indicators such as fiscal or monetary measures\n",
        "#financial = ox[['CountryName', 'Date', 'S8_Fiscal measures', 'S9_Monetary measures', 'S10_Emergency investment in health care', 'S11_Investment in Vaccines']]\n",
        "\n",
        "#The tracker aggregates the policy scores (not the financial scores) into a common ‘Stringency Index’.\n",
        "#stringency = ox[['CountryName', 'Date', 'StringencyIndex']]\n",
        "\n",
        "ox_country = (ox['CountryName']).unique()\n",
        "covid_country = (covid['CountryName']).unique()\n",
        "\n"
      ],
      "execution_count": 0,
      "outputs": []
    },
    {
      "cell_type": "code",
      "metadata": {
        "id": "HFU09sJzFVmN",
        "colab_type": "code",
        "colab": {}
      },
      "source": [
        "#Renaming the NaN regional codes to 'Country', since we then can isolate total country level data using this variable\n",
        "\n",
        "covid['RegionCode'] = covid['RegionCode'].fillna('Country')\n"
      ],
      "execution_count": 0,
      "outputs": []
    },
    {
      "cell_type": "code",
      "metadata": {
        "id": "h5sDp-tdsKfR",
        "colab_type": "code",
        "outputId": "29947bcb-b679-47a1-e5c7-e22dc57623ce",
        "colab": {
          "base_uri": "https://localhost:8080/",
          "height": 102
        }
      },
      "source": [
        "\n",
        "print(\"The Covid data has {} unique countries and {} unique dates\".format(len(covid_country),len(covid['Date'].unique())))\n",
        "print(\"The Covid data has start data {} and end date {} \".format(min(covid['Date']),max(covid['Date'])))\n",
        "print(\"The Oxford data has {} unique countries and {} unique dates\".format(len(ox_country),len(ox['Date'].unique())))\n",
        "print(\"The Oxford data has start data {} and end date {} \".format(min(ox['Date']),max(ox['Date'])))\n",
        "print(\"The country in Oxford data that is NOT in Covid data is THIS Function IS MISSING {:10.0f} \".format(len(ox['CountryName'].unique()),len(ox['Date'].unique())))\n",
        "\n",
        "# https://www.dataquest.io/blog/python-datetime-tutorial/ useful link to corect the printed date format\n"
      ],
      "execution_count": 0,
      "outputs": [
        {
          "output_type": "stream",
          "text": [
            "The Covid data has 31 unique countries and 130 unique dates\n",
            "The Covid data has start data 2019-12-30 00:00:00 and end date 2020-05-07 00:00:00 \n",
            "The Oxford data has 33 unique countries and 128 unique dates\n",
            "The Oxford data has start data 2020-01-01 00:00:00 and end date 2020-05-07 00:00:00 \n",
            "The country in Oxford data that is NOT in Covid data is THIS Function IS MISSING         33 \n"
          ],
          "name": "stdout"
        }
      ]
    },
    {
      "cell_type": "code",
      "metadata": {
        "id": "PJDZl_QBo3Dk",
        "colab_type": "code",
        "colab": {}
      },
      "source": [
        "#Creating single country example for test of merging. \n",
        "ox_den = ox[ox['CountryName'] == 'Denmark']\n",
        "covid_den = covid[covid['CountryName'] == 'Denmark']\n",
        "\n",
        "#Creating single country example for merging test.\n",
        "ox_it = ox[ox['CountryCode'] == 'ITA']\n",
        "covid_it = covid[(covid['CountryName'] == 'Italy') & (covid['Key'] == 'IT')]\n"
      ],
      "execution_count": 0,
      "outputs": []
    },
    {
      "cell_type": "code",
      "metadata": {
        "id": "b4CIngeXGLsK",
        "colab_type": "code",
        "colab": {}
      },
      "source": [
        "#reduce the variables that are not being used both in oxford and covid data\n",
        "drop_ox = ['CountryName', 'CountryCode'] \n",
        "ox_it = ox_it.drop(drop_ox, axis=1)\n",
        "\n",
        "drop_covid = ['Key', 'CountryCode'] \n",
        "covid_it = covid_it.drop(drop_covid, axis=1)"
      ],
      "execution_count": 0,
      "outputs": []
    },
    {
      "cell_type": "code",
      "metadata": {
        "id": "tiMPon0u9ov-",
        "colab_type": "code",
        "outputId": "f04e60a5-a6df-476f-c0de-fbad0b2dee64",
        "colab": {
          "base_uri": "https://localhost:8080/",
          "height": 34
        }
      },
      "source": [
        "# Summing total confirmed cases for it to compare against the entire data set \n",
        "it = pd.merge(covid_it,ox_it, how='inner', on='Date')\n",
        "sum(it['Confirmed'])\n"
      ],
      "execution_count": 0,
      "outputs": [
        {
          "output_type": "execute_result",
          "data": {
            "text/plain": [
              "7409055.0"
            ]
          },
          "metadata": {
            "tags": []
          },
          "execution_count": 119
        }
      ]
    },
    {
      "cell_type": "code",
      "metadata": {
        "id": "jTgg_CXDHtsV",
        "colab_type": "code",
        "outputId": "4c9884c8-6a83-4e5f-8738-b1c973d3297a",
        "colab": {
          "base_uri": "https://localhost:8080/",
          "height": 34
        }
      },
      "source": [
        "# Same as above but for DK \n",
        "den = pd.merge(covid_den,ox_den, how='inner', on='Date')\n",
        "sum(den['Confirmed'])"
      ],
      "execution_count": 0,
      "outputs": [
        {
          "output_type": "execute_result",
          "data": {
            "text/plain": [
              "276584.0"
            ]
          },
          "metadata": {
            "tags": []
          },
          "execution_count": 120
        }
      ]
    },
    {
      "cell_type": "code",
      "metadata": {
        "id": "2y3I_Rq6-CJt",
        "colab_type": "code",
        "colab": {}
      },
      "source": [
        "#making a general solution to the above mereging example. oxford_data is the complete data set \n",
        "\n",
        "oxford_data = pd.merge(covid,ox, how='inner', on=['Date', 'CountryName'])\n"
      ],
      "execution_count": 0,
      "outputs": []
    },
    {
      "cell_type": "code",
      "metadata": {
        "id": "WR2aZq0qIsqz",
        "colab_type": "code",
        "outputId": "dbc1b0ef-1f3c-49ce-af17-ea2f0800eb81",
        "colab": {
          "base_uri": "https://localhost:8080/",
          "height": 34
        }
      },
      "source": [
        "#testing that the manual merging example creates the same results as in the oxford_data\n",
        "\n",
        "it_test = oxford_data[(oxford_data['CountryName'] == 'Italy') & (oxford_data['RegionCode'] == 'Country')]\n",
        "sum(it_test['Confirmed'])"
      ],
      "execution_count": 0,
      "outputs": [
        {
          "output_type": "execute_result",
          "data": {
            "text/plain": [
              "7409055.0"
            ]
          },
          "metadata": {
            "tags": []
          },
          "execution_count": 122
        }
      ]
    },
    {
      "cell_type": "code",
      "metadata": {
        "id": "WWmXUTtAIY6U",
        "colab_type": "code",
        "outputId": "dd7084b6-b2bd-485d-c484-dc84ddc003a2",
        "colab": {
          "base_uri": "https://localhost:8080/",
          "height": 360
        }
      },
      "source": [
        "#same as above but for denmark\n",
        "\n",
        "dk_test = oxford_data[(oxford_data['CountryName'] == 'Denmark') & (oxford_data['RegionCode'] == 'Country')]\n",
        "sum(dk_test['Confirmed'])\n",
        "dk_test.head(5)"
      ],
      "execution_count": 0,
      "outputs": [
        {
          "output_type": "execute_result",
          "data": {
            "text/html": [
              "<div>\n",
              "<style scoped>\n",
              "    .dataframe tbody tr th:only-of-type {\n",
              "        vertical-align: middle;\n",
              "    }\n",
              "\n",
              "    .dataframe tbody tr th {\n",
              "        vertical-align: top;\n",
              "    }\n",
              "\n",
              "    .dataframe thead th {\n",
              "        text-align: right;\n",
              "    }\n",
              "</style>\n",
              "<table border=\"1\" class=\"dataframe\">\n",
              "  <thead>\n",
              "    <tr style=\"text-align: right;\">\n",
              "      <th></th>\n",
              "      <th>Date</th>\n",
              "      <th>Key</th>\n",
              "      <th>CountryCode_x</th>\n",
              "      <th>CountryName</th>\n",
              "      <th>RegionCode</th>\n",
              "      <th>RegionName</th>\n",
              "      <th>Confirmed</th>\n",
              "      <th>Deaths</th>\n",
              "      <th>Latitude</th>\n",
              "      <th>Longitude</th>\n",
              "      <th>Population</th>\n",
              "      <th>CountryCode_y</th>\n",
              "      <th>C1_School closing</th>\n",
              "      <th>C1_Flag</th>\n",
              "      <th>C2_Workplace closing</th>\n",
              "      <th>C2_Flag</th>\n",
              "      <th>C3_Cancel public events</th>\n",
              "      <th>C3_Flag</th>\n",
              "      <th>C4_Restrictions on gatherings</th>\n",
              "      <th>C4_Flag</th>\n",
              "      <th>C5_Close public transport</th>\n",
              "      <th>C5_Flag</th>\n",
              "      <th>C6_Stay at home requirements</th>\n",
              "      <th>C6_Flag</th>\n",
              "      <th>C7_Restrictions on internal movement</th>\n",
              "      <th>C7_Flag</th>\n",
              "      <th>C8_International travel controls</th>\n",
              "      <th>E1_Income support</th>\n",
              "      <th>E1_Flag</th>\n",
              "      <th>E2_Debt/contract relief</th>\n",
              "      <th>E3_Fiscal measures</th>\n",
              "      <th>E4_International support</th>\n",
              "      <th>H1_Public information campaigns</th>\n",
              "      <th>H1_Flag</th>\n",
              "      <th>H2_Testing policy</th>\n",
              "      <th>H3_Contact tracing</th>\n",
              "      <th>H4_Emergency investment in healthcare</th>\n",
              "      <th>H5_Investment in vaccines</th>\n",
              "      <th>M1_Wildcard</th>\n",
              "      <th>ConfirmedCases</th>\n",
              "      <th>ConfirmedDeaths</th>\n",
              "      <th>StringencyIndex</th>\n",
              "      <th>StringencyIndexForDisplay</th>\n",
              "      <th>LegacyStringencyIndex</th>\n",
              "      <th>LegacyStringencyIndexForDisplay</th>\n",
              "    </tr>\n",
              "  </thead>\n",
              "  <tbody>\n",
              "    <tr>\n",
              "      <th>8</th>\n",
              "      <td>2020-01-01</td>\n",
              "      <td>DK</td>\n",
              "      <td>DK</td>\n",
              "      <td>Denmark</td>\n",
              "      <td>Country</td>\n",
              "      <td>NaN</td>\n",
              "      <td>0.0</td>\n",
              "      <td>0.0</td>\n",
              "      <td>56.26392</td>\n",
              "      <td>9.501785</td>\n",
              "      <td>5771876.0</td>\n",
              "      <td>DNK</td>\n",
              "      <td>0.0</td>\n",
              "      <td>NaN</td>\n",
              "      <td>0.0</td>\n",
              "      <td>NaN</td>\n",
              "      <td>0.0</td>\n",
              "      <td>NaN</td>\n",
              "      <td>0.0</td>\n",
              "      <td>NaN</td>\n",
              "      <td>0.0</td>\n",
              "      <td>NaN</td>\n",
              "      <td>0.0</td>\n",
              "      <td>NaN</td>\n",
              "      <td>0.0</td>\n",
              "      <td>NaN</td>\n",
              "      <td>0.0</td>\n",
              "      <td>0.0</td>\n",
              "      <td>NaN</td>\n",
              "      <td>0.0</td>\n",
              "      <td>0.0</td>\n",
              "      <td>0.0</td>\n",
              "      <td>0.0</td>\n",
              "      <td>NaN</td>\n",
              "      <td>0.0</td>\n",
              "      <td>0.0</td>\n",
              "      <td>0.0</td>\n",
              "      <td>0.0</td>\n",
              "      <td>NaN</td>\n",
              "      <td>0.0</td>\n",
              "      <td>0.0</td>\n",
              "      <td>0.0</td>\n",
              "      <td>0.0</td>\n",
              "      <td>0.0</td>\n",
              "      <td>0.0</td>\n",
              "    </tr>\n",
              "    <tr>\n",
              "      <th>35</th>\n",
              "      <td>2020-01-02</td>\n",
              "      <td>DK</td>\n",
              "      <td>DK</td>\n",
              "      <td>Denmark</td>\n",
              "      <td>Country</td>\n",
              "      <td>NaN</td>\n",
              "      <td>0.0</td>\n",
              "      <td>0.0</td>\n",
              "      <td>56.26392</td>\n",
              "      <td>9.501785</td>\n",
              "      <td>5771876.0</td>\n",
              "      <td>DNK</td>\n",
              "      <td>0.0</td>\n",
              "      <td>NaN</td>\n",
              "      <td>0.0</td>\n",
              "      <td>NaN</td>\n",
              "      <td>0.0</td>\n",
              "      <td>NaN</td>\n",
              "      <td>0.0</td>\n",
              "      <td>NaN</td>\n",
              "      <td>0.0</td>\n",
              "      <td>NaN</td>\n",
              "      <td>0.0</td>\n",
              "      <td>NaN</td>\n",
              "      <td>0.0</td>\n",
              "      <td>NaN</td>\n",
              "      <td>0.0</td>\n",
              "      <td>0.0</td>\n",
              "      <td>NaN</td>\n",
              "      <td>0.0</td>\n",
              "      <td>0.0</td>\n",
              "      <td>0.0</td>\n",
              "      <td>0.0</td>\n",
              "      <td>NaN</td>\n",
              "      <td>0.0</td>\n",
              "      <td>0.0</td>\n",
              "      <td>0.0</td>\n",
              "      <td>0.0</td>\n",
              "      <td>NaN</td>\n",
              "      <td>0.0</td>\n",
              "      <td>0.0</td>\n",
              "      <td>0.0</td>\n",
              "      <td>0.0</td>\n",
              "      <td>0.0</td>\n",
              "      <td>0.0</td>\n",
              "    </tr>\n",
              "    <tr>\n",
              "      <th>62</th>\n",
              "      <td>2020-01-03</td>\n",
              "      <td>DK</td>\n",
              "      <td>DK</td>\n",
              "      <td>Denmark</td>\n",
              "      <td>Country</td>\n",
              "      <td>NaN</td>\n",
              "      <td>0.0</td>\n",
              "      <td>0.0</td>\n",
              "      <td>56.26392</td>\n",
              "      <td>9.501785</td>\n",
              "      <td>5771876.0</td>\n",
              "      <td>DNK</td>\n",
              "      <td>0.0</td>\n",
              "      <td>NaN</td>\n",
              "      <td>0.0</td>\n",
              "      <td>NaN</td>\n",
              "      <td>0.0</td>\n",
              "      <td>NaN</td>\n",
              "      <td>0.0</td>\n",
              "      <td>NaN</td>\n",
              "      <td>0.0</td>\n",
              "      <td>NaN</td>\n",
              "      <td>0.0</td>\n",
              "      <td>NaN</td>\n",
              "      <td>0.0</td>\n",
              "      <td>NaN</td>\n",
              "      <td>0.0</td>\n",
              "      <td>0.0</td>\n",
              "      <td>NaN</td>\n",
              "      <td>0.0</td>\n",
              "      <td>0.0</td>\n",
              "      <td>0.0</td>\n",
              "      <td>0.0</td>\n",
              "      <td>NaN</td>\n",
              "      <td>0.0</td>\n",
              "      <td>0.0</td>\n",
              "      <td>0.0</td>\n",
              "      <td>0.0</td>\n",
              "      <td>NaN</td>\n",
              "      <td>0.0</td>\n",
              "      <td>0.0</td>\n",
              "      <td>0.0</td>\n",
              "      <td>0.0</td>\n",
              "      <td>0.0</td>\n",
              "      <td>0.0</td>\n",
              "    </tr>\n",
              "    <tr>\n",
              "      <th>89</th>\n",
              "      <td>2020-01-04</td>\n",
              "      <td>DK</td>\n",
              "      <td>DK</td>\n",
              "      <td>Denmark</td>\n",
              "      <td>Country</td>\n",
              "      <td>NaN</td>\n",
              "      <td>0.0</td>\n",
              "      <td>0.0</td>\n",
              "      <td>56.26392</td>\n",
              "      <td>9.501785</td>\n",
              "      <td>5771876.0</td>\n",
              "      <td>DNK</td>\n",
              "      <td>0.0</td>\n",
              "      <td>NaN</td>\n",
              "      <td>0.0</td>\n",
              "      <td>NaN</td>\n",
              "      <td>0.0</td>\n",
              "      <td>NaN</td>\n",
              "      <td>0.0</td>\n",
              "      <td>NaN</td>\n",
              "      <td>0.0</td>\n",
              "      <td>NaN</td>\n",
              "      <td>0.0</td>\n",
              "      <td>NaN</td>\n",
              "      <td>0.0</td>\n",
              "      <td>NaN</td>\n",
              "      <td>0.0</td>\n",
              "      <td>0.0</td>\n",
              "      <td>NaN</td>\n",
              "      <td>0.0</td>\n",
              "      <td>0.0</td>\n",
              "      <td>0.0</td>\n",
              "      <td>0.0</td>\n",
              "      <td>NaN</td>\n",
              "      <td>0.0</td>\n",
              "      <td>0.0</td>\n",
              "      <td>0.0</td>\n",
              "      <td>0.0</td>\n",
              "      <td>NaN</td>\n",
              "      <td>0.0</td>\n",
              "      <td>0.0</td>\n",
              "      <td>0.0</td>\n",
              "      <td>0.0</td>\n",
              "      <td>0.0</td>\n",
              "      <td>0.0</td>\n",
              "    </tr>\n",
              "    <tr>\n",
              "      <th>116</th>\n",
              "      <td>2020-01-05</td>\n",
              "      <td>DK</td>\n",
              "      <td>DK</td>\n",
              "      <td>Denmark</td>\n",
              "      <td>Country</td>\n",
              "      <td>NaN</td>\n",
              "      <td>0.0</td>\n",
              "      <td>0.0</td>\n",
              "      <td>56.26392</td>\n",
              "      <td>9.501785</td>\n",
              "      <td>5771876.0</td>\n",
              "      <td>DNK</td>\n",
              "      <td>0.0</td>\n",
              "      <td>NaN</td>\n",
              "      <td>0.0</td>\n",
              "      <td>NaN</td>\n",
              "      <td>0.0</td>\n",
              "      <td>NaN</td>\n",
              "      <td>0.0</td>\n",
              "      <td>NaN</td>\n",
              "      <td>0.0</td>\n",
              "      <td>NaN</td>\n",
              "      <td>0.0</td>\n",
              "      <td>NaN</td>\n",
              "      <td>0.0</td>\n",
              "      <td>NaN</td>\n",
              "      <td>0.0</td>\n",
              "      <td>0.0</td>\n",
              "      <td>NaN</td>\n",
              "      <td>0.0</td>\n",
              "      <td>0.0</td>\n",
              "      <td>0.0</td>\n",
              "      <td>0.0</td>\n",
              "      <td>NaN</td>\n",
              "      <td>0.0</td>\n",
              "      <td>0.0</td>\n",
              "      <td>0.0</td>\n",
              "      <td>0.0</td>\n",
              "      <td>NaN</td>\n",
              "      <td>0.0</td>\n",
              "      <td>0.0</td>\n",
              "      <td>0.0</td>\n",
              "      <td>0.0</td>\n",
              "      <td>0.0</td>\n",
              "      <td>0.0</td>\n",
              "    </tr>\n",
              "  </tbody>\n",
              "</table>\n",
              "</div>"
            ],
            "text/plain": [
              "          Date Key  ... LegacyStringencyIndex LegacyStringencyIndexForDisplay\n",
              "8   2020-01-01  DK  ...                   0.0                             0.0\n",
              "35  2020-01-02  DK  ...                   0.0                             0.0\n",
              "62  2020-01-03  DK  ...                   0.0                             0.0\n",
              "89  2020-01-04  DK  ...                   0.0                             0.0\n",
              "116 2020-01-05  DK  ...                   0.0                             0.0\n",
              "\n",
              "[5 rows x 45 columns]"
            ]
          },
          "metadata": {
            "tags": []
          },
          "execution_count": 123
        }
      ]
    },
    {
      "cell_type": "code",
      "metadata": {
        "id": "R-31VLWP_nkm",
        "colab_type": "code",
        "outputId": "2abc84ce-d8ad-4f66-c013-361a3aa0363f",
        "colab": {
          "base_uri": "https://localhost:8080/",
          "height": 282
        }
      },
      "source": [
        "import matplotlib.pyplot as plt\n",
        "import numpy as np\n",
        "from pandas import DataFrame\n",
        "\n",
        "\n",
        "fig, ax = plt.subplots()\n",
        "ax3 = ax.twinx()\n",
        "rspine = ax3.spines['right']\n",
        "rspine.set_position(('axes', 1.15))\n",
        "ax3.set_frame_on(True)\n",
        "ax3.patch.set_visible(False)\n",
        "fig.subplots_adjust(right=0.7)\n",
        "\n",
        "dk_test.Confirmed.plot(ax=ax, x=dk_test.Date, style='b-')\n",
        "# same ax as above since it's automatically added on the right\n",
        "dk_test.Deaths.plot(ax=ax, x=dk_test.Date, style='r-', secondary_y=True)\n",
        "dk_test.StringencyIndex.plot(ax=ax3, x=dk_test.Date, style='g-')\n",
        "\n",
        "# add legend --> take advantage of pandas providing us access\n",
        "# to the line associated with the right part of the axis\n",
        "ax3.legend([ax.get_lines()[0], ax.right_ax.get_lines()[0], ax3.get_lines()[0]],\\\n",
        "           ['Confirmed','Deaths','StringencyIndex'], bbox_to_anchor=(2.0, 1.0))"
      ],
      "execution_count": 0,
      "outputs": [
        {
          "output_type": "execute_result",
          "data": {
            "text/plain": [
              "<matplotlib.legend.Legend at 0x7fde7d1c28d0>"
            ]
          },
          "metadata": {
            "tags": []
          },
          "execution_count": 124
        },
        {
          "output_type": "display_data",
          "data": {
            "image/png": "[encoded data removed]",
            "text/plain": [
              "<Figure size 432x288 with 3 Axes>"
            ]
          },
          "metadata": {
            "tags": [],
            "needs_background": "light"
          }
        }
      ]
    },
    {
      "cell_type": "code",
      "metadata": {
        "id": "pQSkV8uyn-h1",
        "colab_type": "code",
        "outputId": "44de3d91-ae30-4aa7-e068-96044b0519d0",
        "colab": {
          "base_uri": "https://localhost:8080/",
          "height": 265
        }
      },
      "source": [
        "import numpy as np\n",
        "import matplotlib.pyplot as plt\n",
        "\n",
        "x = dk_test.Date\n",
        "y1 = dk_test.Confirmed\n",
        "y2 = dk_test.StringencyIndex\n",
        "\n",
        "fig = plt.figure()\n",
        "ax1 = fig.add_subplot(111)\n",
        "ax1.plot(x, y1)\n",
        "ax1.set_ylabel('Confirmed')\n",
        "\n",
        "ax2 = ax1.twinx()\n",
        "ax2.plot(x, y2, 'r-')\n",
        "ax2.set_ylabel('Stringency Index', color='r')\n",
        "for tl in ax2.get_yticklabels():\n",
        "    tl.set_color('r')"
      ],
      "execution_count": 0,
      "outputs": [
        {
          "output_type": "display_data",
          "data": {
            "image/png": "[encoded data removed]",
            "text/plain": [
              "<Figure size 432x288 with 2 Axes>"
            ]
          },
          "metadata": {
            "tags": [],
            "needs_background": "light"
          }
        }
      ]
    },
    {
      "cell_type": "code",
      "metadata": {
        "id": "WX3LLAu6Aszi",
        "colab_type": "code",
        "outputId": "41555881-211f-4e6e-bb49-1ea0772ca7c3",
        "colab": {
          "base_uri": "https://localhost:8080/",
          "height": 265
        }
      },
      "source": [
        "se_test = oxford_data[(oxford_data['CountryName'] == 'Sweden') & (oxford_data['RegionCode'] == 'Country')]\n",
        "\n",
        "\n",
        "x = se_test.Date\n",
        "y1 = se_test.Confirmed\n",
        "y2 = se_test.StringencyIndex\n",
        "\n",
        "fig = plt.figure()\n",
        "ax1 = fig.add_subplot(111)\n",
        "ax1.plot(x, y1)\n",
        "ax1.set_ylabel('Confirmed')\n",
        "\n",
        "ax2 = ax1.twinx()\n",
        "ax2.plot(x, y2, 'r-')\n",
        "ax2.set_ylabel('Stringency Index', color='r')\n",
        "for tl in ax2.get_yticklabels():\n",
        "    tl.set_color('r')\n"
      ],
      "execution_count": 0,
      "outputs": [
        {
          "output_type": "display_data",
          "data": {
            "image/png": "[encoded data removed]",
            "text/plain": [
              "<Figure size 432x288 with 2 Axes>"
            ]
          },
          "metadata": {
            "tags": [],
            "needs_background": "light"
          }
        }
      ]
    },
    {
      "cell_type": "markdown",
      "metadata": {
        "id": "WJf0qiChx2gZ",
        "colab_type": "text"
      },
      "source": [
        "A full description of the strengency index can be found here: \n",
        "\n",
        "https://www.bsg.ox.ac.uk/sites/default/files/Calculation%20and%20presentation%20of%20the%20Stringency%20Index.pdf\n",
        "\n",
        "Additional desciption on a less detailed level: \n",
        "\n",
        "https://www.bsg.ox.ac.uk/research/research-projects/coronavirus-government-response-tracker\n",
        "\n"
      ]
    },
    {
      "cell_type": "markdown",
      "metadata": {
        "id": "kHDlsSuqwkKA",
        "colab_type": "text"
      },
      "source": [
        "equals(self, other)\n",
        "\n",
        "Test whether two objects contain the same elements.\n",
        "\n",
        "https://pandas.pydata.org/docs/getting_started/basics.html\n",
        "\n",
        "\n",
        "https://pandas.pydata.org/pandas-docs/stable/reference/api/pandas.DataFrame.html\n",
        "\n"
      ]
    },
    {
      "cell_type": "code",
      "metadata": {
        "id": "OXmQ5TY226Kq",
        "colab_type": "code",
        "outputId": "206f5791-f755-4e3f-c16c-8bd53fb1b484",
        "colab": {
          "base_uri": "https://localhost:8080/",
          "height": 445
        }
      },
      "source": [
        "# Map plot will start from here: \n",
        "\n",
        "import requests\n",
        "import zipfile\n",
        "\n",
        "\n",
        "def save_file(url, file_name):\n",
        "  r = requests.get(url)\n",
        "  with open(file_name, 'wb') as f:\n",
        "    f.write(r.content)\n",
        "\n",
        "    \n",
        "save_file('https://courses.cs.washington.edu/courses/cse163/19sp/' +\n",
        "          'files/lectures/05-13/data.zip', 'data.zip')\n",
        "save_file('https://courses.cs.washington.edu/courses/cse163/19sp/' +\n",
        "          'files/lectures/05-13/gz_2010_us_040_00_5m.json', \n",
        "          'gz_2010_us_040_00_5m.json')\n",
        "save_file('https://courses.cs.washington.edu/courses/cse163/19sp/' +\n",
        "          'files/lectures/05-13/stormhistory.csv', 'stormhistory.csv')\n",
        "\n",
        "with zipfile.ZipFile(\"data.zip\",\"r\") as zip_ref:\n",
        "    zip_ref.extractall()\n",
        "    \n",
        "!pip install --upgrade geopandas\n",
        "!pip install --upgrade pyshp\n",
        "!pip install --upgrade shapely\n",
        "!pip install --upgrade descartes"
      ],
      "execution_count": 0,
      "outputs": [
        {
          "output_type": "stream",
          "text": [
            "Requirement already up-to-date: geopandas in /usr/local/lib/python3.6/dist-packages (0.7.0)\n",
            "Requirement already satisfied, skipping upgrade: pyproj>=2.2.0 in /usr/local/lib/python3.6/dist-packages (from geopandas) (2.6.1.post1)\n",
            "Requirement already satisfied, skipping upgrade: fiona in /usr/local/lib/python3.6/dist-packages (from geopandas) (1.8.13.post1)\n",
            "Requirement already satisfied, skipping upgrade: pandas>=0.23.0 in /usr/local/lib/python3.6/dist-packages (from geopandas) (1.0.3)\n",
            "Requirement already satisfied, skipping upgrade: shapely in /usr/local/lib/python3.6/dist-packages (from geopandas) (1.7.0)\n",
            "Requirement already satisfied, skipping upgrade: cligj>=0.5 in /usr/local/lib/python3.6/dist-packages (from fiona->geopandas) (0.5.0)\n",
            "Requirement already satisfied, skipping upgrade: attrs>=17 in /usr/local/lib/python3.6/dist-packages (from fiona->geopandas) (19.3.0)\n",
            "Requirement already satisfied, skipping upgrade: click-plugins>=1.0 in /usr/local/lib/python3.6/dist-packages (from fiona->geopandas) (1.1.1)\n",
            "Requirement already satisfied, skipping upgrade: six>=1.7 in /usr/local/lib/python3.6/dist-packages (from fiona->geopandas) (1.12.0)\n",
            "Requirement already satisfied, skipping upgrade: click<8,>=4.0 in /usr/local/lib/python3.6/dist-packages (from fiona->geopandas) (7.1.2)\n",
            "Requirement already satisfied, skipping upgrade: munch in /usr/local/lib/python3.6/dist-packages (from fiona->geopandas) (2.5.0)\n",
            "Requirement already satisfied, skipping upgrade: numpy>=1.13.3 in /usr/local/lib/python3.6/dist-packages (from pandas>=0.23.0->geopandas) (1.18.3)\n",
            "Requirement already satisfied, skipping upgrade: python-dateutil>=2.6.1 in /usr/local/lib/python3.6/dist-packages (from pandas>=0.23.0->geopandas) (2.8.1)\n",
            "Requirement already satisfied, skipping upgrade: pytz>=2017.2 in /usr/local/lib/python3.6/dist-packages (from pandas>=0.23.0->geopandas) (2018.9)\n",
            "Requirement already up-to-date: pyshp in /usr/local/lib/python3.6/dist-packages (2.1.0)\n",
            "Requirement already up-to-date: shapely in /usr/local/lib/python3.6/dist-packages (1.7.0)\n",
            "Requirement already up-to-date: descartes in /usr/local/lib/python3.6/dist-packages (1.1.0)\n",
            "Requirement already satisfied, skipping upgrade: matplotlib in /usr/local/lib/python3.6/dist-packages (from descartes) (3.2.1)\n",
            "Requirement already satisfied, skipping upgrade: cycler>=0.10 in /usr/local/lib/python3.6/dist-packages (from matplotlib->descartes) (0.10.0)\n",
            "Requirement already satisfied, skipping upgrade: pyparsing!=2.0.4,!=2.1.2,!=2.1.6,>=2.0.1 in /usr/local/lib/python3.6/dist-packages (from matplotlib->descartes) (2.4.7)\n",
            "Requirement already satisfied, skipping upgrade: numpy>=1.11 in /usr/local/lib/python3.6/dist-packages (from matplotlib->descartes) (1.18.3)\n",
            "Requirement already satisfied, skipping upgrade: python-dateutil>=2.1 in /usr/local/lib/python3.6/dist-packages (from matplotlib->descartes) (2.8.1)\n",
            "Requirement already satisfied, skipping upgrade: kiwisolver>=1.0.1 in /usr/local/lib/python3.6/dist-packages (from matplotlib->descartes) (1.2.0)\n",
            "Requirement already satisfied, skipping upgrade: six in /usr/local/lib/python3.6/dist-packages (from cycler>=0.10->matplotlib->descartes) (1.12.0)\n"
          ],
          "name": "stdout"
        }
      ]
    },
    {
      "cell_type": "code",
      "metadata": {
        "id": "wMcfaOWI3OY0",
        "colab_type": "code",
        "colab": {}
      },
      "source": [
        "%matplotlib inline\n",
        "import pandas as pd\n",
        "import geopandas as gpd\n",
        "import matplotlib.pyplot as plt"
      ],
      "execution_count": 0,
      "outputs": []
    },
    {
      "cell_type": "code",
      "metadata": {
        "id": "rAVZAm5D38JT",
        "colab_type": "code",
        "colab": {}
      },
      "source": [
        "#pre-selecting colums of interest from .shp file\n",
        "countries = gpd.read_file('data/ne_110m_admin_0_countries.shp')[['ADMIN', 'ADM0_A3', 'geometry']]\n",
        "\n",
        "#re-naming columns of interest \n",
        "countries.columns = ['country', 'country_code', 'geometry']\n",
        "countries.head()\n",
        "\n",
        "countries = countries.replace(['United States of America', \n",
        "                   'South Korea',\n",
        "                   'United Kingdom'\n",
        "                          ],\n",
        "                          ['US',\n",
        "                           'Korea, South',\n",
        "                           'United Kingdom'\n",
        "                          ])\n",
        "\n",
        "countries = countries.drop(countries.index[159])"
      ],
      "execution_count": 0,
      "outputs": []
    },
    {
      "cell_type": "markdown",
      "metadata": {
        "id": "ifO_qx2J_L8N",
        "colab_type": "text"
      },
      "source": [
        ""
      ]
    },
    {
      "cell_type": "code",
      "metadata": {
        "id": "wx2a3iTB8QZX",
        "colab_type": "code",
        "outputId": "8be49386-d3b0-453e-a1d3-ba636f320ce6",
        "colab": {
          "base_uri": "https://localhost:8080/",
          "height": 168
        }
      },
      "source": [
        "oxford_data.head(1)"
      ],
      "execution_count": 0,
      "outputs": [
        {
          "output_type": "execute_result",
          "data": {
            "text/html": [
              "<div>\n",
              "<style scoped>\n",
              "    .dataframe tbody tr th:only-of-type {\n",
              "        vertical-align: middle;\n",
              "    }\n",
              "\n",
              "    .dataframe tbody tr th {\n",
              "        vertical-align: top;\n",
              "    }\n",
              "\n",
              "    .dataframe thead th {\n",
              "        text-align: right;\n",
              "    }\n",
              "</style>\n",
              "<table border=\"1\" class=\"dataframe\">\n",
              "  <thead>\n",
              "    <tr style=\"text-align: right;\">\n",
              "      <th></th>\n",
              "      <th>Date</th>\n",
              "      <th>Key</th>\n",
              "      <th>CountryCode_x</th>\n",
              "      <th>CountryName</th>\n",
              "      <th>RegionCode</th>\n",
              "      <th>RegionName</th>\n",
              "      <th>Confirmed</th>\n",
              "      <th>Deaths</th>\n",
              "      <th>Latitude</th>\n",
              "      <th>Longitude</th>\n",
              "      <th>Population</th>\n",
              "      <th>CountryCode_y</th>\n",
              "      <th>C1_School closing</th>\n",
              "      <th>C1_Flag</th>\n",
              "      <th>C2_Workplace closing</th>\n",
              "      <th>C2_Flag</th>\n",
              "      <th>C3_Cancel public events</th>\n",
              "      <th>C3_Flag</th>\n",
              "      <th>C4_Restrictions on gatherings</th>\n",
              "      <th>C4_Flag</th>\n",
              "      <th>C5_Close public transport</th>\n",
              "      <th>C5_Flag</th>\n",
              "      <th>C6_Stay at home requirements</th>\n",
              "      <th>C6_Flag</th>\n",
              "      <th>C7_Restrictions on internal movement</th>\n",
              "      <th>C7_Flag</th>\n",
              "      <th>C8_International travel controls</th>\n",
              "      <th>E1_Income support</th>\n",
              "      <th>E1_Flag</th>\n",
              "      <th>E2_Debt/contract relief</th>\n",
              "      <th>E3_Fiscal measures</th>\n",
              "      <th>E4_International support</th>\n",
              "      <th>H1_Public information campaigns</th>\n",
              "      <th>H1_Flag</th>\n",
              "      <th>H2_Testing policy</th>\n",
              "      <th>H3_Contact tracing</th>\n",
              "      <th>H4_Emergency investment in healthcare</th>\n",
              "      <th>H5_Investment in vaccines</th>\n",
              "      <th>M1_Wildcard</th>\n",
              "      <th>ConfirmedCases</th>\n",
              "      <th>ConfirmedDeaths</th>\n",
              "      <th>StringencyIndex</th>\n",
              "      <th>StringencyIndexForDisplay</th>\n",
              "      <th>LegacyStringencyIndex</th>\n",
              "      <th>LegacyStringencyIndexForDisplay</th>\n",
              "    </tr>\n",
              "  </thead>\n",
              "  <tbody>\n",
              "    <tr>\n",
              "      <th>0</th>\n",
              "      <td>2020-01-01</td>\n",
              "      <td>AT</td>\n",
              "      <td>AT</td>\n",
              "      <td>Austria</td>\n",
              "      <td>Country</td>\n",
              "      <td>NaN</td>\n",
              "      <td>0.0</td>\n",
              "      <td>0.0</td>\n",
              "      <td>47.516231</td>\n",
              "      <td>14.550072</td>\n",
              "      <td>8955102.0</td>\n",
              "      <td>AUT</td>\n",
              "      <td>0.0</td>\n",
              "      <td>NaN</td>\n",
              "      <td>0.0</td>\n",
              "      <td>NaN</td>\n",
              "      <td>0.0</td>\n",
              "      <td>NaN</td>\n",
              "      <td>0.0</td>\n",
              "      <td>NaN</td>\n",
              "      <td>0.0</td>\n",
              "      <td>NaN</td>\n",
              "      <td>0.0</td>\n",
              "      <td>NaN</td>\n",
              "      <td>0.0</td>\n",
              "      <td>NaN</td>\n",
              "      <td>0.0</td>\n",
              "      <td>0.0</td>\n",
              "      <td>NaN</td>\n",
              "      <td>0.0</td>\n",
              "      <td>0.0</td>\n",
              "      <td>0.0</td>\n",
              "      <td>0.0</td>\n",
              "      <td>NaN</td>\n",
              "      <td>1.0</td>\n",
              "      <td>NaN</td>\n",
              "      <td>0.0</td>\n",
              "      <td>0.0</td>\n",
              "      <td>NaN</td>\n",
              "      <td>0.0</td>\n",
              "      <td>0.0</td>\n",
              "      <td>0.0</td>\n",
              "      <td>0.0</td>\n",
              "      <td>0.0</td>\n",
              "      <td>0.0</td>\n",
              "    </tr>\n",
              "  </tbody>\n",
              "</table>\n",
              "</div>"
            ],
            "text/plain": [
              "        Date Key  ... LegacyStringencyIndex LegacyStringencyIndexForDisplay\n",
              "0 2020-01-01  AT  ...                   0.0                             0.0\n",
              "\n",
              "[1 rows x 45 columns]"
            ]
          },
          "metadata": {
            "tags": []
          },
          "execution_count": 18
        }
      ]
    },
    {
      "cell_type": "code",
      "metadata": {
        "id": "1aSXWn2k7M_P",
        "colab_type": "code",
        "colab": {}
      },
      "source": [
        "# merging of the .shp and stringency df (oxford_data)\n",
        "\n",
        "merged = countries.merge(oxford_data, left_on = 'country', right_on = 'CountryName', how = 'left')\n",
        "#merged[merged['country'] == 'Denmark']"
      ],
      "execution_count": 0,
      "outputs": []
    },
    {
      "cell_type": "code",
      "metadata": {
        "id": "uT7bsQzd-0TA",
        "colab_type": "code",
        "outputId": "5261cbae-b494-4f69-dabf-d2668e9bbc2b",
        "colab": {
          "base_uri": "https://localhost:8080/",
          "height": 34
        }
      },
      "source": [
        "merged_single_date = merged[(merged['Date'] == '2020-05-02') & (merged['RegionCode'] == 'Country')]\n",
        "\n",
        "\n",
        "#selecting columns of interest\n",
        "\n",
        "merged_single_date2 = merged_single_date['country']\n",
        "merged_single_date['LegacyStringencyIndexForDisplay'].dtype"
      ],
      "execution_count": 0,
      "outputs": [
        {
          "output_type": "execute_result",
          "data": {
            "text/plain": [
              "dtype('float64')"
            ]
          },
          "metadata": {
            "tags": []
          },
          "execution_count": 131
        }
      ]
    },
    {
      "cell_type": "code",
      "metadata": {
        "id": "ZzqfZlZe84Gb",
        "colab_type": "code",
        "outputId": "96c297f8-6042-4115-95da-d6d65384b8e9",
        "colab": {
          "base_uri": "https://localhost:8080/",
          "height": 683
        }
      },
      "source": [
        "#Replace NaN values to string 'No data'.\n",
        "merged_single_date.fillna('No data', inplace = True)\n",
        "merged_single_date.sort_values(by=\"country\").tail(5)"
      ],
      "execution_count": 0,
      "outputs": [
        {
          "output_type": "stream",
          "text": [
            "/usr/local/lib/python3.6/dist-packages/pandas/core/frame.py:4153: SettingWithCopyWarning: \n",
            "A value is trying to be set on a copy of a slice from a DataFrame\n",
            "\n",
            "See the caveats in the documentation: https://pandas.pydata.org/pandas-docs/stable/user_guide/indexing.html#returning-a-view-versus-a-copy\n",
            "  downcast=downcast,\n"
          ],
          "name": "stderr"
        },
        {
          "output_type": "execute_result",
          "data": {
            "text/html": [
              "<div>\n",
              "<style scoped>\n",
              "    .dataframe tbody tr th:only-of-type {\n",
              "        vertical-align: middle;\n",
              "    }\n",
              "\n",
              "    .dataframe tbody tr th {\n",
              "        vertical-align: top;\n",
              "    }\n",
              "\n",
              "    .dataframe thead th {\n",
              "        text-align: right;\n",
              "    }\n",
              "</style>\n",
              "<table border=\"1\" class=\"dataframe\">\n",
              "  <thead>\n",
              "    <tr style=\"text-align: right;\">\n",
              "      <th></th>\n",
              "      <th>country</th>\n",
              "      <th>country_code</th>\n",
              "      <th>geometry</th>\n",
              "      <th>Date</th>\n",
              "      <th>Key</th>\n",
              "      <th>CountryCode_x</th>\n",
              "      <th>CountryName</th>\n",
              "      <th>RegionCode</th>\n",
              "      <th>RegionName</th>\n",
              "      <th>Confirmed</th>\n",
              "      <th>Deaths</th>\n",
              "      <th>Latitude</th>\n",
              "      <th>Longitude</th>\n",
              "      <th>Population</th>\n",
              "      <th>CountryCode_y</th>\n",
              "      <th>C1_School closing</th>\n",
              "      <th>C1_Flag</th>\n",
              "      <th>C2_Workplace closing</th>\n",
              "      <th>C2_Flag</th>\n",
              "      <th>C3_Cancel public events</th>\n",
              "      <th>C3_Flag</th>\n",
              "      <th>C4_Restrictions on gatherings</th>\n",
              "      <th>C4_Flag</th>\n",
              "      <th>C5_Close public transport</th>\n",
              "      <th>C5_Flag</th>\n",
              "      <th>C6_Stay at home requirements</th>\n",
              "      <th>C6_Flag</th>\n",
              "      <th>C7_Restrictions on internal movement</th>\n",
              "      <th>C7_Flag</th>\n",
              "      <th>C8_International travel controls</th>\n",
              "      <th>E1_Income support</th>\n",
              "      <th>E1_Flag</th>\n",
              "      <th>E2_Debt/contract relief</th>\n",
              "      <th>E3_Fiscal measures</th>\n",
              "      <th>E4_International support</th>\n",
              "      <th>H1_Public information campaigns</th>\n",
              "      <th>H1_Flag</th>\n",
              "      <th>H2_Testing policy</th>\n",
              "      <th>H3_Contact tracing</th>\n",
              "      <th>H4_Emergency investment in healthcare</th>\n",
              "      <th>H5_Investment in vaccines</th>\n",
              "      <th>M1_Wildcard</th>\n",
              "      <th>ConfirmedCases</th>\n",
              "      <th>ConfirmedDeaths</th>\n",
              "      <th>StringencyIndex</th>\n",
              "      <th>StringencyIndexForDisplay</th>\n",
              "      <th>LegacyStringencyIndex</th>\n",
              "      <th>LegacyStringencyIndexForDisplay</th>\n",
              "    </tr>\n",
              "  </thead>\n",
              "  <tbody>\n",
              "    <tr>\n",
              "      <th>19045</th>\n",
              "      <td>Spain</td>\n",
              "      <td>ESP</td>\n",
              "      <td>POLYGON ((-7.45373 37.09779, -7.53711 37.42890...</td>\n",
              "      <td>2020-05-02</td>\n",
              "      <td>ES</td>\n",
              "      <td>ES</td>\n",
              "      <td>Spain</td>\n",
              "      <td>Country</td>\n",
              "      <td>No data</td>\n",
              "      <td>246271.0</td>\n",
              "      <td>25100.0</td>\n",
              "      <td>40.463667</td>\n",
              "      <td>-3.749220</td>\n",
              "      <td>46736776.0</td>\n",
              "      <td>ESP</td>\n",
              "      <td>No data</td>\n",
              "      <td>No data</td>\n",
              "      <td>No data</td>\n",
              "      <td>No data</td>\n",
              "      <td>No data</td>\n",
              "      <td>No data</td>\n",
              "      <td>No data</td>\n",
              "      <td>No data</td>\n",
              "      <td>No data</td>\n",
              "      <td>No data</td>\n",
              "      <td>No data</td>\n",
              "      <td>No data</td>\n",
              "      <td>No data</td>\n",
              "      <td>No data</td>\n",
              "      <td>No data</td>\n",
              "      <td>No data</td>\n",
              "      <td>No data</td>\n",
              "      <td>No data</td>\n",
              "      <td>No data</td>\n",
              "      <td>No data</td>\n",
              "      <td>No data</td>\n",
              "      <td>No data</td>\n",
              "      <td>No data</td>\n",
              "      <td>No data</td>\n",
              "      <td>No data</td>\n",
              "      <td>No data</td>\n",
              "      <td>No data</td>\n",
              "      <td>216582.0</td>\n",
              "      <td>25100.0</td>\n",
              "      <td>No data</td>\n",
              "      <td>89.41</td>\n",
              "      <td>No data</td>\n",
              "      <td>88.81</td>\n",
              "    </tr>\n",
              "    <tr>\n",
              "      <th>13381</th>\n",
              "      <td>Sweden</td>\n",
              "      <td>SWE</td>\n",
              "      <td>POLYGON ((11.02737 58.85615, 11.46827 59.43239...</td>\n",
              "      <td>2020-05-02</td>\n",
              "      <td>SE</td>\n",
              "      <td>SE</td>\n",
              "      <td>Sweden</td>\n",
              "      <td>Country</td>\n",
              "      <td>No data</td>\n",
              "      <td>22082.0</td>\n",
              "      <td>2669.0</td>\n",
              "      <td>60.128161</td>\n",
              "      <td>18.643501</td>\n",
              "      <td>10036379.0</td>\n",
              "      <td>SWE</td>\n",
              "      <td>No data</td>\n",
              "      <td>No data</td>\n",
              "      <td>No data</td>\n",
              "      <td>No data</td>\n",
              "      <td>No data</td>\n",
              "      <td>No data</td>\n",
              "      <td>No data</td>\n",
              "      <td>No data</td>\n",
              "      <td>No data</td>\n",
              "      <td>No data</td>\n",
              "      <td>No data</td>\n",
              "      <td>No data</td>\n",
              "      <td>No data</td>\n",
              "      <td>No data</td>\n",
              "      <td>No data</td>\n",
              "      <td>No data</td>\n",
              "      <td>No data</td>\n",
              "      <td>1</td>\n",
              "      <td>No data</td>\n",
              "      <td>No data</td>\n",
              "      <td>No data</td>\n",
              "      <td>No data</td>\n",
              "      <td>No data</td>\n",
              "      <td>No data</td>\n",
              "      <td>No data</td>\n",
              "      <td>No data</td>\n",
              "      <td>No data</td>\n",
              "      <td>21520.0</td>\n",
              "      <td>2653.0</td>\n",
              "      <td>No data</td>\n",
              "      <td>47.35</td>\n",
              "      <td>No data</td>\n",
              "      <td>58.10</td>\n",
              "    </tr>\n",
              "    <tr>\n",
              "      <th>16895</th>\n",
              "      <td>Switzerland</td>\n",
              "      <td>CHE</td>\n",
              "      <td>POLYGON ((9.59423 47.52506, 9.63293 47.34760, ...</td>\n",
              "      <td>2020-05-02</td>\n",
              "      <td>CH</td>\n",
              "      <td>CH</td>\n",
              "      <td>Switzerland</td>\n",
              "      <td>Country</td>\n",
              "      <td>No data</td>\n",
              "      <td>29734.0</td>\n",
              "      <td>1466.0</td>\n",
              "      <td>46.818188</td>\n",
              "      <td>8.227512</td>\n",
              "      <td>8591365.0</td>\n",
              "      <td>CHE</td>\n",
              "      <td>3</td>\n",
              "      <td>1</td>\n",
              "      <td>2</td>\n",
              "      <td>1</td>\n",
              "      <td>2</td>\n",
              "      <td>1</td>\n",
              "      <td>4</td>\n",
              "      <td>1</td>\n",
              "      <td>0</td>\n",
              "      <td>No data</td>\n",
              "      <td>1</td>\n",
              "      <td>1</td>\n",
              "      <td>1</td>\n",
              "      <td>1</td>\n",
              "      <td>3</td>\n",
              "      <td>No data</td>\n",
              "      <td>No data</td>\n",
              "      <td>No data</td>\n",
              "      <td>No data</td>\n",
              "      <td>No data</td>\n",
              "      <td>2</td>\n",
              "      <td>1</td>\n",
              "      <td>1</td>\n",
              "      <td>1</td>\n",
              "      <td>0</td>\n",
              "      <td>0</td>\n",
              "      <td>No data</td>\n",
              "      <td>29622.0</td>\n",
              "      <td>1434.0</td>\n",
              "      <td>74.2</td>\n",
              "      <td>74.20</td>\n",
              "      <td>71.67</td>\n",
              "      <td>71.67</td>\n",
              "    </tr>\n",
              "    <tr>\n",
              "      <th>22487</th>\n",
              "      <td>Taiwan</td>\n",
              "      <td>TWN</td>\n",
              "      <td>POLYGON ((121.77782 24.39427, 121.17563 22.790...</td>\n",
              "      <td>2020-05-02</td>\n",
              "      <td>TW</td>\n",
              "      <td>TW</td>\n",
              "      <td>Taiwan</td>\n",
              "      <td>Country</td>\n",
              "      <td>No data</td>\n",
              "      <td>432.0</td>\n",
              "      <td>6.0</td>\n",
              "      <td>23.697810</td>\n",
              "      <td>120.960515</td>\n",
              "      <td>23773876.0</td>\n",
              "      <td>TWN</td>\n",
              "      <td>0</td>\n",
              "      <td>No data</td>\n",
              "      <td>0</td>\n",
              "      <td>No data</td>\n",
              "      <td>1</td>\n",
              "      <td>1</td>\n",
              "      <td>0</td>\n",
              "      <td>No data</td>\n",
              "      <td>0</td>\n",
              "      <td>No data</td>\n",
              "      <td>0</td>\n",
              "      <td>No data</td>\n",
              "      <td>0</td>\n",
              "      <td>No data</td>\n",
              "      <td>4</td>\n",
              "      <td>No data</td>\n",
              "      <td>No data</td>\n",
              "      <td>No data</td>\n",
              "      <td>No data</td>\n",
              "      <td>No data</td>\n",
              "      <td>2</td>\n",
              "      <td>1</td>\n",
              "      <td>2</td>\n",
              "      <td>2</td>\n",
              "      <td>0</td>\n",
              "      <td>0</td>\n",
              "      <td>No data</td>\n",
              "      <td>429.0</td>\n",
              "      <td>6.0</td>\n",
              "      <td>29.36</td>\n",
              "      <td>29.36</td>\n",
              "      <td>35.24</td>\n",
              "      <td>35.24</td>\n",
              "    </tr>\n",
              "    <tr>\n",
              "      <th>24781</th>\n",
              "      <td>United Kingdom</td>\n",
              "      <td>GBR</td>\n",
              "      <td>MULTIPOLYGON (((-6.19788 53.86757, -6.95373 54...</td>\n",
              "      <td>2020-05-02</td>\n",
              "      <td>GB</td>\n",
              "      <td>GB</td>\n",
              "      <td>United Kingdom</td>\n",
              "      <td>Country</td>\n",
              "      <td>No data</td>\n",
              "      <td>182260.0</td>\n",
              "      <td>28131.0</td>\n",
              "      <td>55.378051</td>\n",
              "      <td>-3.435973</td>\n",
              "      <td>67530172.0</td>\n",
              "      <td>GBR</td>\n",
              "      <td>No data</td>\n",
              "      <td>No data</td>\n",
              "      <td>No data</td>\n",
              "      <td>No data</td>\n",
              "      <td>No data</td>\n",
              "      <td>No data</td>\n",
              "      <td>No data</td>\n",
              "      <td>No data</td>\n",
              "      <td>No data</td>\n",
              "      <td>No data</td>\n",
              "      <td>No data</td>\n",
              "      <td>No data</td>\n",
              "      <td>No data</td>\n",
              "      <td>No data</td>\n",
              "      <td>No data</td>\n",
              "      <td>No data</td>\n",
              "      <td>No data</td>\n",
              "      <td>No data</td>\n",
              "      <td>No data</td>\n",
              "      <td>No data</td>\n",
              "      <td>No data</td>\n",
              "      <td>No data</td>\n",
              "      <td>No data</td>\n",
              "      <td>No data</td>\n",
              "      <td>No data</td>\n",
              "      <td>No data</td>\n",
              "      <td>No data</td>\n",
              "      <td>177454.0</td>\n",
              "      <td>27510.0</td>\n",
              "      <td>No data</td>\n",
              "      <td>82.27</td>\n",
              "      <td>No data</td>\n",
              "      <td>80.95</td>\n",
              "    </tr>\n",
              "  </tbody>\n",
              "</table>\n",
              "</div>"
            ],
            "text/plain": [
              "              country  ... LegacyStringencyIndexForDisplay\n",
              "19045           Spain  ...                           88.81\n",
              "13381          Sweden  ...                           58.10\n",
              "16895     Switzerland  ...                           71.67\n",
              "22487          Taiwan  ...                           35.24\n",
              "24781  United Kingdom  ...                           80.95\n",
              "\n",
              "[5 rows x 48 columns]"
            ]
          },
          "metadata": {
            "tags": []
          },
          "execution_count": 132
        }
      ]
    },
    {
      "cell_type": "code",
      "metadata": {
        "id": "4Y8ujgmK6z9Z",
        "colab_type": "code",
        "outputId": "e6ec6153-dbdf-4867-bec9-1988a3bb0c14",
        "colab": {
          "base_uri": "https://localhost:8080/",
          "height": 275
        }
      },
      "source": [
        "!pip install --upgrade pandas_bokeh"
      ],
      "execution_count": 0,
      "outputs": [
        {
          "output_type": "stream",
          "text": [
            "Requirement already up-to-date: pandas_bokeh in /usr/local/lib/python3.6/dist-packages (0.4.2)\n",
            "Requirement already satisfied, skipping upgrade: pandas>=0.22.0 in /usr/local/lib/python3.6/dist-packages (from pandas_bokeh) (1.0.3)\n",
            "Requirement already satisfied, skipping upgrade: bokeh>=0.13 in /usr/local/lib/python3.6/dist-packages (from pandas_bokeh) (1.4.0)\n",
            "Requirement already satisfied, skipping upgrade: pytz>=2017.2 in /usr/local/lib/python3.6/dist-packages (from pandas>=0.22.0->pandas_bokeh) (2018.9)\n",
            "Requirement already satisfied, skipping upgrade: python-dateutil>=2.6.1 in /usr/local/lib/python3.6/dist-packages (from pandas>=0.22.0->pandas_bokeh) (2.8.1)\n",
            "Requirement already satisfied, skipping upgrade: numpy>=1.13.3 in /usr/local/lib/python3.6/dist-packages (from pandas>=0.22.0->pandas_bokeh) (1.18.3)\n",
            "Requirement already satisfied, skipping upgrade: PyYAML>=3.10 in /usr/local/lib/python3.6/dist-packages (from bokeh>=0.13->pandas_bokeh) (3.13)\n",
            "Requirement already satisfied, skipping upgrade: tornado>=4.3 in /usr/local/lib/python3.6/dist-packages (from bokeh>=0.13->pandas_bokeh) (4.5.3)\n",
            "Requirement already satisfied, skipping upgrade: six>=1.5.2 in /usr/local/lib/python3.6/dist-packages (from bokeh>=0.13->pandas_bokeh) (1.12.0)\n",
            "Requirement already satisfied, skipping upgrade: Jinja2>=2.7 in /usr/local/lib/python3.6/dist-packages (from bokeh>=0.13->pandas_bokeh) (2.11.2)\n",
            "Requirement already satisfied, skipping upgrade: pillow>=4.0 in /usr/local/lib/python3.6/dist-packages (from bokeh>=0.13->pandas_bokeh) (7.0.0)\n",
            "Requirement already satisfied, skipping upgrade: packaging>=16.8 in /usr/local/lib/python3.6/dist-packages (from bokeh>=0.13->pandas_bokeh) (20.3)\n",
            "Requirement already satisfied, skipping upgrade: MarkupSafe>=0.23 in /usr/local/lib/python3.6/dist-packages (from Jinja2>=2.7->bokeh>=0.13->pandas_bokeh) (1.1.1)\n",
            "Requirement already satisfied, skipping upgrade: pyparsing>=2.0.2 in /usr/local/lib/python3.6/dist-packages (from packaging>=16.8->bokeh>=0.13->pandas_bokeh) (2.4.7)\n"
          ],
          "name": "stdout"
        }
      ]
    },
    {
      "cell_type": "code",
      "metadata": {
        "id": "bFRhYM7h6e-X",
        "colab_type": "code",
        "outputId": "602d344b-6a11-4b7d-ad89-2f7aad494180",
        "colab": {
          "base_uri": "https://localhost:8080/",
          "height": 233
        }
      },
      "source": [
        "import requests\n",
        "import geopandas as gpd\n",
        "import pandas as pd\n",
        "import pandas_bokeh\n",
        "pandas_bokeh.output_notebook()\n",
        "\n",
        "#Download GeoJSON example data:\n",
        "\n",
        "df_states = gpd.read_file(r\"https://raw.githubusercontent.com/PatrikHlobil/Pandas-Bokeh/master/docs/Testdata/states/states.geojson\")\n",
        "df_states.head(2)\n",
        "    \n",
        "#Read in GeoJSON:\n",
        "#df_states.plot_bokeh()\n"
      ],
      "execution_count": 0,
      "outputs": [
        {
          "output_type": "execute_result",
          "data": {
            "text/html": [
              "<div>\n",
              "<style scoped>\n",
              "    .dataframe tbody tr th:only-of-type {\n",
              "        vertical-align: middle;\n",
              "    }\n",
              "\n",
              "    .dataframe tbody tr th {\n",
              "        vertical-align: top;\n",
              "    }\n",
              "\n",
              "    .dataframe thead th {\n",
              "        text-align: right;\n",
              "    }\n",
              "</style>\n",
              "<table border=\"1\" class=\"dataframe\">\n",
              "  <thead>\n",
              "    <tr style=\"text-align: right;\">\n",
              "      <th></th>\n",
              "      <th>STATE_NAME</th>\n",
              "      <th>REGION</th>\n",
              "      <th>POPESTIMATE2010</th>\n",
              "      <th>POPESTIMATE2011</th>\n",
              "      <th>POPESTIMATE2012</th>\n",
              "      <th>POPESTIMATE2013</th>\n",
              "      <th>POPESTIMATE2014</th>\n",
              "      <th>POPESTIMATE2015</th>\n",
              "      <th>POPESTIMATE2016</th>\n",
              "      <th>POPESTIMATE2017</th>\n",
              "      <th>geometry</th>\n",
              "    </tr>\n",
              "  </thead>\n",
              "  <tbody>\n",
              "    <tr>\n",
              "      <th>0</th>\n",
              "      <td>Hawaii</td>\n",
              "      <td>4</td>\n",
              "      <td>1363817</td>\n",
              "      <td>1378323</td>\n",
              "      <td>1392772</td>\n",
              "      <td>1408038</td>\n",
              "      <td>1417710</td>\n",
              "      <td>1426320</td>\n",
              "      <td>1428683</td>\n",
              "      <td>1427538</td>\n",
              "      <td>MULTIPOLYGON (((-160.07380 22.00418, -160.0497...</td>\n",
              "    </tr>\n",
              "    <tr>\n",
              "      <th>1</th>\n",
              "      <td>Washington</td>\n",
              "      <td>4</td>\n",
              "      <td>6741386</td>\n",
              "      <td>6819155</td>\n",
              "      <td>6890899</td>\n",
              "      <td>6963410</td>\n",
              "      <td>7046931</td>\n",
              "      <td>7152818</td>\n",
              "      <td>7280934</td>\n",
              "      <td>7405743</td>\n",
              "      <td>MULTIPOLYGON (((-122.40202 48.22522, -122.4628...</td>\n",
              "    </tr>\n",
              "  </tbody>\n",
              "</table>\n",
              "</div>"
            ],
            "text/plain": [
              "   STATE_NAME  ...                                           geometry\n",
              "0      Hawaii  ...  MULTIPOLYGON (((-160.07380 22.00418, -160.0497...\n",
              "1  Washington  ...  MULTIPOLYGON (((-122.40202 48.22522, -122.4628...\n",
              "\n",
              "[2 rows x 11 columns]"
            ]
          },
          "metadata": {
            "tags": []
          },
          "execution_count": 134
        }
      ]
    },
    {
      "cell_type": "code",
      "metadata": {
        "id": "k7KGrgZvAvzW",
        "colab_type": "code",
        "colab": {}
      },
      "source": [
        "# create oxford_data as geojson file"
      ],
      "execution_count": 0,
      "outputs": []
    },
    {
      "cell_type": "code",
      "metadata": {
        "id": "gBpqP92MA2I0",
        "colab_type": "code",
        "colab": {}
      },
      "source": [
        "import json\n",
        "\n"
      ],
      "execution_count": 0,
      "outputs": []
    },
    {
      "cell_type": "code",
      "metadata": {
        "id": "0zke0e2PR-ax",
        "colab_type": "code",
        "outputId": "97cadb9c-4c8a-4665-98c2-4b6d6aadca83",
        "colab": {
          "base_uri": "https://localhost:8080/",
          "height": 850
        }
      },
      "source": [
        "#Read data to json\n",
        "#merged_json = json.loads(merged_single_date.to_json())\n",
        "\n",
        "#Convert to str like object\n",
        "#json_data = json.dumps(merged_json)\n",
        "\n",
        "merged_single_date.dtypes"
      ],
      "execution_count": 0,
      "outputs": [
        {
          "output_type": "execute_result",
          "data": {
            "text/plain": [
              "country                                          object\n",
              "country_code                                     object\n",
              "geometry                                       geometry\n",
              "Date                                     datetime64[ns]\n",
              "Key                                              object\n",
              "CountryCode_x                                    object\n",
              "CountryName                                      object\n",
              "RegionCode                                       object\n",
              "RegionName                                       object\n",
              "Confirmed                                       float64\n",
              "Deaths                                          float64\n",
              "Latitude                                        float64\n",
              "Longitude                                       float64\n",
              "Population                                      float64\n",
              "CountryCode_y                                    object\n",
              "C1_School closing                                object\n",
              "C1_Flag                                          object\n",
              "C2_Workplace closing                             object\n",
              "C2_Flag                                          object\n",
              "C3_Cancel public events                          object\n",
              "C3_Flag                                          object\n",
              "C4_Restrictions on gatherings                    object\n",
              "C4_Flag                                          object\n",
              "C5_Close public transport                        object\n",
              "C5_Flag                                          object\n",
              "C6_Stay at home requirements                     object\n",
              "C6_Flag                                          object\n",
              "C7_Restrictions on internal movement             object\n",
              "C7_Flag                                          object\n",
              "C8_International travel controls                 object\n",
              "E1_Income support                                object\n",
              "E1_Flag                                          object\n",
              "E2_Debt/contract relief                          object\n",
              "E3_Fiscal measures                               object\n",
              "E4_International support                         object\n",
              "H1_Public information campaigns                  object\n",
              "H1_Flag                                          object\n",
              "H2_Testing policy                                object\n",
              "H3_Contact tracing                               object\n",
              "H4_Emergency investment in healthcare            object\n",
              "H5_Investment in vaccines                        object\n",
              "M1_Wildcard                                      object\n",
              "ConfirmedCases                                  float64\n",
              "ConfirmedDeaths                                 float64\n",
              "StringencyIndex                                  object\n",
              "StringencyIndexForDisplay                       float64\n",
              "LegacyStringencyIndex                            object\n",
              "LegacyStringencyIndexForDisplay                 float64\n",
              "dtype: object"
            ]
          },
          "metadata": {
            "tags": []
          },
          "execution_count": 136
        }
      ]
    },
    {
      "cell_type": "code",
      "metadata": {
        "id": "eiXP9g7MSNy8",
        "colab_type": "code",
        "outputId": "5da5a173-67bc-48d5-9ca0-063cb302dda2",
        "colab": {
          "base_uri": "https://localhost:8080/",
          "height": 221
        }
      },
      "source": [
        "df_states.dtypes"
      ],
      "execution_count": 0,
      "outputs": [
        {
          "output_type": "execute_result",
          "data": {
            "text/plain": [
              "STATE_NAME           object\n",
              "REGION                int64\n",
              "POPESTIMATE2010       int64\n",
              "POPESTIMATE2011       int64\n",
              "POPESTIMATE2012       int64\n",
              "POPESTIMATE2013       int64\n",
              "POPESTIMATE2014       int64\n",
              "POPESTIMATE2015       int64\n",
              "POPESTIMATE2016       int64\n",
              "POPESTIMATE2017       int64\n",
              "geometry           geometry\n",
              "dtype: object"
            ]
          },
          "metadata": {
            "tags": []
          },
          "execution_count": 137
        }
      ]
    },
    {
      "cell_type": "code",
      "metadata": {
        "id": "elzZsHhCaeWI",
        "colab_type": "code",
        "outputId": "66ab7f83-cca3-45d7-9424-adbd9e1cd196",
        "colab": {
          "base_uri": "https://localhost:8080/",
          "height": 85
        }
      },
      "source": [
        "test = pd.DataFrame(merged_single_date,columns=['CountryName', 'StringencyIndexForDisplay', 'geometry'])\n",
        "\n",
        "\n",
        "\n",
        "test['StringencyIndexForDisplay'] = test['StringencyIndexForDisplay'].fillna(0).astype('int64')\n",
        "test['StringencyIndexForDisplay'] = test['StringencyIndexForDisplay'].astype('Int64')\n",
        "\n",
        "test.dtypes"
      ],
      "execution_count": 0,
      "outputs": [
        {
          "output_type": "execute_result",
          "data": {
            "text/plain": [
              "CountryName                    object\n",
              "StringencyIndexForDisplay       Int64\n",
              "geometry                     geometry\n",
              "dtype: object"
            ]
          },
          "metadata": {
            "tags": []
          },
          "execution_count": 138
        }
      ]
    },
    {
      "cell_type": "code",
      "metadata": {
        "id": "johvHNMNi3mK",
        "colab_type": "code",
        "outputId": "330cd5f5-48dc-468e-efd8-6c15e0df6262",
        "colab": {
          "base_uri": "https://localhost:8080/",
          "height": 34
        }
      },
      "source": [
        "!pip install --upgrade geojson"
      ],
      "execution_count": 0,
      "outputs": [
        {
          "output_type": "stream",
          "text": [
            "Requirement already up-to-date: geojson in /usr/local/lib/python3.6/dist-packages (2.5.0)\n"
          ],
          "name": "stdout"
        }
      ]
    },
    {
      "cell_type": "code",
      "metadata": {
        "id": "_SXop6MfkTvv",
        "colab_type": "code",
        "outputId": "4cb74864-fa8e-438f-b01a-5f2fd14207f7",
        "colab": {
          "base_uri": "https://localhost:8080/",
          "height": 34
        }
      },
      "source": [
        "test.geometry.name"
      ],
      "execution_count": 0,
      "outputs": [
        {
          "output_type": "execute_result",
          "data": {
            "text/plain": [
              "'geometry'"
            ]
          },
          "metadata": {
            "tags": []
          },
          "execution_count": 140
        }
      ]
    },
    {
      "cell_type": "code",
      "metadata": {
        "id": "nNd1IMYykqsC",
        "colab_type": "code",
        "colab": {}
      },
      "source": [
        "test = test.set_geometry('geometry')"
      ],
      "execution_count": 0,
      "outputs": []
    },
    {
      "cell_type": "code",
      "metadata": {
        "id": "iJw7U0blmNWj",
        "colab_type": "code",
        "outputId": "92ba8729-b274-4466-8644-7699c88a9416",
        "colab": {
          "base_uri": "https://localhost:8080/",
          "height": 71
        }
      },
      "source": [
        "test.crs = {'init' :'epsg:4326'}"
      ],
      "execution_count": 0,
      "outputs": [
        {
          "output_type": "stream",
          "text": [
            "/usr/local/lib/python3.6/dist-packages/pyproj/crs/crs.py:53: FutureWarning: '+init=<authority>:<code>' syntax is deprecated. '<authority>:<code>' is the preferred initialization method. When making the change, be mindful of axis order changes: https://pyproj4.github.io/pyproj/stable/gotchas.html#axis-order-changes-in-proj-6\n",
            "  return _prepare_from_string(\" \".join(pjargs))\n"
          ],
          "name": "stderr"
        }
      ]
    },
    {
      "cell_type": "code",
      "metadata": {
        "id": "z-1A9u5J8s1y",
        "colab_type": "code",
        "outputId": "32e212bb-d190-4315-9c9b-688df1216ee5",
        "colab": {
          "base_uri": "https://localhost:8080/",
          "height": 505
        }
      },
      "source": [
        "test.plot_bokeh(simplify_shapes=10000)"
      ],
      "execution_count": 0,
      "outputs": [
        {
          "output_type": "stream",
          "text": [
            "/usr/local/lib/python3.6/dist-packages/pyproj/crs/crs.py:53: FutureWarning: '+init=<authority>:<code>' syntax is deprecated. '<authority>:<code>' is the preferred initialization method. When making the change, be mindful of axis order changes: https://pyproj4.github.io/pyproj/stable/gotchas.html#axis-order-changes-in-proj-6\n",
            "  return _prepare_from_string(\" \".join(pjargs))\n",
            "BokehDeprecationWarning: 'legend' keyword is deprecated, use explicit 'legend_label', 'legend_field', or 'legend_group' keywords instead\n"
          ],
          "name": "stderr"
        },
        {
          "output_type": "display_data",
          "data": {
            "application/javascript": [
              "\n",
              "(function(root) {\n",
              "  function now() {\n",
              "    return new Date();\n",
              "  }\n",
              "\n",
              "  var force = true;\n",
              "\n",
              "  if (typeof root._bokeh_onload_callbacks === \"undefined\" || force === true) {\n",
              "    root._bokeh_onload_callbacks = [];\n",
              "    root._bokeh_is_loading = undefined;\n",
              "  }\n",
              "\n",
              "  var JS_MIME_TYPE = 'application/javascript';\n",
              "  var HTML_MIME_TYPE = 'text/html';\n",
              "  var EXEC_MIME_TYPE = 'application/vnd.bokehjs_exec.v0+json';\n",
              "  var CLASS_NAME = 'output_bokeh rendered_html';\n",
              "\n",
              "  /**\n",
              "   * Render data to the DOM node\n",
              "   */\n",
              "  function render(props, node) {\n",
              "    var script = document.createElement(\"script\");\n",
              "    node.appendChild(script);\n",
              "  }\n",
              "\n",
              "  /**\n",
              "   * Handle when an output is cleared or removed\n",
              "   */\n",
              "  function handleClearOutput(event, handle) {\n",
              "    var cell = handle.cell;\n",
              "\n",
              "    var id = cell.output_area._bokeh_element_id;\n",
              "    var server_id = cell.output_area._bokeh_server_id;\n",
              "    // Clean up Bokeh references\n",
              "    if (id != null && id in Bokeh.index) {\n",
              "      Bokeh.index[id].model.document.clear();\n",
              "      delete Bokeh.index[id];\n",
              "    }\n",
              "\n",
              "    if (server_id !== undefined) {\n",
              "      // Clean up Bokeh references\n",
              "      var cmd = \"from bokeh.io.state import curstate; print(curstate().uuid_to_server['\" + server_id + \"'].get_sessions()[0].document.roots[0]._id)\";\n",
              "      cell.notebook.kernel.execute(cmd, {\n",
              "        iopub: {\n",
              "          output: function(msg) {\n",
              "            var id = msg.content.text.trim();\n",
              "            if (id in Bokeh.index) {\n",
              "              Bokeh.index[id].model.document.clear();\n",
              "              delete Bokeh.index[id];\n",
              "            }\n",
              "          }\n",
              "        }\n",
              "      });\n",
              "      // Destroy server and session\n",
              "      var cmd = \"import bokeh.io.notebook as ion; ion.destroy_server('\" + server_id + \"')\";\n",
              "      cell.notebook.kernel.execute(cmd);\n",
              "    }\n",
              "  }\n",
              "\n",
              "  /**\n",
              "   * Handle when a new output is added\n",
              "   */\n",
              "  function handleAddOutput(event, handle) {\n",
              "    var output_area = handle.output_area;\n",
              "    var output = handle.output;\n",
              "\n",
              "    // limit handleAddOutput to display_data with EXEC_MIME_TYPE content only\n",
              "    if ((output.output_type != \"display_data\") || (!output.data.hasOwnProperty(EXEC_MIME_TYPE))) {\n",
              "      return\n",
              "    }\n",
              "\n",
              "    var toinsert = output_area.element.find(\".\" + CLASS_NAME.split(' ')[0]);\n",
              "\n",
              "    if (output.metadata[EXEC_MIME_TYPE][\"id\"] !== undefined) {\n",
              "      toinsert[toinsert.length - 1].firstChild.textContent = output.data[JS_MIME_TYPE];\n",
              "      // store reference to embed id on output_area\n",
              "      output_area._bokeh_element_id = output.metadata[EXEC_MIME_TYPE][\"id\"];\n",
              "    }\n",
              "    if (output.metadata[EXEC_MIME_TYPE][\"server_id\"] !== undefined) {\n",
              "      var bk_div = document.createElement(\"div\");\n",
              "      bk_div.innerHTML = output.data[HTML_MIME_TYPE];\n",
              "      var script_attrs = bk_div.children[0].attributes;\n",
              "      for (var i = 0; i < script_attrs.length; i++) {\n",
              "        toinsert[toinsert.length - 1].firstChild.setAttribute(script_attrs[i].name, script_attrs[i].value);\n",
              "      }\n",
              "      // store reference to server id on output_area\n",
              "      output_area._bokeh_server_id = output.metadata[EXEC_MIME_TYPE][\"server_id\"];\n",
              "    }\n",
              "  }\n",
              "\n",
              "  function register_renderer(events, OutputArea) {\n",
              "\n",
              "    function append_mime(data, metadata, element) {\n",
              "      // create a DOM node to render to\n",
              "      var toinsert = this.create_output_subarea(\n",
              "        metadata,\n",
              "        CLASS_NAME,\n",
              "        EXEC_MIME_TYPE\n",
              "      );\n",
              "      this.keyboard_manager.register_events(toinsert);\n",
              "      // Render to node\n",
              "      var props = {data: data, metadata: metadata[EXEC_MIME_TYPE]};\n",
              "      render(props, toinsert[toinsert.length - 1]);\n",
              "      element.append(toinsert);\n",
              "      return toinsert\n",
              "    }\n",
              "\n",
              "    /* Handle when an output is cleared or removed */\n",
              "    events.on('clear_output.CodeCell', handleClearOutput);\n",
              "    events.on('delete.Cell', handleClearOutput);\n",
              "\n",
              "    /* Handle when a new output is added */\n",
              "    events.on('output_added.OutputArea', handleAddOutput);\n",
              "\n",
              "    /**\n",
              "     * Register the mime type and append_mime function with output_area\n",
              "     */\n",
              "    OutputArea.prototype.register_mime_type(EXEC_MIME_TYPE, append_mime, {\n",
              "      /* Is output safe? */\n",
              "      safe: true,\n",
              "      /* Index of renderer in `output_area.display_order` */\n",
              "      index: 0\n",
              "    });\n",
              "  }\n",
              "\n",
              "  // register the mime type if in Jupyter Notebook environment and previously unregistered\n",
              "  if (root.Jupyter !== undefined) {\n",
              "    var events = require('base/js/events');\n",
              "    var OutputArea = require('notebook/js/outputarea').OutputArea;\n",
              "\n",
              "    if (OutputArea.prototype.mime_types().indexOf(EXEC_MIME_TYPE) == -1) {\n",
              "      register_renderer(events, OutputArea);\n",
              "    }\n",
              "  }\n",
              "\n",
              "  \n",
              "  if (typeof (root._bokeh_timeout) === \"undefined\" || force === true) {\n",
              "    root._bokeh_timeout = Date.now() + 5000;\n",
              "    root._bokeh_failed_load = false;\n",
              "  }\n",
              "\n",
              "  var NB_LOAD_WARNING = {'data': {'text/html':\n",
              "     \"<div style='background-color: #fdd'>\\n\"+\n",
              "     \"<p>\\n\"+\n",
              "     \"BokehJS does not appear to have successfully loaded. If loading BokehJS from CDN, this \\n\"+\n",
              "     \"may be due to a slow or bad network connection. Possible fixes:\\n\"+\n",
              "     \"</p>\\n\"+\n",
              "     \"<ul>\\n\"+\n",
              "     \"<li>re-rerun `output_notebook()` to attempt to load from CDN again, or</li>\\n\"+\n",
              "     \"<li>use INLINE resources instead, as so:</li>\\n\"+\n",
              "     \"</ul>\\n\"+\n",
              "     \"<code>\\n\"+\n",
              "     \"from bokeh.resources import INLINE\\n\"+\n",
              "     \"output_notebook(resources=INLINE)\\n\"+\n",
              "     \"</code>\\n\"+\n",
              "     \"</div>\"}};\n",
              "\n",
              "  function display_loaded() {\n",
              "    var el = document.getElementById(null);\n",
              "    if (el != null) {\n",
              "      el.textContent = \"BokehJS is loading...\";\n",
              "    }\n",
              "    if (root.Bokeh !== undefined) {\n",
              "      if (el != null) {\n",
              "        el.textContent = \"BokehJS \" + root.Bokeh.version + \" successfully loaded.\";\n",
              "      }\n",
              "    } else if (Date.now() < root._bokeh_timeout) {\n",
              "      setTimeout(display_loaded, 100)\n",
              "    }\n",
              "  }\n",
              "\n",
              "\n",
              "  function run_callbacks() {\n",
              "    try {\n",
              "      root._bokeh_onload_callbacks.forEach(function(callback) {\n",
              "        if (callback != null)\n",
              "          callback();\n",
              "      });\n",
              "    } finally {\n",
              "      delete root._bokeh_onload_callbacks\n",
              "    }\n",
              "    console.debug(\"Bokeh: all callbacks have finished\");\n",
              "  }\n",
              "\n",
              "  function load_libs(css_urls, js_urls, callback) {\n",
              "    if (css_urls == null) css_urls = [];\n",
              "    if (js_urls == null) js_urls = [];\n",
              "\n",
              "    root._bokeh_onload_callbacks.push(callback);\n",
              "    if (root._bokeh_is_loading > 0) {\n",
              "      console.debug(\"Bokeh: BokehJS is being loaded, scheduling callback at\", now());\n",
              "      return null;\n",
              "    }\n",
              "    if (js_urls == null || js_urls.length === 0) {\n",
              "      run_callbacks();\n",
              "      return null;\n",
              "    }\n",
              "    console.debug(\"Bokeh: BokehJS not loaded, scheduling load and callback at\", now());\n",
              "    root._bokeh_is_loading = css_urls.length + js_urls.length;\n",
              "\n",
              "    function on_load() {\n",
              "      root._bokeh_is_loading--;\n",
              "      if (root._bokeh_is_loading === 0) {\n",
              "        console.debug(\"Bokeh: all BokehJS libraries/stylesheets loaded\");\n",
              "        run_callbacks()\n",
              "      }\n",
              "    }\n",
              "\n",
              "    function on_error() {\n",
              "      console.error(\"failed to load \" + url);\n",
              "    }\n",
              "\n",
              "    for (var i = 0; i < css_urls.length; i++) {\n",
              "      var url = css_urls[i];\n",
              "      const element = document.createElement(\"link\");\n",
              "      element.onload = on_load;\n",
              "      element.onerror = on_error;\n",
              "      element.rel = \"stylesheet\";\n",
              "      element.type = \"text/css\";\n",
              "      element.href = url;\n",
              "      console.debug(\"Bokeh: injecting link tag for BokehJS stylesheet: \", url);\n",
              "      document.body.appendChild(element);\n",
              "    }\n",
              "\n",
              "    for (var i = 0; i < js_urls.length; i++) {\n",
              "      var url = js_urls[i];\n",
              "      var element = document.createElement('script');\n",
              "      element.onload = on_load;\n",
              "      element.onerror = on_error;\n",
              "      element.async = false;\n",
              "      element.src = url;\n",
              "      console.debug(\"Bokeh: injecting script tag for BokehJS library: \", url);\n",
              "      document.head.appendChild(element);\n",
              "    }\n",
              "  };\n",
              "\n",
              "  function inject_raw_css(css) {\n",
              "    const element = document.createElement(\"style\");\n",
              "    element.appendChild(document.createTextNode(css));\n",
              "    document.body.appendChild(element);\n",
              "  }\n",
              "\n",
              "  \n",
              "  var js_urls = [\"https://cdn.pydata.org/bokeh/release/bokeh-1.4.0.min.js\", \"https://cdn.pydata.org/bokeh/release/bokeh-widgets-1.4.0.min.js\", \"https://cdn.pydata.org/bokeh/release/bokeh-tables-1.4.0.min.js\", \"https://cdn.pydata.org/bokeh/release/bokeh-gl-1.4.0.min.js\"];\n",
              "  var css_urls = [];\n",
              "  \n",
              "\n",
              "  var inline_js = [\n",
              "    function(Bokeh) {\n",
              "      Bokeh.set_log_level(\"info\");\n",
              "    },\n",
              "    function(Bokeh) {\n",
              "    \n",
              "    \n",
              "    }\n",
              "  ];\n",
              "\n",
              "  function run_inline_js() {\n",
              "    \n",
              "    if (root.Bokeh !== undefined || force === true) {\n",
              "      \n",
              "    for (var i = 0; i < inline_js.length; i++) {\n",
              "      inline_js[i].call(root, root.Bokeh);\n",
              "    }\n",
              "    } else if (Date.now() < root._bokeh_timeout) {\n",
              "      setTimeout(run_inline_js, 100);\n",
              "    } else if (!root._bokeh_failed_load) {\n",
              "      console.log(\"Bokeh: BokehJS failed to load within specified timeout.\");\n",
              "      root._bokeh_failed_load = true;\n",
              "    } else if (force !== true) {\n",
              "      var cell = $(document.getElementById(null)).parents('.cell').data().cell;\n",
              "      cell.output_area.append_execute_result(NB_LOAD_WARNING)\n",
              "    }\n",
              "\n",
              "  }\n",
              "\n",
              "  if (root._bokeh_is_loading === 0) {\n",
              "    console.debug(\"Bokeh: BokehJS loaded, going straight to plotting\");\n",
              "    run_inline_js();\n",
              "  } else {\n",
              "    load_libs(css_urls, js_urls, function() {\n",
              "      console.debug(\"Bokeh: BokehJS plotting callback run at\", now());\n",
              "      run_inline_js();\n",
              "    });\n",
              "  }\n",
              "}(window));"
            ],
            "application/vnd.bokehjs_load.v0+json": "\n(function(root) {\n  function now() {\n    return new Date();\n  }\n\n  var force = true;\n\n  if (typeof root._bokeh_onload_callbacks === \"undefined\" || force === true) {\n    root._bokeh_onload_callbacks = [];\n    root._bokeh_is_loading = undefined;\n  }\n\n  \n\n  \n  if (typeof (root._bokeh_timeout) === \"undefined\" || force === true) {\n    root._bokeh_timeout = Date.now() + 5000;\n    root._bokeh_failed_load = false;\n  }\n\n  var NB_LOAD_WARNING = {'data': {'text/html':\n     \"<div style='background-color: #fdd'>\\n\"+\n     \"<p>\\n\"+\n     \"BokehJS does not appear to have successfully loaded. If loading BokehJS from CDN, this \\n\"+\n     \"may be due to a slow or bad network connection. Possible fixes:\\n\"+\n     \"</p>\\n\"+\n     \"<ul>\\n\"+\n     \"<li>re-rerun `output_notebook()` to attempt to load from CDN again, or</li>\\n\"+\n     \"<li>use INLINE resources instead, as so:</li>\\n\"+\n     \"</ul>\\n\"+\n     \"<code>\\n\"+\n     \"from bokeh.resources import INLINE\\n\"+\n     \"output_notebook(resources=INLINE)\\n\"+\n     \"</code>\\n\"+\n     \"</div>\"}};\n\n  function display_loaded() {\n    var el = document.getElementById(null);\n    if (el != null) {\n      el.textContent = \"BokehJS is loading...\";\n    }\n    if (root.Bokeh !== undefined) {\n      if (el != null) {\n        el.textContent = \"BokehJS \" + root.Bokeh.version + \" successfully loaded.\";\n      }\n    } else if (Date.now() < root._bokeh_timeout) {\n      setTimeout(display_loaded, 100)\n    }\n  }\n\n\n  function run_callbacks() {\n    try {\n      root._bokeh_onload_callbacks.forEach(function(callback) {\n        if (callback != null)\n          callback();\n      });\n    } finally {\n      delete root._bokeh_onload_callbacks\n    }\n    console.debug(\"Bokeh: all callbacks have finished\");\n  }\n\n  function load_libs(css_urls, js_urls, callback) {\n    if (css_urls == null) css_urls = [];\n    if (js_urls == null) js_urls = [];\n\n    root._bokeh_onload_callbacks.push(callback);\n    if (root._bokeh_is_loading > 0) {\n      console.debug(\"Bokeh: BokehJS is being loaded, scheduling callback at\", now());\n      return null;\n    }\n    if (js_urls == null || js_urls.length === 0) {\n      run_callbacks();\n      return null;\n    }\n    console.debug(\"Bokeh: BokehJS not loaded, scheduling load and callback at\", now());\n    root._bokeh_is_loading = css_urls.length + js_urls.length;\n\n    function on_load() {\n      root._bokeh_is_loading--;\n      if (root._bokeh_is_loading === 0) {\n        console.debug(\"Bokeh: all BokehJS libraries/stylesheets loaded\");\n        run_callbacks()\n      }\n    }\n\n    function on_error() {\n      console.error(\"failed to load \" + url);\n    }\n\n    for (var i = 0; i < css_urls.length; i++) {\n      var url = css_urls[i];\n      const element = document.createElement(\"link\");\n      element.onload = on_load;\n      element.onerror = on_error;\n      element.rel = \"stylesheet\";\n      element.type = \"text/css\";\n      element.href = url;\n      console.debug(\"Bokeh: injecting link tag for BokehJS stylesheet: \", url);\n      document.body.appendChild(element);\n    }\n\n    for (var i = 0; i < js_urls.length; i++) {\n      var url = js_urls[i];\n      var element = document.createElement('script');\n      element.onload = on_load;\n      element.onerror = on_error;\n      element.async = false;\n      element.src = url;\n      console.debug(\"Bokeh: injecting script tag for BokehJS library: \", url);\n      document.head.appendChild(element);\n    }\n  };\n\n  function inject_raw_css(css) {\n    const element = document.createElement(\"style\");\n    element.appendChild(document.createTextNode(css));\n    document.body.appendChild(element);\n  }\n\n  \n  var js_urls = [\"https://cdn.pydata.org/bokeh/release/bokeh-1.4.0.min.js\", \"https://cdn.pydata.org/bokeh/release/bokeh-widgets-1.4.0.min.js\", \"https://cdn.pydata.org/bokeh/release/bokeh-tables-1.4.0.min.js\", \"https://cdn.pydata.org/bokeh/release/bokeh-gl-1.4.0.min.js\"];\n  var css_urls = [];\n  \n\n  var inline_js = [\n    function(Bokeh) {\n      Bokeh.set_log_level(\"info\");\n    },\n    function(Bokeh) {\n    \n    \n    }\n  ];\n\n  function run_inline_js() {\n    \n    if (root.Bokeh !== undefined || force === true) {\n      \n    for (var i = 0; i < inline_js.length; i++) {\n      inline_js[i].call(root, root.Bokeh);\n    }\n    } else if (Date.now() < root._bokeh_timeout) {\n      setTimeout(run_inline_js, 100);\n    } else if (!root._bokeh_failed_load) {\n      console.log(\"Bokeh: BokehJS failed to load within specified timeout.\");\n      root._bokeh_failed_load = true;\n    } else if (force !== true) {\n      var cell = $(document.getElementById(null)).parents('.cell').data().cell;\n      cell.output_area.append_execute_result(NB_LOAD_WARNING)\n    }\n\n  }\n\n  if (root._bokeh_is_loading === 0) {\n    console.debug(\"Bokeh: BokehJS loaded, going straight to plotting\");\n    run_inline_js();\n  } else {\n    load_libs(css_urls, js_urls, function() {\n      console.debug(\"Bokeh: BokehJS plotting callback run at\", now());\n      run_inline_js();\n    });\n  }\n}(window));"
          },
          "metadata": {
            "tags": []
          }
        },
        {
          "output_type": "display_data",
          "data": {
            "text/html": [
              "\n",
              "\n",
              "\n",
              "\n",
              "\n",
              "\n",
              "  <div class=\"bk-root\" id=\"bed70718-2938-466a-be96-ada168532561\" data-root-id=\"1122\"></div>\n"
            ]
          },
          "metadata": {
            "tags": []
          }
        },
        {
          "output_type": "display_data",
          "data": {
            "application/javascript": [
              "(function(root) {\n",
              "  function embed_document(root) {\n",
              "    \n",
              "  var docs_json = {\"57045935-428a-4e9d-95a4-8ff287277d93\":{\"roots\":{\"references\":[{\"attributes\":{\"below\":[{\"id\":\"1133\",\"type\":\"MercatorAxis\"}],\"center\":[{\"id\":\"1141\",\"type\":\"Grid\"},{\"id\":\"1150\",\"type\":\"Grid\"},{\"id\":\"1182\",\"type\":\"Legend\"}],\"left\":[{\"id\":\"1142\",\"type\":\"MercatorAxis\"}],\"output_backend\":\"webgl\",\"plot_height\":400,\"renderers\":[{\"id\":\"1166\",\"type\":\"TileRenderer\"},{\"id\":\"1174\",\"type\":\"GlyphRenderer\"}],\"title\":{\"id\":\"1123\",\"type\":\"Title\"},\"toolbar\":{\"id\":\"1157\",\"type\":\"Toolbar\"},\"x_range\":{\"id\":\"1125\",\"type\":\"DataRange1d\"},\"x_scale\":{\"id\":\"1129\",\"type\":\"LinearScale\"},\"y_range\":{\"id\":\"1127\",\"type\":\"DataRange1d\"},\"y_scale\":{\"id\":\"1131\",\"type\":\"LinearScale\"}},\"id\":\"1122\",\"subtype\":\"Figure\",\"type\":\"Plot\"},{\"attributes\":{\"active_drag\":\"auto\",\"active_inspect\":\"auto\",\"active_multi\":null,\"active_scroll\":{\"id\":\"1152\",\"type\":\"WheelZoomTool\"},\"active_tap\":\"auto\",\"tools\":[{\"id\":\"1151\",\"type\":\"PanTool\"},{\"id\":\"1152\",\"type\":\"WheelZoomTool\"},{\"id\":\"1153\",\"type\":\"BoxZoomTool\"},{\"id\":\"1154\",\"type\":\"SaveTool\"},{\"id\":\"1155\",\"type\":\"ResetTool\"},{\"id\":\"1156\",\"type\":\"HelpTool\"}]},\"id\":\"1157\",\"type\":\"Toolbar\"},{\"attributes\":{\"dimension\":1,\"ticker\":{\"id\":\"1143\",\"type\":\"MercatorTicker\"}},\"id\":\"1150\",\"type\":\"Grid\"},{\"attributes\":{\"dimension\":\"lon\"},\"id\":\"1134\",\"type\":\"MercatorTicker\"},{\"attributes\":{\"bottom_units\":\"screen\",\"fill_alpha\":{\"value\":0.5},\"fill_color\":{\"value\":\"lightgrey\"},\"left_units\":\"screen\",\"level\":\"overlay\",\"line_alpha\":{\"value\":1.0},\"line_color\":{\"value\":\"black\"},\"line_dash\":[4,4],\"line_width\":{\"value\":2},\"render_mode\":\"css\",\"right_units\":\"screen\",\"top_units\":\"screen\"},\"id\":\"1181\",\"type\":\"BoxAnnotation\"},{\"attributes\":{\"zoom_on_axis\":false},\"id\":\"1152\",\"type\":\"WheelZoomTool\"},{\"attributes\":{\"label\":{\"value\":\"GeoLayer\"},\"renderers\":[{\"id\":\"1174\",\"type\":\"GlyphRenderer\"}]},\"id\":\"1183\",\"type\":\"LegendItem\"},{\"attributes\":{\"text\":\"\"},\"id\":\"1123\",\"type\":\"Title\"},{\"attributes\":{\"dimension\":\"lon\"},\"id\":\"1136\",\"type\":\"MercatorTickFormatter\"},{\"attributes\":{},\"id\":\"1190\",\"type\":\"UnionRenderers\"},{\"attributes\":{\"click_policy\":\"hide\",\"items\":[{\"id\":\"1183\",\"type\":\"LegendItem\"}]},\"id\":\"1182\",\"type\":\"Legend\"},{\"attributes\":{\"overlay\":{\"id\":\"1181\",\"type\":\"BoxAnnotation\"}},\"id\":\"1153\",\"type\":\"BoxZoomTool\"},{\"attributes\":{\"source\":{\"id\":\"1170\",\"type\":\"ColumnDataSource\"}},\"id\":\"1175\",\"type\":\"CDSView\"},{\"attributes\":{\"callback\":null,\"data\":{\"__x__\":[[[[-7126101,-7087099,-7006370,-6903153,-6957903,-6999138,-7140343,-7168152,-7126101]]],[[[-7126101,-7087099,-7006370,-6903153,-6957903,-6999138,-7140343,-7168152,-7126101]]],[[[-7126101,-7087099,-7006370,-6903153,-6957903,-6999138,-7140343,-7168152,-7126101]]],[[[-7126101,-7087099,-7006370,-6903153,-6957903,-6999138,-7140343,-7168152,-7126101]]],[[[-7126101,-7087099,-7006370,-6903153,-6957903,-6999138,-7140343,-7168152,-7126101]]],[[[-7126101,-7087099,-7006370,-6903153,-6957903,-6999138,-7140343,-7168152,-7126101]]],[[[-7126101,-7087099,-7006370,-6903153,-6957903,-6999138,-7140343,-7168152,-7126101]]],[[[-7126101,-7087099,-7006370,-6903153,-6957903,-6999138,-7140343,-7168152,-7126101]]],[[[-7126101,-7087099,-7006370,-6903153,-6957903,-6999138,-7140343,-7168152,-7126101]]],[[[-7126101,-7087099,-7006370,-6903153,-6957903,-6999138,-7140343,-7168152,-7126101]]],[[[-7126101,-7087099,-7006370,-6903153,-6957903,-6999138,-7140343,-7168152,-7126101]]],[[[-7126101,-7087099,-7006370,-6903153,-6957903,-6999138,-7140343,-7168152,-7126101]]],[[[-7126101,-7087099,-7006370,-6903153,-6957903,-6999138,-7140343,-7168152,-7126101]]],[[[-7126101,-7087099,-7006370,-6903153,-6957903,-6999138,-7140343,-7168152,-7126101]]],[[[-7126101,-7087099,-7006370,-6903153,-6957903,-6999138,-7140343,-7168152,-7126101]]],[[[-7126101,-7087099,-7006370,-6903153,-6957903,-6999138,-7140343,-7168152,-7126101]]],[[[-7126101,-7087099,-7006370,-6903153,-6957903,-6999138,-7140343,-7168152,-7126101]]],[[[-7126101,-7087099,-7006370,-6903153,-6957903,-6999138,-7140343,-7168152,-7126101]]],[[[-7126101,-7087099,-7006370,-6903153,-6957903,-6999138,-7140343,-7168152,-7126101]]],[[[-7126101,-7087099,-7006370,-6903153,-6957903,-6999138,-7140343,-7168152,-7126101]]],[[[-7126101,-7087099,-7006370,-6903153,-6957903,-6999138,-7140343,-7168152,-7126101]]],[[[-7126101,-7087099,-7006370,-6903153,-6957903,-6999138,-7140343,-7168152,-7126101]]],[[[-7126101,-7087099,-7006370,-6903153,-6957903,-6999138,-7140343,-7168152,-7126101]]],[[[-7126101,-7087099,-7006370,-6903153,-6957903,-6999138,-7140343,-7168152,-7126101]]],[[[-7126101,-7087099,-7006370,-6903153,-6957903,-6999138,-7140343,-7168152,-7126101]]],[[[-7126101,-7087099,-7006370,-6903153,-6957903,-6999138,-7140343,-7168152,-7126101]]],[[[-7126101,-7087099,-7006370,-6903153,-6957903,-6999138,-7140343,-7168152,-7126101]]],[[[-7126101,-7087099,-7006370,-6903153,-6957903,-6999138,-7140343,-7168152,-7126101]]],[[[-7126101,-7087099,-7006370,-6903153,-6957903,-6999138,-7140343,-7168152,-7126101]]],[[[-7126101,-7087099,-7006370,-6903153,-6957903,-6999138,-7140343,-7168152,-7126101]]],[[[3722077,3751406,3866350,3898496,3952956,4066500,4044761,3922898,3771783,3709880,3734426,3612782,3632444,3739017,3722077]]],[[[3722077,3751406,3866350,3898496,3952956,4066500,4044761,3922898,3771783,3709880,3734426,3612782,3632444,3739017,3722077]]],[[[3722077,3751406,3866350,3898496,3952956,4066500,4044761,3922898,3771783,3709880,3734426,3612782,3632444,3739017,3722077]]],[[[3722077,3751406,3866350,3898496,3952956,4066500,4044761,3922898,3771783,3709880,3734426,3612782,3632444,3739017,3722077]]],[[[3722077,3751406,3866350,3898496,3952956,4066500,4044761,3922898,3771783,3709880,3734426,3612782,3632444,3739017,3722077]]],[[[3722077,3751406,3866350,3898496,3952956,4066500,4044761,3922898,3771783,3709880,3734426,3612782,3632444,3739017,3722077]]],[[[3722077,3751406,3866350,3898496,3952956,4066500,4044761,3922898,3771783,3709880,3734426,3612782,3632444,3739017,3722077]]],[[[3722077,3751406,3866350,3898496,3952956,4066500,4044761,3922898,3771783,3709880,3734426,3612782,3632444,3739017,3722077]]],[[[3722077,3751406,3866350,3898496,3952956,4066500,4044761,3922898,3771783,3709880,3734426,3612782,3632444,3739017,3722077]]],[[[3722077,3751406,3866350,3898496,3952956,4066500,4044761,3922898,3771783,3709880,3734426,3612782,3632444,3739017,3722077]]],[[[3722077,3751406,3866350,3898496,3952956,4066500,4044761,3922898,3771783,3709880,3734426,3612782,3632444,3739017,3722077]]],[[[3722077,3751406,3866350,3898496,3952956,4066500,4044761,3922898,3771783,3709880,3734426,3612782,3632444,3739017,3722077]]],[[[3722077,3751406,3866350,3898496,3952956,4066500,4044761,3922898,3771783,3709880,3734426,3612782,3632444,3739017,3722077]]],[[[3722077,3751406,3866350,3898496,3952956,4066500,4044761,3922898,3771783,3709880,3734426,3612782,3632444,3739017,3722077]]],[[[1819514,1872841,1916802,1935567,2055503,2115307,2214671,2214786,2244838,2310837,2300580,2325420,2405157,2513541,2540786,2595090,2695185,2785789,2856977,2887811,2948380,3018918,3118864,3276376,3375527,3413040,3472211,3554496,3534661,3544165,3487991,3455811,3414904,3415945,3482382,3547536,3570201,3654632,3613668,3584864,3487145,3345787,3141408,3057346,2940999,2884250,2869886,2802230,2747126,2626476,2559033,2512943,2398133,2303094,2234322,2183688,2136585,2098964,2051021,2045764,2030968,2031589,1995423,2031348,2028437,1819514],[3225845,3177247,3125221,3064905,3005544,3089048,3128879,3149347,3211389,3264462,3225845]]],[[[-13038602,-12770726,-12781147,-12359091,-12049437,-12049221,-11856370,-11692706,-11628096,-11570547,-11478152,-11408021,-11317006,-11238548,-11144194,-11078515,-11022855,-10856989,-10813576,-10876242,-10895102,-10819067,-10745177,-10675637,-10557436,-10511424,-10175481,-10104678,-10049769,-9856658,-9690572,-9663865,-9667642,-9727463,-9753931,-9733414,-9777991,-9806207,-9850675,-9890552,-9910758,-9923362,-10130242,-10130326,-10180603,-10067608,-10070459,-10213336,-10266912,-10251101,-10266746,-10450135,-10541026,-10603206,-10748724,-11224288,-11345518,-11521677,-11568046,-11687657,-11743431,-11769965,-11732826,-11744279,-11718686,-11718137,-11803062,-11901164,-12013092,-12067244,-12162789,-12183260,-12166290,-12223042,-12288751,-12316501,-12376380,-12493189,-12498042,-12597337,-12595652,-12676159,-12713324,-12776856,-12794694,-12765440,-12609377,-12594691,-12574905,-12552562,-12495050,-12425090,-12388153,-12324181,-12318063,-12264386,-12179365,-12182069,-12228915,-12248638,-12277991,-12350841,-12488047,-12484368,-12501257,-12630829,-12645530,-12673605,-12742268,-12807879,-12753914,-12712611,-12708457,-12794154,-12859477,-13038602]]],[[[-5941528,-5972351,-5923264,-5987647,-6189531,-6230913,-6342542,-6414800,-6140637,-5972149,-5969880,-6025729,-6080859,-6043922,-6043864,-6083925,-6125678,-6167182,-6190552,-6211400,-6286580,-6332020,-6449534,-6442133,-6475053,-6440255,-6450964,-6420463,-6400689,-6426981,-6487789,-6499728,-6483382,-6696801,-6739612,-6707127,-6735196,-6799853,-6869882,-6915955,-6991204,-7035002,-7159663,-7280548,-7273441,-7419099,-7575090,-7599921,-7740008,-7802800,-7853443,-7846008,-7937348,-8035585,-8077679,-8151560,-8128035,-8189892,-8236221,-8206851,-8206972,-8139684,-8150780,-8122371,-8114292,-7986995,-7895762,-7880837,-7780523,-7727853,-7745283,-7794663,-7794097,-7731405,-7709145,-7705383,-7770612,-7771989,-7555094,-7518274,-7487348,-7465647,-7444638,-7383350,-7296799,-7275253,-7146634,-7133696,-7054181,-7060201,-7154503,-7169957,-7165468,-7215291,-7194429,-7023502,-6991368,-6786803,-6746092,-6760830,-6702956,-6677049,-6691526,-6653277,-6627744,-6658621,-6676333,-6639767,-6571285,-6516644,-6504339,-6418789,-6382594,-6233412,-6223382,-6242055,-6230921,-6185996,-6133435,-6021055,-5986597,-5961697,-5946516,-5893215,-5850554,-5750519,-5712598,-5622622,-5563088,-5560085,-5643814,-5609189,-5412416,-5408401,-5323849,-4998880,-4944546,-4962799,-4833357,-4616715,-4450404,-4285843,-4143673,-4057922,-3962728,-3922385,-3866125,-3910454,-4123999,-4194920,-4277326,-4305157,-4336258,-4328357,-4371220,-4406417,-4426154,-4539023,-4557949,-4648052,-4674114,-4795054,-4970171,-5048576,-5173249,-5304259,-5398489,-5414691,-5396182,-5442238,-5520036,-5643550,-5817120,-5867884,-5941528]]],[[[973601,1045290,1064216,1027451,976909,951137,973601]]],[[[973601,1045290,1064216,1027451,976909,951137,973601]]],[[[973601,1045290,1064216,1027451,976909,951137,973601]]],[[[3976323,3956925,3916657,3893359,3921328,3892898,3888101,3940438,3943038,3887566,3814410,3846797,3907142,3947468,3957719,3987586,3976323]]],[[[10834404,10842803,10803777,10812907,10733354,10589240,10592623,10531185,10525553,10475914,10388912,10384586,10359424,10371205,10316280,10257649,10226913,10208718,10147769,10182141,10231941,10283271,10219084,10009925,10000106,9946963,9858793,9819468,9899815,9830220,9805513,9874032,9855088,9893665,9910992,9895052,9682091,9688488,9629063,9468865,9344270,9149659,9149487,8993724,8941726,8908349,8937429,8890258,8889751,8832145,8781476,8815359,8713860,8676370,8631701,8526291,8432058,8333913,8287052,8185789,8106386,8106783,8085194,7923195,7844735,7699315,7752837,7719961,7589389,7663523,7908497,7886395,7823853,7811169,7738306,7860992,7990253,8106702,8176487,8284550,8282830,8377753,8287909,8209806,8264381,8433237,8557320,8664825,8784473,8773210,8817493,8813846,8733954,8765173,9029263,8958627,8915402,9273386,9425979,9490184,9710117,9802820,9815574,9800916,9809522,9877414,9889138,9990315,10060306,10245120,10252938,10207625,10297400,10398726,10527037,10620414,10699771,10751970,10714371,10834404]]],[[[1227561,1276642,1369270,1406092,1334950,1328104,1400391,1510818,1549556,1509012,1681860,1866703,1973603,2003068,2212871,2229202,2298256,2620402,2623341,2660911,2469419,2361477,2378856,2201774,1986805,1905740,1984976,2091439,1989193,1873416,1830950,1767729,1632687,1569685,1440798,1405419,1312227,1227561]]],[[[2614241,2619073,2649953,2649314,2582555,2616898,2619021,2675005,2663069,2607826,2506742,2535459,2405370,2325236,2272680,2206911,2150771,2105004,2047489,1964727,1954165,1877822,1861203,1800732,1807675,1724447,1671684,1626054,1634729,1607186,1566768,1597803,1571796,1647851,1961764,2072864,2081257,2325714,2530414,2587508,2614241]]],[[[1890167,1881717,1819025,1840586,1782410,1685053,1628879,1377744,1352875,1242862,1229919,1105675,1055305,1068024,1101625,1157954,1173808,1271982,1351569,1404936,1439653,1450031,1434251,1474243,1513493,1596198,1658821,1698002,1784412,1836691,1888010,1890167]]],[[[1571796,1597803,1566768,1607186,1634729,1626054,1671684,1622004,1592649,1564732,1484794,1443461,1362562,1393834,1513493,1474243,1434251,1450031,1439653,1404936,1351569,1271982,1173808,1157954,1101625,1068024,948732,925877,831195,845324,901607,741190,688658,694939,672711,685356,666654,733528,761744,789483,768676,790415,883458,904104,979693,954243,949135,1033272,1104501,1106468,1218960,1217775,1330963,1393546,1519229,1571796]]],[[[2555046,2637389,2726508,2804939,2906122,2907335,2961565,2927101,2900645,2774732,2639920,2717086,2660532,2598530,2539641,2518748,2543622,2599313,2557353,2674453,2676121,2573150,2605986,2535298,2577516,2503578,2412296,2351071,2250625,2243089,2294851,2301530,2337708,2339940,2412756,2455193,2515520,2555046]]],[[[2555046,2637389,2726508,2804939,2906122,2907335,2961565,2927101,2900645,2774732,2639920,2717086,2660532,2598530,2539641,2518748,2543622,2599313,2557353,2674453,2676121,2573150,2605986,2535298,2577516,2503578,2412296,2351071,2250625,2243089,2294851,2301530,2337708,2339940,2412756,2455193,2515520,2555046]]],[[[1068024,1055305,1105675,1162476,1153645,1104605,1022233,998124,945097,925802,863393,809721,761825,723587,670433,672079,753489,749911,800632,831195,925877,948732,1068024]]],[[[685356,672711,643695,631632,534246,477117,347678,295934,279809,369020,450517,553702,624165,685356]]],[[[768676,789483,761744,733528,666654,685356,624165,553702,450517,369020,426385,523869,676174,768676]]],[[[-1005751,-919928,-892022,-826270,-807212,-742345,-711229,-762663,-764099,-782176,-786649,-834743,-790149,-820880,-782496,-839026,-829744,-874482,-933170,-990616,-973611,-984064,-1033875,-1060492,-1051633,-1007252,-976125,-1005751]]],[[[-829744,-839026,-782496,-820880,-790149,-834743,-786649,-782176,-764099,-762663,-711229,-742345,-807212,-826270,-892022,-919928,-1005751,-1000142,-1045611,-888128,-751906,-602448,-483999,-211657,-167287,37631,78100,203357,332399,338353,232862,90227,80298,11876,-31026,12388,-51999,-76074,-160119,-238942,-486343,-556065,-598582,-653048,-694265,-725824,-829744]]],[[[-689945,-671588,-755732,-953074,-1110644,-1020385,-1078521,-842929,-819982,-842929,-774085,-689945]]],[[[18887334,19049557,19099053,19141242,19157775,19235849,19285793,19364961,19397152,19397256,19283067,19226128,19267190,19181303,19086052,18992963,18849988,18747466,18675374,18554386,18535713,18595522,18735489,18807362,18887334]]],[[[18887334,19049557,19099053,19141242,19157775,19235849,19285793,19364961,19397152,19397256,19283067,19226128,19267190,19181303,19086052,18992963,18849988,18747466,18675374,18554386,18535713,18595522,18735489,18807362,18887334]]],[[[14042810,13924801,13828290,13806839,13765731,13601356,13502964,13346505,13280292,13247836,13138479,12982647,12864564,12804725,12807153,12862424,12881298,12890980,12878508,12819653,12801412,12806198,12761886,12759050,12709744,12695863,12632257,12616834,12665748,12628190,12683397,12716342,12714484,12622909,12672991,12661095,12707092,12715503,12762530,12852967,12907202,12992277,13042894,13073532,13161254,13228772,13275126,13336656,13453652,13514170,13542588,13607879,13615795,13693697,13740586,13787959,13748318,13783253,13832369,13845887,13933557,13989530,13991278,14040187,14042154,14144907,14227146,14288935,14429396,14405810,14459137,14509322,14491961,14540306,14607732,14664683,14758214,14756201,14674658,14733938,14807669,14866812,14960567,14992356,15061359,15126392,15168213,15194272,15245384,15173448,15135193,15148091,15075849,15083811,15172309,15258046,15395843,15485492,15502416,15608689,15682184,15726560,15774214,15753919,15768508,15789856,15772523,15823365,15864726,15896123,15903855,15931594,15936345,15976809,15981227,16021334,16092759,16183040,16171604,16195345,16212240,16240278,16270491,16259733,16295779,16416405,16569729,16555152,16618822,16662116,16706537,16751684,16778882,16798061,17015762,17047039,17042224,17095275,17088889,17039589,17041856,16970656,16888181,16810418,16777421,16734460,16706296,16697621,16633790,16509195,16406459,16288036,16195833,16127631,16144912,16084072,15986589,15655814,15583855,15537323,15482627,15375531,15412123,15385195,15330827,15231779,15289996,15306862,15349857,15340975,15250418,15180869,15138231,15051309,15054760,14985097,14926374,14947302,14804465,14726241,14619180,14419858,14149026,14042810]]],[[[14042810,13924801,13828290,13806839,13765731,13601356,13502964,13346505,13280292,13247836,13138479,12982647,12864564,12804725,12807153,12862424,12881298,12890980,12878508,12819653,12801412,12806198,12761886,12759050,12709744,12695863,12632257,12616834,12665748,12628190,12683397,12716342,12714484,12622909,12672991,12661095,12707092,12715503,12762530,12852967,12907202,12992277,13042894,13073532,13161254,13228772,13275126,13336656,13453652,13514170,13542588,13607879,13615795,13693697,13740586,13787959,13748318,13783253,13832369,13845887,13933557,13989530,13991278,14040187,14042154,14144907,14227146,14288935,14429396,14405810,14459137,14509322,14491961,14540306,14607732,14664683,14758214,14756201,14674658,14733938,14807669,14866812,14960567,14992356,15061359,15126392,15168213,15194272,15245384,15173448,15135193,15148091,15075849,15083811,15172309,15258046,15395843,15485492,15502416,15608689,15682184,15726560,15774214,15753919,15768508,15789856,15772523,15823365,15864726,15896123,15903855,15931594,15936345,15976809,15981227,16021334,16092759,16183040,16171604,16195345,16212240,16240278,16270491,16259733,16295779,16416405,16569729,16555152,16618822,16662116,16706537,16751684,16778882,16798061,17015762,17047039,17042224,17095275,17088889,17039589,17041856,16970656,16888181,16810418,16777421,16734460,16706296,16697621,16633790,16509195,16406459,16288036,16195833,16127631,16144912,16084072,15986589,15655814,15583855,15537323,15482627,15375531,15412123,15385195,15330827,15231779,15289996,15306862,15349857,15340975,15250418,15180869,15138231,15051309,15054760,14985097,14926374,14947302,14804465,14726241,14619180,14419858,14149026,14042810]]],[[[8934501,8925613,9001984,8901786,9122306,9179285,9259609,9480445,9542360,9547676,9640131,9724867,9768426,9797654,9891215,10050015,10126824,10083961,10124011,10406227,10540723,10609512,10660227,10725565,10848280,11078050,11226110,11336002,11500670,11635367,11684649,11814261,11994093,12160941,12291019,12370899,12448812,12395244,12453679,12630744,12741665,12911401,12992973,13071323,13233029,13320854,13333049,13232166,13142840,13057276,12947453,12884433,12855762,12988624,13122257,13279130,13278120,13378607,13440514,13439133,13378052,13470001,13608334,13755913,13922529,14020283,14169574,14210756,14404499,14536354,14581435,14750577,14847080,15031060,14972561,14929318,14891168,14816303,14681198,14585657,14614975,14598959,14542095,14542778,14470895,14426635,14254707,14272097,14175845,14123001,14046521,13923835,13833186,13677555,13595603,13475731,13534891,13511598,13599745,13540942,13443902,13318219,13249631,13140458,13083680,13142345,13233455,13237182,13325255,13450005,13548835,13620823,13638863,13481253,13429250,13320998,13263851,13383666,13427398,13570752,13568946,13499075,13525709,13591231,13545849,13483646,13312196,13208822,12900897,12775450,12707403,12668912,12605939,12450371,12332581,12294574,12232883,12203694,12230058,12080704,12028091,11916019,11863014,11880617,11778854,11725193,11630310,11433290,11315850,11332671,11273327,11259970,11178317,11047446,11079850,11009358,10982810,10865307,10878653,10984098,10985306,10936720,10899512,10834404,10714371,10751970,10699771,10620414,10527037,10398726,10297400,10207625,10158889,10100074,10020516,9960401,9886756,9877414,9809522,9553808,9463452,9376950,9339593,9277045,9164656,9075411,9029263,8765173,8733954,8813846,8817493,8773210,8784473,8664825,8481749,8448803,8366553,8346735,8333913,8266308,8229722,8201505,8233190,8217854,8324122,8401040,8518876,8560968,8703758,8743440,8918854,8934501]]],[[[8934501,8925613,9001984,8901786,9122306,9179285,9259609,9480445,9542360,9547676,9640131,9724867,9768426,9797654,9891215,10050015,10126824,10083961,10124011,10406227,10540723,10609512,10660227,10725565,10848280,11078050,11226110,11336002,11500670,11635367,11684649,11814261,11994093,12160941,12291019,12370899,12448812,12395244,12453679,12630744,12741665,12911401,12992973,13071323,13233029,13320854,13333049,13232166,13142840,13057276,12947453,12884433,12855762,12988624,13122257,13279130,13278120,13378607,13440514,13439133,13378052,13470001,13608334,13755913,13922529,14020283,14169574,14210756,14404499,14536354,14581435,14750577,14847080,15031060,14972561,14929318,14891168,14816303,14681198,14585657,14614975,14598959,14542095,14542778,14470895,14426635,14254707,14272097,14175845,14123001,14046521,13923835,13833186,13677555,13595603,13475731,13534891,13511598,13599745,13540942,13443902,13318219,13249631,13140458,13083680,13142345,13233455,13237182,13325255,13450005,13548835,13620823,13638863,13481253,13429250,13320998,13263851,13383666,13427398,13570752,13568946,13499075,13525709,13591231,13545849,13483646,13312196,13208822,12900897,12775450,12707403,12668912,12605939,12450371,12332581,12294574,12232883,12203694,12230058,12080704,12028091,11916019,11863014,11880617,11778854,11725193,11630310,11433290,11315850,11332671,11273327,11259970,11178317,11047446,11079850,11009358,10982810,10865307,10878653,10984098,10985306,10936720,10899512,10834404,10714371,10751970,10699771,10620414,10527037,10398726,10297400,10207625,10158889,10100074,10020516,9960401,9886756,9877414,9809522,9553808,9463452,9376950,9339593,9277045,9164656,9075411,9029263,8765173,8733954,8813846,8817493,8773210,8784473,8664825,8481749,8448803,8366553,8346735,8333913,8266308,8229722,8201505,8233190,8217854,8324122,8401040,8518876,8560968,8703758,8743440,8918854,8934501]]],[[[13556244,13489209,13441503,13382838,13370159,13435670,13524766,13575550,13556244]]],[[[969591,1025253,1092041,1076405,1025788,980383,938234,933776,908366,969591]]],[[[969591,1025253,1092041,1076405,1025788,980383,938234,933776,908366,969591]]],[[[969591,1025253,1092041,1076405,1025788,980383,938234,933776,908366,969591]]],[[[1377122,1412645,1345851,1229361,1213818,1377122]]],[[[1377122,1412645,1345851,1229361,1213818,1377122]]],[[[-344403,-327836,-404090,-539250,-565784,-525329,-561938,-621874,-628398,-684612,-644186,-557710,-468821,-334515,-453496,-340081,-218106,-247127,-347205,-232102,-124120,-47921,52317,187187,173657,116947,161398,61262,-87666,-277185,-329090,-402692,-505669,-583873,-643044,-479785,-380139,-554857,-586352,-470029,-530995,-509843,-344403]]],[[[-344403,-327836,-404090,-539250,-565784,-525329,-561938,-621874,-628398,-684612,-644186,-557710,-468821,-334515,-453496,-340081,-218106,-247127,-347205,-232102,-124120,-47921,52317,187187,173657,116947,161398,61262,-87666,-277185,-329090,-402692,-505669,-583873,-643044,-479785,-380139,-554857,-586352,-470029,-530995,-509843,-344403]]],[[[-1615100,-1640808,-1515028,-1659755,-2076803,-2533962,-2424369,-2666663,-2469556,-2474345,-2707978,-2632763,-2464048,-2290541,-2121397,-1981333,-1799793,-1615100]]],[[[3182839,3166587,3337071,3234342,3363813,3288870,3389086,3343578,3508355,3466487,3124737,2922712,2726951,2545842,2481396,2373581,2398363,2344300,2397379,2498314,2752987,2827299,2815719,2660911,2623341,2620402,2298256,2364975,2488685,2634047,2753563,2859710,2914302,3087144,3229998,3182839]]],[[[14735491,14797073,14860369,14906136,14987881,15002124,14939455,14893763,14836691,14807146,14734594,14735491]]],[[[14735491,14797073,14860369,14906136,14987881,15002124,14939455,14893763,14836691,14807146,14734594,14735491]]],[[[14735491,14797073,14860369,14906136,14987881,15002124,14939455,14893763,14836691,14807146,14734594,14735491]]]],\"__y__\":[[[[5947953,5868931,5847244,5851649,5785701,5775251,5843496,5897703,5947953]]],[[[5947953,5868931,5847244,5851649,5785701,5775251,5843496,5897703,5947953]]],[[[5947953,5868931,5847244,5851649,5785701,5775251,5843496,5897703,5947953]]],[[[5947953,5868931,5847244,5851649,5785701,5775251,5843496,5897703,5947953]]],[[[5947953,5868931,5847244,5851649,5785701,5775251,5843496,5897703,5947953]]],[[[5947953,5868931,5847244,5851649,5785701,5775251,5843496,5897703,5947953]]],[[[5947953,5868931,5847244,5851649,5785701,5775251,5843496,5897703,5947953]]],[[[5947953,5868931,5847244,5851649,5785701,5775251,5843496,5897703,5947953]]],[[[5947953,5868931,5847244,5851649,5785701,5775251,5843496,5897703,5947953]]],[[[5947953,5868931,5847244,5851649,5785701,5775251,5843496,5897703,5947953]]],[[[5947953,5868931,5847244,5851649,5785701,5775251,5843496,5897703,5947953]]],[[[5947953,5868931,5847244,5851649,5785701,5775251,5843496,5897703,5947953]]],[[[5947953,5868931,5847244,5851649,5785701,5775251,5843496,5897703,5947953]]],[[[5947953,5868931,5847244,5851649,5785701,5775251,5843496,5897703,5947953]]],[[[5947953,5868931,5847244,5851649,5785701,5775251,5843496,5897703,5947953]]],[[[5947953,5868931,5847244,5851649,5785701,5775251,5843496,5897703,5947953]]],[[[5947953,5868931,5847244,5851649,5785701,5775251,5843496,5897703,5947953]]],[[[5947953,5868931,5847244,5851649,5785701,5775251,5843496,5897703,5947953]]],[[[5947953,5868931,5847244,5851649,5785701,5775251,5843496,5897703,5947953]]],[[[5947953,5868931,5847244,5851649,5785701,5775251,5843496,5897703,5947953]]],[[[5947953,5868931,5847244,5851649,5785701,5775251,5843496,5897703,5947953]]],[[[5947953,5868931,5847244,5851649,5785701,5775251,5843496,5897703,5947953]]],[[[5947953,5868931,5847244,5851649,5785701,5775251,5843496,5897703,5947953]]],[[[5947953,5868931,5847244,5851649,5785701,5775251,5843496,5897703,5947953]]],[[[5947953,5868931,5847244,5851649,5785701,5775251,5843496,5897703,5947953]]],[[[5947953,5868931,5847244,5851649,5785701,5775251,5843496,5897703,5947953]]],[[[5947953,5868931,5847244,5851649,5785701,5775251,5843496,5897703,5947953]]],[[[5947953,5868931,5847244,5851649,5785701,5775251,5843496,5897703,5947953]]],[[[5947953,5868931,5847244,5851649,5785701,5775251,5843496,5897703,5947953]]],[[[5947953,5868931,5847244,5851649,5785701,5775251,5843496,5897703,5947953]]],[[[5775850,5815606,5774848,5724631,5686299,5695817,5639362,5612080,5521553,5553278,5626997,5673222,5703630,5756594,5775850]]],[[[5775850,5815606,5774848,5724631,5686299,5695817,5639362,5612080,5521553,5553278,5626997,5673222,5703630,5756594,5775850]]],[[[5775850,5815606,5774848,5724631,5686299,5695817,5639362,5612080,5521553,5553278,5626997,5673222,5703630,5756594,5775850]]],[[[5775850,5815606,5774848,5724631,5686299,5695817,5639362,5612080,5521553,5553278,5626997,5673222,5703630,5756594,5775850]]],[[[5775850,5815606,5774848,5724631,5686299,5695817,5639362,5612080,5521553,5553278,5626997,5673222,5703630,5756594,5775850]]],[[[5775850,5815606,5774848,5724631,5686299,5695817,5639362,5612080,5521553,5553278,5626997,5673222,5703630,5756594,5775850]]],[[[5775850,5815606,5774848,5724631,5686299,5695817,5639362,5612080,5521553,5553278,5626997,5673222,5703630,5756594,5775850]]],[[[5775850,5815606,5774848,5724631,5686299,5695817,5639362,5612080,5521553,5553278,5626997,5673222,5703630,5756594,5775850]]],[[[5775850,5815606,5774848,5724631,5686299,5695817,5639362,5612080,5521553,5553278,5626997,5673222,5703630,5756594,5775850]]],[[[5775850,5815606,5774848,5724631,5686299,5695817,5639362,5612080,5521553,5553278,5626997,5673222,5703630,5756594,5775850]]],[[[5775850,5815606,5774848,5724631,5686299,5695817,5639362,5612080,5521553,5553278,5626997,5673222,5703630,5756594,5775850]]],[[[5775850,5815606,5774848,5724631,5686299,5695817,5639362,5612080,5521553,5553278,5626997,5673222,5703630,5756594,5775850]]],[[[5775850,5815606,5774848,5724631,5686299,5695817,5639362,5612080,5521553,5553278,5626997,5673222,5703630,5756594,5775850]]],[[[5775850,5815606,5774848,5724631,5686299,5695817,5639362,5612080,5521553,5553278,5626997,5673222,5703630,5756594,5775850]]],[[[-3321879,-3259336,-3293924,-3348120,-3381433,-3372139,-3307233,-2847249,-2865671,-2982758,-3058336,-3102066,-3089347,-2996535,-2937341,-2908783,-2958292,-2964402,-2935658,-2838496,-2828692,-2701622,-2611201,-2522491,-2544166,-2529732,-2541748,-2798488,-2935346,-2979689,-2957054,-2965858,-3048468,-3091504,-3159234,-3145719,-3090255,-3091298,-3286977,-3344170,-3426908,-3650979,-3865073,-3925468,-3977215,-3984180,-4021371,-4001556,-4027080,-4001238,-4017586,-4010566,-4063610,-4084956,-4136075,-4139333,-4091088,-4088618,-4028516,-4047148,-4011058,-3932719,-3843822,-3819773,-3718976,-3321879],[-3369995,-3330856,-3356754,-3406574,-3487614,-3586744,-3573893,-3532661,-3512557,-3408446,-3369995]]],[[[3833789,3858307,3832461,3676295,3677273,3731174,3731130,3586604,3448647,3410056,3371828,3472737,3475212,3424191,3262849,3191101,3044979,2979277,2982988,2786629,2564942,2348460,2260114,2134698,2103520,2054453,2140352,2188415,2391861,2450842,2456809,2431452,2373985,2303311,2231206,2210633,2067982,2098110,2094610,2023881,2037725,2015124,2016209,1950488,1950199,1852264,1812779,1812432,1718195,1696644,1636108,1797794,1828008,1819587,1764632,1940747,2027729,2071789,2125356,2192191,2266725,2324527,2336127,2370058,2400977,2442281,2604680,2725135,2820439,2896924,2947229,2977408,3054044,3083072,3143740,3231318,3241567,3369844,3409653,3605102,3654972,3706685,3700995,3737024,3683956,3524478,3344472,3300927,3302687,3221292,3144943,3081408,2965998,2854388,2789835,2785799,2676179,2654477,2610056,2610636,2684221,2753525,2843648,2933600,3000567,3094539,3078498,3110991,3141235,3214060,3216419,3263480,3320536,3411265,3446650,3833789]]],[[[-3997743,-3922147,-3859211,-3769513,-3613787,-3617573,-3517656,-3531382,-3234094,-3113913,-3014554,-2943161,-2966822,-2823118,-2755968,-2733872,-2753563,-2748161,-2590424,-2554433,-2521889,-2545435,-2522355,-2360032,-2293975,-2269476,-2202087,-2150443,-2057946,-1985231,-1952476,-1906524,-1839441,-1834652,-1700025,-1698100,-1548524,-1514554,-1515678,-1482451,-1459806,-1417153,-1398330,-1296386,-1091995,-1111128,-1199469,-1233753,-1226633,-1246168,-1233144,-1061298,-1127870,-1124949,-1064693,-1058149,-1009721,-941202,-839966,-819441,-772053,-739693,-679125,-640185,-587992,-511948,-490465,-473683,-478921,-124977,-61225,-20611,60270,78611,67088,109730,121243,190919,188430,226823,191498,125811,139534,80647,87862,121933,166202,213369,245063,268478,278053,348245,423013,451939,462210,420041,446417,505525,548153,579688,584630,558876,509824,492912,441042,401738,306829,198948,146698,141174,162983,187331,216952,202375,225134,247279,279541,269641,281033,234442,264649,259991,228631,236592,278911,463075,468350,211719,193334,116467,24822,-8732,-26214,-137802,-64746,-172759,-238028,-299705,-265363,-324304,-319961,-412241,-537299,-569531,-574013,-609278,-819690,-1005615,-1236725,-1365197,-1464087,-1466319,-1550520,-1766197,-2022074,-2068272,-2225600,-2380496,-2504001,-2556087,-2628399,-2628112,-2674638,-2728671,-2764253,-2861650,-2983857,-3076535,-3145466,-3334233,-3404247,-3630731,-3795562,-3921425,-3997743]]],[[[5255538,5313491,5183849,5068555,5098809,5199482,5255538]]],[[[5255538,5313491,5183849,5068555,5098809,5199482,5255538]]],[[[5255538,5313491,5183849,5068555,5098809,5199482,5255538]]],[[[3856767,3815140,3833415,3745810,3731107,3713111,3678735,3696430,3645751,3439609,3661270,3704231,3905999,3907128,3930434,3932185,3856767]]],[[[3281993,3234172,3211084,3133942,3156567,3070295,2999242,2895716,2835907,2735230,2762983,2637299,2596154,2544990,2516477,2708082,2707699,2630236,2693026,2762262,2769307,2872882,2893864,2908913,2994756,3000865,3054490,2970383,2905091,2859304,2814657,2781913,2708525,2617409,2518214,2474416,2451068,2361296,2291003,2211362,2072928,1922761,1869278,1799161,1793050,1704926,1460447,1352106,1159297,1153818,1067621,1030434,998475,921908,889589,994670,1267081,1430264,1645125,1803640,2179467,2322793,2434379,2362979,2377257,2522249,2565732,2613064,2715917,2797231,2796912,2902188,2964718,3060130,3116098,3247611,3238032,3370758,3500518,3630127,3723032,3798950,3864139,4071541,4129808,4096803,4116898,4231219,4072112,3962687,3894559,3826983,3844730,3699932,3527156,3468873,3349512,3169086,3152850,3089305,3048446,3050524,3099804,3179282,3233417,3259929,3135841,3088458,3107953,3103285,3180134,3220226,3235978,3329985,3411005,3379683,3433404,3354151,3300894,3281993]]],[[[8149359,8274436,8426041,8693545,8811959,9131784,9366599,9362247,9463786,9552495,9930107,10451140,10450133,10617708,10569078,10771050,10783870,10428007,9986091,9878742,9801642,9615224,9455576,9251300,9039065,8704584,8542850,8417997,8170400,8120075,7768527,7579207,7598510,7441413,7432390,7619791,7850963,8149359]]],[[[7153601,7070435,6999613,6926062,6888660,6804402,6724260,6569348,6520185,6499876,6356150,6279511,6355008,6330832,6348389,6311783,6372407,6349141,6444306,6454772,6509230,6528767,6483723,6519788,6567999,6583302,6640184,6754182,6816405,6913904,6979532,7029035,7124274,7179765,7333105,7300508,7253686,7229568,7232433,7212040,7153601]]],[[[6127424,6059549,6059224,6023441,5890583,5886542,5849820,5904215,5960929,5932543,5901583,5929144,5958871,6028202,6037296,5991588,6035019,6027989,6057599,6052523,6018742,6046772,6155093,6176362,6254045,6199740,6268823,6281494,6229829,6238595,6206752,6127424]]],[[[7124274,7029035,6979532,6913904,6816405,6754182,6640184,6621707,6642063,6608376,6574240,6530535,6492529,6368261,6254045,6176362,6155093,6046772,6018742,6052523,6057599,6027989,6035019,5991588,6037296,6028202,6078756,6042807,6043963,6162437,6277879,6309199,6353928,6429360,6468481,6586647,6773340,6773414,6841536,7009686,7072687,7112402,7122629,7081228,7174093,7245445,7354638,7329109,7358587,7283972,7239322,7171802,7207456,7259746,7184470,7124274]]],[[[5062324,5058038,5098851,5046990,5060975,5135085,5095610,5002944,4986434,5004536,4966302,4884122,4860422,4860276,4935357,4903295,4816557,4748925,4717504,4610550,4530804,4568132,4496409,4481706,4358914,4357184,4417521,4623357,4770525,4811596,4881941,4929358,4950588,4989171,5002209,5034472,5031607,5062324]]],[[[5062324,5058038,5098851,5046990,5060975,5135085,5095610,5002944,4986434,5004536,4966302,4884122,4860422,4860276,4935357,4903295,4816557,4748925,4717504,4610550,4530804,4568132,4496409,4481706,4358914,4357184,4417521,4623357,4770525,4811596,4881941,4929358,4950588,4989171,5002209,5034472,5031607,5062324]]],[[[6028202,5958871,5929144,5924715,5858183,5830956,5851176,5786269,5781174,5806611,5752268,5744676,5778930,5849473,5824204,5897428,5989162,6030962,6015798,6043963,6042807,6078756,6028202]]],[[[6586647,6468481,6461933,6365185,6443743,6430271,6582534,6585436,6647604,6682687,6668705,6705753,6627894,6586647]]],[[[7072687,7009686,6841536,6773414,6773340,6586647,6627894,6705753,6668705,6682683,6731803,6999996,7077972,7072687]]],[[[5143106,5203085,5129706,5129883,5148755,5143527,5068823,5028740,4914140,4892793,4824163,4812257,4725980,4632261,4590134,4499060,4452745,4416587,4436163,4420836,4530289,4617105,4630192,4684130,4777988,4830416,4977099,5143106]]],[[[4452745,4499060,4590134,4632261,4725980,4812257,4824163,4892793,4914140,5028740,5068823,5143527,5148755,5129883,5129706,5203085,5143106,5250192,5316025,5426579,5398816,5399789,5373583,5376549,5317150,5248191,5280932,5212556,5232100,5144833,5045747,5014514,4965008,4883968,4766171,4684284,4620810,4529024,4501045,4393783,4394296,4345393,4293310,4304724,4351331,4431152,4452745]]],[[[7145114,7011379,6847295,6740550,6767726,6957997,7147719,7387453,7283818,7181519,7184127,7145114]]],[[[-5396883,-5238099,-5126204,-5088516,-5005869,-4937985,-5061435,-5001536,-5063979,-5126589,-5307412,-5368810,-5442774,-5444681,-5503049,-5765766,-5883709,-5880258,-5826976,-5815661,-5756776,-5639003,-5484647,-5455515,-5396883]]],[[[-5396883,-5238099,-5126204,-5088516,-5005869,-4937985,-5061435,-5001536,-5063979,-5126589,-5307412,-5368810,-5442774,-5444681,-5503049,-5765766,-5883709,-5880258,-5826976,-5815661,-5756776,-5639003,-5484647,-5455515,-5396883]]],[[[-3791693,-3859355,-3889927,-3959704,-4014065,-4029258,-4004796,-4025588,-4097404,-4091297,-4172681,-4167292,-4080808,-4055220,-3978348,-3960159,-3929808,-3790258,-3712543,-3581115,-3507499,-3434465,-3351514,-3314237,-3263868,-3165358,-3066507,-3013522,-3067240,-2952249,-2988091,-3036091,-2972634,-2800363,-2639274,-2568708,-2482240,-2573770,-2491069,-2451021,-2400070,-2356342,-2347052,-2361724,-2317414,-2304249,-2267457,-2270248,-2235599,-2183183,-2120272,-2060695,-1950525,-1851695,-1952109,-1928862,-1873906,-1817617,-1842731,-1754639,-1652394,-1632801,-1600692,-1614096,-1585231,-1553340,-1606004,-1674127,-1685718,-1622523,-1530507,-1500591,-1472018,-1406814,-1366615,-1380148,-1358689,-1300561,-1263169,-1246684,-1274820,-1321422,-1350530,-1339015,-1374014,-1341414,-1351324,-1329462,-1385790,-1493024,-1496831,-1542602,-1656426,-1688939,-1752698,-1789761,-1898440,-1928122,-1964124,-2003726,-1963829,-1849800,-1694377,-1539600,-1453413,-1430219,-1392133,-1236953,-1194499,-1249956,-1321216,-1334970,-1382792,-1440814,-1547115,-1637198,-1593862,-1687468,-1738599,-1837829,-1895802,-1909993,-2009669,-2070356,-2150023,-2211615,-2319433,-2348226,-2422968,-2552697,-2526273,-2578429,-2559907,-2688014,-2908637,-3007898,-3156030,-3262857,-3375019,-3548649,-3622836,-3835725,-3900792,-4070552,-4187478,-4255565,-4358596,-4498549,-4547362,-4552487,-4610440,-4726794,-4663648,-4638566,-4564770,-4591486,-4694415,-4582157,-4495420,-4319676,-4263910,-4247404,-4181188,-4080578,-4174326,-4199343,-4124180,-4046307,-3980628,-3882039,-3995653,-4041533,-4148958,-4093258,-4021815,-3924911,-3875155,-3844607,-3764784,-3761032,-3697307,-3709666,-3800419,-3791693]]],[[[-3791693,-3859355,-3889927,-3959704,-4014065,-4029258,-4004796,-4025588,-4097404,-4091297,-4172681,-4167292,-4080808,-4055220,-3978348,-3960159,-3929808,-3790258,-3712543,-3581115,-3507499,-3434465,-3351514,-3314237,-3263868,-3165358,-3066507,-3013522,-3067240,-2952249,-2988091,-3036091,-2972634,-2800363,-2639274,-2568708,-2482240,-2573770,-2491069,-2451021,-2400070,-2356342,-2347052,-2361724,-2317414,-2304249,-2267457,-2270248,-2235599,-2183183,-2120272,-2060695,-1950525,-1851695,-1952109,-1928862,-1873906,-1817617,-1842731,-1754639,-1652394,-1632801,-1600692,-1614096,-1585231,-1553340,-1606004,-1674127,-1685718,-1622523,-1530507,-1500591,-1472018,-1406814,-1366615,-1380148,-1358689,-1300561,-1263169,-1246684,-1274820,-1321422,-1350530,-1339015,-1374014,-1341414,-1351324,-1329462,-1385790,-1493024,-1496831,-1542602,-1656426,-1688939,-1752698,-1789761,-1898440,-1928122,-1964124,-2003726,-1963829,-1849800,-1694377,-1539600,-1453413,-1430219,-1392133,-1236953,-1194499,-1249956,-1321216,-1334970,-1382792,-1440814,-1547115,-1637198,-1593862,-1687468,-1738599,-1837829,-1895802,-1909993,-2009669,-2070356,-2150023,-2211615,-2319433,-2348226,-2422968,-2552697,-2526273,-2578429,-2559907,-2688014,-2908637,-3007898,-3156030,-3262857,-3375019,-3548649,-3622836,-3835725,-3900792,-4070552,-4187478,-4255565,-4358596,-4498549,-4547362,-4552487,-4610440,-4726794,-4663648,-4638566,-4564770,-4591486,-4694415,-4582157,-4495420,-4319676,-4263910,-4247404,-4181188,-4080578,-4174326,-4199343,-4124180,-4046307,-3980628,-3882039,-3995653,-4041533,-4148958,-4093258,-4021815,-3924911,-3875155,-3844607,-3764784,-3761032,-3697307,-3709666,-3800419,-3791693]]],[[[5213552,5299813,5339465,5608545,5671569,5706882,5996110,5942230,6016326,6183013,6198710,6311418,6325440,6207169,6118355,6056022,5923835,5735546,5666670,5617660,5520129,5502864,5360722,5270303,5273828,5239902,5260938,5238419,5147128,5147260,5100862,5181122,5233383,5239110,5292392,5374102,5425774,5536507,5637606,5591485,5675178,5736745,5842778,5888818,5910370,5892055,5949922,6064877,6117963,6056710,6082502,6061481,6129407,6426993,6362013,6471057,6547846,6735929,6793638,6894009,6937602,7029636,7063258,7068318,7012842,6944762,6575395,6404861,6349955,6229118,6072010,6071816,6137427,6186787,6037008,5976825,5799106,5644234,5672224,5616478,5482716,5301321,5297221,5220337,5309747,5224853,5160123,5081436,5086842,5133541,5028186,4949096,4855556,4813445,4746116,4706995,4773493,4829717,4927521,5004437,4952550,4851139,4757880,4750974,4684159,4588113,4564931,4501802,4460927,4561137,4506383,4502646,4429439,4390617,4315966,4247061,4151638,4077289,3945415,3722971,3626173,3590777,3521933,3482040,3277435,3266089,2967010,2820253,2605781,2591926,2538411,2577488,2517693,2457641,2439297,2313474,2306522,2392859,2439047,2477367,2457867,2488956,2537743,2607157,2629224,2674650,2610162,2596840,2549771,2412682,2415939,2493523,2458640,2525736,2625856,2649287,2761121,2740911,2886021,2989015,3187186,3217141,3291395,3281993,3300894,3354151,3433404,3379683,3411005,3329985,3235978,3220226,3254095,3257165,3286399,3254365,3160917,3259929,3233417,3274664,3330257,3355283,3416467,3434802,3518375,3558002,3527156,3699932,3844730,3826983,3894559,3962687,4072112,4231219,4286650,4392765,4457665,4497810,4633083,4665462,4651129,4783632,4816657,4850546,4919333,4947960,4928326,5022153,5039714,5098605,5179563,5213552]]],[[[5213552,5299813,5339465,5608545,5671569,5706882,5996110,5942230,6016326,6183013,6198710,6311418,6325440,6207169,6118355,6056022,5923835,5735546,5666670,5617660,5520129,5502864,5360722,5270303,5273828,5239902,5260938,5238419,5147128,5147260,5100862,5181122,5233383,5239110,5292392,5374102,5425774,5536507,5637606,5591485,5675178,5736745,5842778,5888818,5910370,5892055,5949922,6064877,6117963,6056710,6082502,6061481,6129407,6426993,6362013,6471057,6547846,6735929,6793638,6894009,6937602,7029636,7063258,7068318,7012842,6944762,6575395,6404861,6349955,6229118,6072010,6071816,6137427,6186787,6037008,5976825,5799106,5644234,5672224,5616478,5482716,5301321,5297221,5220337,5309747,5224853,5160123,5081436,5086842,5133541,5028186,4949096,4855556,4813445,4746116,4706995,4773493,4829717,4927521,5004437,4952550,4851139,4757880,4750974,4684159,4588113,4564931,4501802,4460927,4561137,4506383,4502646,4429439,4390617,4315966,4247061,4151638,4077289,3945415,3722971,3626173,3590777,3521933,3482040,3277435,3266089,2967010,2820253,2605781,2591926,2538411,2577488,2517693,2457641,2439297,2313474,2306522,2392859,2439047,2477367,2457867,2488956,2537743,2607157,2629224,2674650,2610162,2596840,2549771,2412682,2415939,2493523,2458640,2525736,2625856,2649287,2761121,2740911,2886021,2989015,3187186,3217141,3291395,3281993,3300894,3354151,3433404,3379683,3411005,3329985,3235978,3220226,3254095,3257165,3286399,3254365,3160917,3259929,3233417,3274664,3330257,3355283,3416467,3434802,3518375,3558002,3527156,3699932,3844730,3826983,3894559,3962687,4072112,4231219,4286650,4392765,4457665,4497810,4633083,4665462,4651129,4783632,4816657,4850546,4919333,4947960,4928326,5022153,5039714,5098605,5179563,5213552]]],[[[2801526,2606745,2507992,2609644,2699429,2819159,2912078,2875449,2801526]]],[[[4997600,5043364,4938870,4747111,4756176,4708304,4746317,4921070,5004970,4997600]]],[[[4997600,5043364,4938870,4747111,4756176,4708304,4746317,4921070,5004970,4997600]]],[[[4997600,5043364,4938870,4747111,4756176,4708304,4746317,4921070,5004970,4997600]]],[[[7580625,7481164,7323149,7433003,7514734,7580625]]],[[[7580625,7481164,7323149,7433003,7514734,7580625]]],[[[7058181,7167315,7287503,7321403,7373830,7461182,7515532,7422488,7613359,7716302,7929359,8100844,8083934,8101911,7874002,7902480,7901393,7733597,7553200,7540519,7289421,7258598,6970060,6934960,6818226,6765260,6672650,6579959,6581587,6533324,6567849,6485917,6505687,6439351,6473975,6658524,6696998,6726950,6798570,6854798,6953457,7075090,7058181]]],[[[7058181,7167315,7287503,7321403,7373830,7461182,7515532,7422488,7613359,7716302,7929359,8100844,8083934,8101911,7874002,7902480,7901393,7733597,7553200,7540519,7289421,7258598,6970060,6934960,6818226,6765260,6672650,6579959,6581587,6533324,6567849,6485917,6505687,6439351,6473975,6658524,6696998,6726950,6798570,6854798,6953457,7075090,7058181]]],[[[10002748,9824697,9641816,9442826,9223013,9339659,9452619,9579752,9630788,9708808,9771234,9949067,9990101,9803909,9952962,9875163,10022534,10002748]]],[[[10770937,10556210,10357920,10140203,9823945,9594864,9401873,9237104,9067880,8944460,8512703,8494739,8412509,8365613,8487516,8561851,8789606,9004623,9146926,9303649,9582695,9637783,9750549,9878742,9986091,10428007,10783870,10866837,10701802,10717088,10642786,10779459,11012091,11122368,10993136,10770937]]],[[[3957007,4036901,4021368,4077909,4048858,4002827,3922037,3964795,3933802,3856155,3893894,3957007]]],[[[3957007,4036901,4021368,4077909,4048858,4002827,3922037,3964795,3933802,3856155,3893894,3957007]]],[[[3957007,4036901,4021368,4077909,4048858,4002827,3922037,3964795,3933802,3856155,3893894,3957007]]]],\"index\":[842,842,842,842,842,842,842,842,842,842,842,842,842,842,842,842,842,842,842,842,842,842,842,842,842,842,842,842,842,842,3185,3185,3185,3185,3185,3185,3185,3185,3185,3185,3185,3185,3185,3185,3557,6876,8945,11001,11001,11001,11210,12211,13381,14220,14421,15225,15382,15382,16895,17142,17268,17795,19045,19265,19384,19384,19983,19983,22312,22312,22487,24041,24041,24041,24273,24273,24781,24781,24925,25053,26681,26681,26681]},\"selected\":{\"id\":\"1189\",\"type\":\"Selection\"},\"selection_policy\":{\"id\":\"1190\",\"type\":\"UnionRenderers\"}},\"id\":\"1170\",\"type\":\"ColumnDataSource\"},{\"attributes\":{\"axis_label\":\"Latitude\",\"formatter\":{\"id\":\"1145\",\"type\":\"MercatorTickFormatter\"},\"ticker\":{\"id\":\"1143\",\"type\":\"MercatorTicker\"}},\"id\":\"1142\",\"type\":\"MercatorAxis\"},{\"attributes\":{\"axis_label\":\"Longitude\",\"formatter\":{\"id\":\"1136\",\"type\":\"MercatorTickFormatter\"},\"ticker\":{\"id\":\"1134\",\"type\":\"MercatorTicker\"}},\"id\":\"1133\",\"type\":\"MercatorAxis\"},{\"attributes\":{},\"id\":\"1156\",\"type\":\"HelpTool\"},{\"attributes\":{\"callback\":null},\"id\":\"1125\",\"type\":\"DataRange1d\"},{\"attributes\":{\"fill_color\":{\"value\":\"blue\"},\"xs\":{\"field\":\"__x__\"},\"ys\":{\"field\":\"__y__\"}},\"id\":\"1172\",\"type\":\"MultiPolygons\"},{\"attributes\":{},\"id\":\"1154\",\"type\":\"SaveTool\"},{\"attributes\":{\"attribution\":\"&copy; <a href=\\\"https://www.openstreetmap.org/copyright\\\">OpenStreetMap</a> contributors,&copy; <a href=\\\"https://cartodb.com/attributions\\\">CartoDB</a>\",\"url\":\"https://tiles.basemaps.cartocdn.com/light_all/{z}/{x}/{y}@2x.png\"},\"id\":\"1165\",\"type\":\"WMTSTileSource\"},{\"attributes\":{},\"id\":\"1151\",\"type\":\"PanTool\"},{\"attributes\":{},\"id\":\"1129\",\"type\":\"LinearScale\"},{\"attributes\":{\"ticker\":{\"id\":\"1134\",\"type\":\"MercatorTicker\"}},\"id\":\"1141\",\"type\":\"Grid\"},{\"attributes\":{},\"id\":\"1155\",\"type\":\"ResetTool\"},{\"attributes\":{\"tile_source\":{\"id\":\"1165\",\"type\":\"WMTSTileSource\"}},\"id\":\"1166\",\"type\":\"TileRenderer\"},{\"attributes\":{\"fill_alpha\":{\"value\":0.1},\"fill_color\":{\"value\":\"#1f77b4\"},\"line_alpha\":{\"value\":0.1},\"line_color\":{\"value\":\"#1f77b4\"},\"xs\":{\"field\":\"__x__\"},\"ys\":{\"field\":\"__y__\"}},\"id\":\"1173\",\"type\":\"MultiPolygons\"},{\"attributes\":{\"callback\":null},\"id\":\"1127\",\"type\":\"DataRange1d\"},{\"attributes\":{},\"id\":\"1131\",\"type\":\"LinearScale\"},{\"attributes\":{},\"id\":\"1189\",\"type\":\"Selection\"},{\"attributes\":{\"data_source\":{\"id\":\"1170\",\"type\":\"ColumnDataSource\"},\"glyph\":{\"id\":\"1172\",\"type\":\"MultiPolygons\"},\"hover_glyph\":null,\"muted_glyph\":null,\"nonselection_glyph\":{\"id\":\"1173\",\"type\":\"MultiPolygons\"},\"selection_glyph\":null,\"view\":{\"id\":\"1175\",\"type\":\"CDSView\"}},\"id\":\"1174\",\"type\":\"GlyphRenderer\"},{\"attributes\":{\"dimension\":\"lat\"},\"id\":\"1145\",\"type\":\"MercatorTickFormatter\"},{\"attributes\":{\"dimension\":\"lat\"},\"id\":\"1143\",\"type\":\"MercatorTicker\"}],\"root_ids\":[\"1122\"]},\"title\":\"Bokeh Application\",\"version\":\"1.4.0\"}};\n",
              "  var render_items = [{\"docid\":\"57045935-428a-4e9d-95a4-8ff287277d93\",\"roots\":{\"1122\":\"bed70718-2938-466a-be96-ada168532561\"}}];\n",
              "  root.Bokeh.embed.embed_items_notebook(docs_json, render_items);\n",
              "\n",
              "  }\n",
              "  if (root.Bokeh !== undefined) {\n",
              "    embed_document(root);\n",
              "  } else {\n",
              "    var attempts = 0;\n",
              "    var timer = setInterval(function(root) {\n",
              "      if (root.Bokeh !== undefined) {\n",
              "        clearInterval(timer);\n",
              "        embed_document(root);\n",
              "      } else {\n",
              "        attempts++;\n",
              "        if (attempts > 100) {\n",
              "          clearInterval(timer);\n",
              "          console.log(\"Bokeh: ERROR: Unable to run BokehJS code because BokehJS library is missing\");\n",
              "        }\n",
              "      }\n",
              "    }, 10, root)\n",
              "  }\n",
              "})(window);"
            ],
            "application/vnd.bokehjs_exec.v0+json": ""
          },
          "metadata": {
            "tags": [],
            "application/vnd.bokehjs_exec.v0+json": {
              "id": "1122"
            }
          }
        },
        {
          "output_type": "execute_result",
          "data": {
            "text/html": [
              "<div style=\"display: table;\"><div style=\"display: table-row;\"><div style=\"display: table-cell;\"><b title=\"bokeh.plotting.figure.Figure\">Figure</b>(</div><div style=\"display: table-cell;\">id&nbsp;=&nbsp;'1122', <span id=\"1241\" style=\"cursor: pointer;\">&hellip;)</span></div></div><div class=\"1240\" style=\"display: none;\"><div style=\"display: table-cell;\"></div><div style=\"display: table-cell;\">above&nbsp;=&nbsp;[],</div></div><div class=\"1240\" style=\"display: none;\"><div style=\"display: table-cell;\"></div><div style=\"display: table-cell;\">align&nbsp;=&nbsp;'start',</div></div><div class=\"1240\" style=\"display: none;\"><div style=\"display: table-cell;\"></div><div style=\"display: table-cell;\">aspect_ratio&nbsp;=&nbsp;None,</div></div><div class=\"1240\" style=\"display: none;\"><div style=\"display: table-cell;\"></div><div style=\"display: table-cell;\">aspect_scale&nbsp;=&nbsp;1,</div></div><div class=\"1240\" style=\"display: none;\"><div style=\"display: table-cell;\"></div><div style=\"display: table-cell;\">background&nbsp;=&nbsp;None,</div></div><div class=\"1240\" style=\"display: none;\"><div style=\"display: table-cell;\"></div><div style=\"display: table-cell;\">background_fill_alpha&nbsp;=&nbsp;{'value': 1.0},</div></div><div class=\"1240\" style=\"display: none;\"><div style=\"display: table-cell;\"></div><div style=\"display: table-cell;\">background_fill_color&nbsp;=&nbsp;{'value': '#ffffff'},</div></div><div class=\"1240\" style=\"display: none;\"><div style=\"display: table-cell;\"></div><div style=\"display: table-cell;\">below&nbsp;=&nbsp;[MercatorAxis(id='1133', ...)],</div></div><div class=\"1240\" style=\"display: none;\"><div style=\"display: table-cell;\"></div><div style=\"display: table-cell;\">border_fill_alpha&nbsp;=&nbsp;{'value': 1.0},</div></div><div class=\"1240\" style=\"display: none;\"><div style=\"display: table-cell;\"></div><div style=\"display: table-cell;\">border_fill_color&nbsp;=&nbsp;{'value': '#ffffff'},</div></div><div class=\"1240\" style=\"display: none;\"><div style=\"display: table-cell;\"></div><div style=\"display: table-cell;\">center&nbsp;=&nbsp;[Grid(id='1141', ...), Grid(id='1150', ...), Legend(id='1182', ...)],</div></div><div class=\"1240\" style=\"display: none;\"><div style=\"display: table-cell;\"></div><div style=\"display: table-cell;\">css_classes&nbsp;=&nbsp;[],</div></div><div class=\"1240\" style=\"display: none;\"><div style=\"display: table-cell;\"></div><div style=\"display: table-cell;\">disabled&nbsp;=&nbsp;False,</div></div><div class=\"1240\" style=\"display: none;\"><div style=\"display: table-cell;\"></div><div style=\"display: table-cell;\">extra_x_ranges&nbsp;=&nbsp;{},</div></div><div class=\"1240\" style=\"display: none;\"><div style=\"display: table-cell;\"></div><div style=\"display: table-cell;\">extra_y_ranges&nbsp;=&nbsp;{},</div></div><div class=\"1240\" style=\"display: none;\"><div style=\"display: table-cell;\"></div><div style=\"display: table-cell;\">frame_height&nbsp;=&nbsp;None,</div></div><div class=\"1240\" style=\"display: none;\"><div style=\"display: table-cell;\"></div><div style=\"display: table-cell;\">frame_width&nbsp;=&nbsp;None,</div></div><div class=\"1240\" style=\"display: none;\"><div style=\"display: table-cell;\"></div><div style=\"display: table-cell;\">height&nbsp;=&nbsp;None,</div></div><div class=\"1240\" style=\"display: none;\"><div style=\"display: table-cell;\"></div><div style=\"display: table-cell;\">height_policy&nbsp;=&nbsp;'auto',</div></div><div class=\"1240\" style=\"display: none;\"><div style=\"display: table-cell;\"></div><div style=\"display: table-cell;\">hidpi&nbsp;=&nbsp;True,</div></div><div class=\"1240\" style=\"display: none;\"><div style=\"display: table-cell;\"></div><div style=\"display: table-cell;\">js_event_callbacks&nbsp;=&nbsp;{},</div></div><div class=\"1240\" style=\"display: none;\"><div style=\"display: table-cell;\"></div><div style=\"display: table-cell;\">js_property_callbacks&nbsp;=&nbsp;{},</div></div><div class=\"1240\" style=\"display: none;\"><div style=\"display: table-cell;\"></div><div style=\"display: table-cell;\">left&nbsp;=&nbsp;[MercatorAxis(id='1142', ...)],</div></div><div class=\"1240\" style=\"display: none;\"><div style=\"display: table-cell;\"></div><div style=\"display: table-cell;\">lod_factor&nbsp;=&nbsp;10,</div></div><div class=\"1240\" style=\"display: none;\"><div style=\"display: table-cell;\"></div><div style=\"display: table-cell;\">lod_interval&nbsp;=&nbsp;300,</div></div><div class=\"1240\" style=\"display: none;\"><div style=\"display: table-cell;\"></div><div style=\"display: table-cell;\">lod_threshold&nbsp;=&nbsp;2000,</div></div><div class=\"1240\" style=\"display: none;\"><div style=\"display: table-cell;\"></div><div style=\"display: table-cell;\">lod_timeout&nbsp;=&nbsp;500,</div></div><div class=\"1240\" style=\"display: none;\"><div style=\"display: table-cell;\"></div><div style=\"display: table-cell;\">margin&nbsp;=&nbsp;(0, 0, 0, 0),</div></div><div class=\"1240\" style=\"display: none;\"><div style=\"display: table-cell;\"></div><div style=\"display: table-cell;\">match_aspect&nbsp;=&nbsp;False,</div></div><div class=\"1240\" style=\"display: none;\"><div style=\"display: table-cell;\"></div><div style=\"display: table-cell;\">max_height&nbsp;=&nbsp;None,</div></div><div class=\"1240\" style=\"display: none;\"><div style=\"display: table-cell;\"></div><div style=\"display: table-cell;\">max_width&nbsp;=&nbsp;None,</div></div><div class=\"1240\" style=\"display: none;\"><div style=\"display: table-cell;\"></div><div style=\"display: table-cell;\">min_border&nbsp;=&nbsp;5,</div></div><div class=\"1240\" style=\"display: none;\"><div style=\"display: table-cell;\"></div><div style=\"display: table-cell;\">min_border_bottom&nbsp;=&nbsp;None,</div></div><div class=\"1240\" style=\"display: none;\"><div style=\"display: table-cell;\"></div><div style=\"display: table-cell;\">min_border_left&nbsp;=&nbsp;None,</div></div><div class=\"1240\" style=\"display: none;\"><div style=\"display: table-cell;\"></div><div style=\"display: table-cell;\">min_border_right&nbsp;=&nbsp;None,</div></div><div class=\"1240\" style=\"display: none;\"><div style=\"display: table-cell;\"></div><div style=\"display: table-cell;\">min_border_top&nbsp;=&nbsp;None,</div></div><div class=\"1240\" style=\"display: none;\"><div style=\"display: table-cell;\"></div><div style=\"display: table-cell;\">min_height&nbsp;=&nbsp;None,</div></div><div class=\"1240\" style=\"display: none;\"><div style=\"display: table-cell;\"></div><div style=\"display: table-cell;\">min_width&nbsp;=&nbsp;None,</div></div><div class=\"1240\" style=\"display: none;\"><div style=\"display: table-cell;\"></div><div style=\"display: table-cell;\">name&nbsp;=&nbsp;None,</div></div><div class=\"1240\" style=\"display: none;\"><div style=\"display: table-cell;\"></div><div style=\"display: table-cell;\">outline_line_alpha&nbsp;=&nbsp;{'value': 1.0},</div></div><div class=\"1240\" style=\"display: none;\"><div style=\"display: table-cell;\"></div><div style=\"display: table-cell;\">outline_line_cap&nbsp;=&nbsp;'butt',</div></div><div class=\"1240\" style=\"display: none;\"><div style=\"display: table-cell;\"></div><div style=\"display: table-cell;\">outline_line_color&nbsp;=&nbsp;{'value': '#e5e5e5'},</div></div><div class=\"1240\" style=\"display: none;\"><div style=\"display: table-cell;\"></div><div style=\"display: table-cell;\">outline_line_dash&nbsp;=&nbsp;[],</div></div><div class=\"1240\" style=\"display: none;\"><div style=\"display: table-cell;\"></div><div style=\"display: table-cell;\">outline_line_dash_offset&nbsp;=&nbsp;0,</div></div><div class=\"1240\" style=\"display: none;\"><div style=\"display: table-cell;\"></div><div style=\"display: table-cell;\">outline_line_join&nbsp;=&nbsp;'bevel',</div></div><div class=\"1240\" style=\"display: none;\"><div style=\"display: table-cell;\"></div><div style=\"display: table-cell;\">outline_line_width&nbsp;=&nbsp;{'value': 1},</div></div><div class=\"1240\" style=\"display: none;\"><div style=\"display: table-cell;\"></div><div style=\"display: table-cell;\">output_backend&nbsp;=&nbsp;'webgl',</div></div><div class=\"1240\" style=\"display: none;\"><div style=\"display: table-cell;\"></div><div style=\"display: table-cell;\">plot_height&nbsp;=&nbsp;400,</div></div><div class=\"1240\" style=\"display: none;\"><div style=\"display: table-cell;\"></div><div style=\"display: table-cell;\">plot_width&nbsp;=&nbsp;600,</div></div><div class=\"1240\" style=\"display: none;\"><div style=\"display: table-cell;\"></div><div style=\"display: table-cell;\">renderers&nbsp;=&nbsp;[TileRenderer(id='1166', ...), GlyphRenderer(id='1174', ...)],</div></div><div class=\"1240\" style=\"display: none;\"><div style=\"display: table-cell;\"></div><div style=\"display: table-cell;\">reset_policy&nbsp;=&nbsp;'standard',</div></div><div class=\"1240\" style=\"display: none;\"><div style=\"display: table-cell;\"></div><div style=\"display: table-cell;\">right&nbsp;=&nbsp;[],</div></div><div class=\"1240\" style=\"display: none;\"><div style=\"display: table-cell;\"></div><div style=\"display: table-cell;\">sizing_mode&nbsp;=&nbsp;None,</div></div><div class=\"1240\" style=\"display: none;\"><div style=\"display: table-cell;\"></div><div style=\"display: table-cell;\">subscribed_events&nbsp;=&nbsp;[],</div></div><div class=\"1240\" style=\"display: none;\"><div style=\"display: table-cell;\"></div><div style=\"display: table-cell;\">tags&nbsp;=&nbsp;[],</div></div><div class=\"1240\" style=\"display: none;\"><div style=\"display: table-cell;\"></div><div style=\"display: table-cell;\">title&nbsp;=&nbsp;Title(id='1123', ...),</div></div><div class=\"1240\" style=\"display: none;\"><div style=\"display: table-cell;\"></div><div style=\"display: table-cell;\">title_location&nbsp;=&nbsp;'above',</div></div><div class=\"1240\" style=\"display: none;\"><div style=\"display: table-cell;\"></div><div style=\"display: table-cell;\">toolbar&nbsp;=&nbsp;Toolbar(id='1157', ...),</div></div><div class=\"1240\" style=\"display: none;\"><div style=\"display: table-cell;\"></div><div style=\"display: table-cell;\">toolbar_location&nbsp;=&nbsp;'right',</div></div><div class=\"1240\" style=\"display: none;\"><div style=\"display: table-cell;\"></div><div style=\"display: table-cell;\">toolbar_sticky&nbsp;=&nbsp;True,</div></div><div class=\"1240\" style=\"display: none;\"><div style=\"display: table-cell;\"></div><div style=\"display: table-cell;\">visible&nbsp;=&nbsp;True,</div></div><div class=\"1240\" style=\"display: none;\"><div style=\"display: table-cell;\"></div><div style=\"display: table-cell;\">width&nbsp;=&nbsp;None,</div></div><div class=\"1240\" style=\"display: none;\"><div style=\"display: table-cell;\"></div><div style=\"display: table-cell;\">width_policy&nbsp;=&nbsp;'auto',</div></div><div class=\"1240\" style=\"display: none;\"><div style=\"display: table-cell;\"></div><div style=\"display: table-cell;\">x_range&nbsp;=&nbsp;DataRange1d(id='1125', ...),</div></div><div class=\"1240\" style=\"display: none;\"><div style=\"display: table-cell;\"></div><div style=\"display: table-cell;\">x_scale&nbsp;=&nbsp;LinearScale(id='1129', ...),</div></div><div class=\"1240\" style=\"display: none;\"><div style=\"display: table-cell;\"></div><div style=\"display: table-cell;\">y_range&nbsp;=&nbsp;DataRange1d(id='1127', ...),</div></div><div class=\"1240\" style=\"display: none;\"><div style=\"display: table-cell;\"></div><div style=\"display: table-cell;\">y_scale&nbsp;=&nbsp;LinearScale(id='1131', ...))</div></div></div>\n",
              "<script>\n",
              "(function() {\n",
              "  var expanded = false;\n",
              "  var ellipsis = document.getElementById(\"1241\");\n",
              "  ellipsis.addEventListener(\"click\", function() {\n",
              "    var rows = document.getElementsByClassName(\"1240\");\n",
              "    for (var i = 0; i < rows.length; i++) {\n",
              "      var el = rows[i];\n",
              "      el.style.display = expanded ? \"none\" : \"table-row\";\n",
              "    }\n",
              "    ellipsis.innerHTML = expanded ? \"&hellip;)\" : \"&lsaquo;&lsaquo;&lsaquo;\";\n",
              "    expanded = !expanded;\n",
              "  });\n",
              "})();\n",
              "</script>\n"
            ],
            "text/plain": [
              "Figure(id='1122', ...)"
            ]
          },
          "metadata": {
            "tags": []
          },
          "execution_count": 143
        }
      ]
    },
    {
      "cell_type": "code",
      "metadata": {
        "id": "DfqUnD1oNvtM",
        "colab_type": "code",
        "outputId": "6a51f4cd-3f07-4acf-a2ac-283fc2cd90d5",
        "colab": {
          "base_uri": "https://localhost:8080/",
          "height": 153
        }
      },
      "source": [
        "test_den = merged[merged['CountryName'] == 'Denmark']\n",
        "\n",
        "test_den.head(1)\n",
        "\n",
        "\n",
        "test_den[\"Diff\"] = test_den[\"StringencyIndex\"].diff(-1)\n",
        "test_den[\"Diff\"].unique()\n"
      ],
      "execution_count": 0,
      "outputs": [
        {
          "output_type": "stream",
          "text": [
            "/usr/local/lib/python3.6/dist-packages/ipykernel_launcher.py:6: SettingWithCopyWarning: \n",
            "A value is trying to be set on a copy of a slice from a DataFrame.\n",
            "Try using .loc[row_indexer,col_indexer] = value instead\n",
            "\n",
            "See the caveats in the documentation: https://pandas.pydata.org/pandas-docs/stable/user_guide/indexing.html#returning-a-view-versus-a-copy\n",
            "  \n"
          ],
          "name": "stderr"
        },
        {
          "output_type": "execute_result",
          "data": {
            "text/plain": [
              "array([  0.  , -11.11,  -8.2 , -18.26,  -7.14,  -8.59, -23.41,  -2.78,\n",
              "        -4.63,   2.65,    nan])"
            ]
          },
          "metadata": {
            "tags": []
          },
          "execution_count": 144
        }
      ]
    },
    {
      "cell_type": "code",
      "metadata": {
        "id": "V4K3d1-BRZrS",
        "colab_type": "code",
        "colab": {}
      },
      "source": [
        "countries_list = merged[\"CountryName\"].unique()\n",
        "\n",
        "merged[\"Date2\"] = merged[\"Date\"].dt.strftime('%m/%d/%Y')\n",
        "dates = merged[\"Date2\"].unique()\n",
        "\n",
        "#for countries in countries:\n",
        "#  print(countries)\n",
        "\n",
        "\n",
        "#for i in range(len(dates)):\n",
        "#  merged[dates[i]] = 'a'\n",
        "\n",
        "\n",
        "#or countries in countries_list:\n",
        "#  b = len(dates)\n",
        "#  for i in range(b):\n",
        "#    merged[dates[i]] = merged.loc[i+1, 'StringencyIndex'] - merged.loc[i, 'StringencyIndex']\n",
        "\n",
        "\n",
        "for i in range(len(dates)):   \n",
        "  for countries in countries_list:\n",
        "    merged[dates[i]] = merged.loc[i+1, 'StringencyIndex'] - merged.loc[i, 'StringencyIndex']\n",
        "\n",
        "\n",
        "\n",
        "\n",
        "#  print(i)\n",
        "  #merged[\"Delta_Stringency_dates[i]] = i\n",
        "\n",
        "\n",
        "#for dates in dates:\n",
        "#  print(dates)\n",
        "\n",
        "#while j < len(df['Target_column']):\n",
        "#    j=df['Target_column'][i+1] - df['Target_column'][i] #the difference btwn two values in a column.\n",
        "#    i+=1 #move to the next value in the column.\n",
        "#    j+=1 #next value in the new column.\n",
        "#    print(j)"
      ],
      "execution_count": 0,
      "outputs": []
    },
    {
      "cell_type": "code",
      "metadata": {
        "id": "yI11OrxWVZCN",
        "colab_type": "code",
        "colab": {}
      },
      "source": [
        "def row_to_columns(country):\n",
        "  merged[merged['CountryName'] == 'country']\n",
        "  for i in range(len(merged['Date2'])):\n",
        "      merged.append([merged.loc[i, 'StringencyIndex'] - merged.loc[i, 'StringencyIndex']])\n",
        "\n",
        "\n",
        "countries_list = merged[\"CountryName\"].unique()\n",
        "\n",
        "row_to_columns(countries_list)\n"
      ],
      "execution_count": 0,
      "outputs": []
    },
    {
      "cell_type": "markdown",
      "metadata": {
        "id": "U3IF1HSMBKtp",
        "colab_type": "text"
      },
      "source": [
        ""
      ]
    },
    {
      "cell_type": "code",
      "metadata": {
        "id": "Ae3wiodTv0tt",
        "colab_type": "code",
        "outputId": "25af9e64-518b-4cae-9ba2-26289bc055f1",
        "colab": {
          "base_uri": "https://localhost:8080/",
          "height": 136
        }
      },
      "source": [
        "test2 = pd.DataFrame(merged,columns=['CountryName', 'Date', 'Confirmed', 'Deaths', 'StringencyIndexForDisplay', 'geometry'])\n",
        "\n",
        "\n",
        "\n",
        "test2['StringencyIndexForDisplay'] = test2['StringencyIndexForDisplay'].fillna(0).astype('int64')\n",
        "test2['StringencyIndexForDisplay'] = test2['StringencyIndexForDisplay'].astype('Int64')\n",
        "\n",
        "test2['Confirmed'] = test2['Confirmed'].fillna(0).astype('int64')\n",
        "\n",
        "test2['Deaths'] = test2['Deaths'].fillna(0).astype('int64')\n",
        "\n",
        "#test2['Date'] = test2['Date'].fillna(0).astype('int64')\n",
        "\n",
        "test2.dtypes"
      ],
      "execution_count": 0,
      "outputs": [
        {
          "output_type": "execute_result",
          "data": {
            "text/plain": [
              "CountryName                          object\n",
              "Date                         datetime64[ns]\n",
              "Confirmed                             int64\n",
              "Deaths                                int64\n",
              "StringencyIndexForDisplay             Int64\n",
              "geometry                           geometry\n",
              "dtype: object"
            ]
          },
          "metadata": {
            "tags": []
          },
          "execution_count": 148
        }
      ]
    },
    {
      "cell_type": "code",
      "metadata": {
        "id": "v-sLKOseyXFt",
        "colab_type": "code",
        "outputId": "9fa1860e-2768-4dbf-93ca-da1416a8dc54",
        "colab": {
          "base_uri": "https://localhost:8080/",
          "height": 71
        }
      },
      "source": [
        "test2 = test2.set_geometry('geometry')\n",
        "test2.crs = {'init' :'epsg:4326'}"
      ],
      "execution_count": 0,
      "outputs": [
        {
          "output_type": "stream",
          "text": [
            "/usr/local/lib/python3.6/dist-packages/pyproj/crs/crs.py:53: FutureWarning: '+init=<authority>:<code>' syntax is deprecated. '<authority>:<code>' is the preferred initialization method. When making the change, be mindful of axis order changes: https://pyproj4.github.io/pyproj/stable/gotchas.html#axis-order-changes-in-proj-6\n",
            "  return _prepare_from_string(\" \".join(pjargs))\n"
          ],
          "name": "stderr"
        }
      ]
    },
    {
      "cell_type": "code",
      "metadata": {
        "id": "NyPlFH45x2OR",
        "colab_type": "code",
        "outputId": "4872f23e-8379-4aea-c88f-767a981f19eb",
        "colab": {
          "base_uri": "https://localhost:8080/",
          "height": 88
        }
      },
      "source": [
        "test2.plot_bokeh(simplify_shapes=10000)"
      ],
      "execution_count": 0,
      "outputs": [
        {
          "output_type": "stream",
          "text": [
            "/usr/local/lib/python3.6/dist-packages/pyproj/crs/crs.py:53: FutureWarning: '+init=<authority>:<code>' syntax is deprecated. '<authority>:<code>' is the preferred initialization method. When making the change, be mindful of axis order changes: https://pyproj4.github.io/pyproj/stable/gotchas.html#axis-order-changes-in-proj-6\n",
            "  return _prepare_from_string(\" \".join(pjargs))\n",
            "BokehDeprecationWarning: 'legend' keyword is deprecated, use explicit 'legend_label', 'legend_field', or 'legend_group' keywords instead\n"
          ],
          "name": "stderr"
        },
        {
          "output_type": "display_data",
          "data": {
            "application/javascript": [
              "\n",
              "(function(root) {\n",
              "  function now() {\n",
              "    return new Date();\n",
              "  }\n",
              "\n",
              "  var force = true;\n",
              "\n",
              "  if (typeof root._bokeh_onload_callbacks === \"undefined\" || force === true) {\n",
              "    root._bokeh_onload_callbacks = [];\n",
              "    root._bokeh_is_loading = undefined;\n",
              "  }\n",
              "\n",
              "  var JS_MIME_TYPE = 'application/javascript';\n",
              "  var HTML_MIME_TYPE = 'text/html';\n",
              "  var EXEC_MIME_TYPE = 'application/vnd.bokehjs_exec.v0+json';\n",
              "  var CLASS_NAME = 'output_bokeh rendered_html';\n",
              "\n",
              "  /**\n",
              "   * Render data to the DOM node\n",
              "   */\n",
              "  function render(props, node) {\n",
              "    var script = document.createElement(\"script\");\n",
              "    node.appendChild(script);\n",
              "  }\n",
              "\n",
              "  /**\n",
              "   * Handle when an output is cleared or removed\n",
              "   */\n",
              "  function handleClearOutput(event, handle) {\n",
              "    var cell = handle.cell;\n",
              "\n",
              "    var id = cell.output_area._bokeh_element_id;\n",
              "    var server_id = cell.output_area._bokeh_server_id;\n",
              "    // Clean up Bokeh references\n",
              "    if (id != null && id in Bokeh.index) {\n",
              "      Bokeh.index[id].model.document.clear();\n",
              "      delete Bokeh.index[id];\n",
              "    }\n",
              "\n",
              "    if (server_id !== undefined) {\n",
              "      // Clean up Bokeh references\n",
              "      var cmd = \"from bokeh.io.state import curstate; print(curstate().uuid_to_server['\" + server_id + \"'].get_sessions()[0].document.roots[0]._id)\";\n",
              "      cell.notebook.kernel.execute(cmd, {\n",
              "        iopub: {\n",
              "          output: function(msg) {\n",
              "            var id = msg.content.text.trim();\n",
              "            if (id in Bokeh.index) {\n",
              "              Bokeh.index[id].model.document.clear();\n",
              "              delete Bokeh.index[id];\n",
              "            }\n",
              "          }\n",
              "        }\n",
              "      });\n",
              "      // Destroy server and session\n",
              "      var cmd = \"import bokeh.io.notebook as ion; ion.destroy_server('\" + server_id + \"')\";\n",
              "      cell.notebook.kernel.execute(cmd);\n",
              "    }\n",
              "  }\n",
              "\n",
              "  /**\n",
              "   * Handle when a new output is added\n",
              "   */\n",
              "  function handleAddOutput(event, handle) {\n",
              "    var output_area = handle.output_area;\n",
              "    var output = handle.output;\n",
              "\n",
              "    // limit handleAddOutput to display_data with EXEC_MIME_TYPE content only\n",
              "    if ((output.output_type != \"display_data\") || (!output.data.hasOwnProperty(EXEC_MIME_TYPE))) {\n",
              "      return\n",
              "    }\n",
              "\n",
              "    var toinsert = output_area.element.find(\".\" + CLASS_NAME.split(' ')[0]);\n",
              "\n",
              "    if (output.metadata[EXEC_MIME_TYPE][\"id\"] !== undefined) {\n",
              "      toinsert[toinsert.length - 1].firstChild.textContent = output.data[JS_MIME_TYPE];\n",
              "      // store reference to embed id on output_area\n",
              "      output_area._bokeh_element_id = output.metadata[EXEC_MIME_TYPE][\"id\"];\n",
              "    }\n",
              "    if (output.metadata[EXEC_MIME_TYPE][\"server_id\"] !== undefined) {\n",
              "      var bk_div = document.createElement(\"div\");\n",
              "      bk_div.innerHTML = output.data[HTML_MIME_TYPE];\n",
              "      var script_attrs = bk_div.children[0].attributes;\n",
              "      for (var i = 0; i < script_attrs.length; i++) {\n",
              "        toinsert[toinsert.length - 1].firstChild.setAttribute(script_attrs[i].name, script_attrs[i].value);\n",
              "      }\n",
              "      // store reference to server id on output_area\n",
              "      output_area._bokeh_server_id = output.metadata[EXEC_MIME_TYPE][\"server_id\"];\n",
              "    }\n",
              "  }\n",
              "\n",
              "  function register_renderer(events, OutputArea) {\n",
              "\n",
              "    function append_mime(data, metadata, element) {\n",
              "      // create a DOM node to render to\n",
              "      var toinsert = this.create_output_subarea(\n",
              "        metadata,\n",
              "        CLASS_NAME,\n",
              "        EXEC_MIME_TYPE\n",
              "      );\n",
              "      this.keyboard_manager.register_events(toinsert);\n",
              "      // Render to node\n",
              "      var props = {data: data, metadata: metadata[EXEC_MIME_TYPE]};\n",
              "      render(props, toinsert[toinsert.length - 1]);\n",
              "      element.append(toinsert);\n",
              "      return toinsert\n",
              "    }\n",
              "\n",
              "    /* Handle when an output is cleared or removed */\n",
              "    events.on('clear_output.CodeCell', handleClearOutput);\n",
              "    events.on('delete.Cell', handleClearOutput);\n",
              "\n",
              "    /* Handle when a new output is added */\n",
              "    events.on('output_added.OutputArea', handleAddOutput);\n",
              "\n",
              "    /**\n",
              "     * Register the mime type and append_mime function with output_area\n",
              "     */\n",
              "    OutputArea.prototype.register_mime_type(EXEC_MIME_TYPE, append_mime, {\n",
              "      /* Is output safe? */\n",
              "      safe: true,\n",
              "      /* Index of renderer in `output_area.display_order` */\n",
              "      index: 0\n",
              "    });\n",
              "  }\n",
              "\n",
              "  // register the mime type if in Jupyter Notebook environment and previously unregistered\n",
              "  if (root.Jupyter !== undefined) {\n",
              "    var events = require('base/js/events');\n",
              "    var OutputArea = require('notebook/js/outputarea').OutputArea;\n",
              "\n",
              "    if (OutputArea.prototype.mime_types().indexOf(EXEC_MIME_TYPE) == -1) {\n",
              "      register_renderer(events, OutputArea);\n",
              "    }\n",
              "  }\n",
              "\n",
              "  \n",
              "  if (typeof (root._bokeh_timeout) === \"undefined\" || force === true) {\n",
              "    root._bokeh_timeout = Date.now() + 5000;\n",
              "    root._bokeh_failed_load = false;\n",
              "  }\n",
              "\n",
              "  var NB_LOAD_WARNING = {'data': {'text/html':\n",
              "     \"<div style='background-color: #fdd'>\\n\"+\n",
              "     \"<p>\\n\"+\n",
              "     \"BokehJS does not appear to have successfully loaded. If loading BokehJS from CDN, this \\n\"+\n",
              "     \"may be due to a slow or bad network connection. Possible fixes:\\n\"+\n",
              "     \"</p>\\n\"+\n",
              "     \"<ul>\\n\"+\n",
              "     \"<li>re-rerun `output_notebook()` to attempt to load from CDN again, or</li>\\n\"+\n",
              "     \"<li>use INLINE resources instead, as so:</li>\\n\"+\n",
              "     \"</ul>\\n\"+\n",
              "     \"<code>\\n\"+\n",
              "     \"from bokeh.resources import INLINE\\n\"+\n",
              "     \"output_notebook(resources=INLINE)\\n\"+\n",
              "     \"</code>\\n\"+\n",
              "     \"</div>\"}};\n",
              "\n",
              "  function display_loaded() {\n",
              "    var el = document.getElementById(null);\n",
              "    if (el != null) {\n",
              "      el.textContent = \"BokehJS is loading...\";\n",
              "    }\n",
              "    if (root.Bokeh !== undefined) {\n",
              "      if (el != null) {\n",
              "        el.textContent = \"BokehJS \" + root.Bokeh.version + \" successfully loaded.\";\n",
              "      }\n",
              "    } else if (Date.now() < root._bokeh_timeout) {\n",
              "      setTimeout(display_loaded, 100)\n",
              "    }\n",
              "  }\n",
              "\n",
              "\n",
              "  function run_callbacks() {\n",
              "    try {\n",
              "      root._bokeh_onload_callbacks.forEach(function(callback) {\n",
              "        if (callback != null)\n",
              "          callback();\n",
              "      });\n",
              "    } finally {\n",
              "      delete root._bokeh_onload_callbacks\n",
              "    }\n",
              "    console.debug(\"Bokeh: all callbacks have finished\");\n",
              "  }\n",
              "\n",
              "  function load_libs(css_urls, js_urls, callback) {\n",
              "    if (css_urls == null) css_urls = [];\n",
              "    if (js_urls == null) js_urls = [];\n",
              "\n",
              "    root._bokeh_onload_callbacks.push(callback);\n",
              "    if (root._bokeh_is_loading > 0) {\n",
              "      console.debug(\"Bokeh: BokehJS is being loaded, scheduling callback at\", now());\n",
              "      return null;\n",
              "    }\n",
              "    if (js_urls == null || js_urls.length === 0) {\n",
              "      run_callbacks();\n",
              "      return null;\n",
              "    }\n",
              "    console.debug(\"Bokeh: BokehJS not loaded, scheduling load and callback at\", now());\n",
              "    root._bokeh_is_loading = css_urls.length + js_urls.length;\n",
              "\n",
              "    function on_load() {\n",
              "      root._bokeh_is_loading--;\n",
              "      if (root._bokeh_is_loading === 0) {\n",
              "        console.debug(\"Bokeh: all BokehJS libraries/stylesheets loaded\");\n",
              "        run_callbacks()\n",
              "      }\n",
              "    }\n",
              "\n",
              "    function on_error() {\n",
              "      console.error(\"failed to load \" + url);\n",
              "    }\n",
              "\n",
              "    for (var i = 0; i < css_urls.length; i++) {\n",
              "      var url = css_urls[i];\n",
              "      const element = document.createElement(\"link\");\n",
              "      element.onload = on_load;\n",
              "      element.onerror = on_error;\n",
              "      element.rel = \"stylesheet\";\n",
              "      element.type = \"text/css\";\n",
              "      element.href = url;\n",
              "      console.debug(\"Bokeh: injecting link tag for BokehJS stylesheet: \", url);\n",
              "      document.body.appendChild(element);\n",
              "    }\n",
              "\n",
              "    for (var i = 0; i < js_urls.length; i++) {\n",
              "      var url = js_urls[i];\n",
              "      var element = document.createElement('script');\n",
              "      element.onload = on_load;\n",
              "      element.onerror = on_error;\n",
              "      element.async = false;\n",
              "      element.src = url;\n",
              "      console.debug(\"Bokeh: injecting script tag for BokehJS library: \", url);\n",
              "      document.head.appendChild(element);\n",
              "    }\n",
              "  };\n",
              "\n",
              "  function inject_raw_css(css) {\n",
              "    const element = document.createElement(\"style\");\n",
              "    element.appendChild(document.createTextNode(css));\n",
              "    document.body.appendChild(element);\n",
              "  }\n",
              "\n",
              "  \n",
              "  var js_urls = [\"https://cdn.pydata.org/bokeh/release/bokeh-1.4.0.min.js\", \"https://cdn.pydata.org/bokeh/release/bokeh-widgets-1.4.0.min.js\", \"https://cdn.pydata.org/bokeh/release/bokeh-tables-1.4.0.min.js\", \"https://cdn.pydata.org/bokeh/release/bokeh-gl-1.4.0.min.js\"];\n",
              "  var css_urls = [];\n",
              "  \n",
              "\n",
              "  var inline_js = [\n",
              "    function(Bokeh) {\n",
              "      Bokeh.set_log_level(\"info\");\n",
              "    },\n",
              "    function(Bokeh) {\n",
              "    \n",
              "    \n",
              "    }\n",
              "  ];\n",
              "\n",
              "  function run_inline_js() {\n",
              "    \n",
              "    if (root.Bokeh !== undefined || force === true) {\n",
              "      \n",
              "    for (var i = 0; i < inline_js.length; i++) {\n",
              "      inline_js[i].call(root, root.Bokeh);\n",
              "    }\n",
              "    } else if (Date.now() < root._bokeh_timeout) {\n",
              "      setTimeout(run_inline_js, 100);\n",
              "    } else if (!root._bokeh_failed_load) {\n",
              "      console.log(\"Bokeh: BokehJS failed to load within specified timeout.\");\n",
              "      root._bokeh_failed_load = true;\n",
              "    } else if (force !== true) {\n",
              "      var cell = $(document.getElementById(null)).parents('.cell').data().cell;\n",
              "      cell.output_area.append_execute_result(NB_LOAD_WARNING)\n",
              "    }\n",
              "\n",
              "  }\n",
              "\n",
              "  if (root._bokeh_is_loading === 0) {\n",
              "    console.debug(\"Bokeh: BokehJS loaded, going straight to plotting\");\n",
              "    run_inline_js();\n",
              "  } else {\n",
              "    load_libs(css_urls, js_urls, function() {\n",
              "      console.debug(\"Bokeh: BokehJS plotting callback run at\", now());\n",
              "      run_inline_js();\n",
              "    });\n",
              "  }\n",
              "}(window));"
            ],
            "application/vnd.bokehjs_load.v0+json": "\n(function(root) {\n  function now() {\n    return new Date();\n  }\n\n  var force = true;\n\n  if (typeof root._bokeh_onload_callbacks === \"undefined\" || force === true) {\n    root._bokeh_onload_callbacks = [];\n    root._bokeh_is_loading = undefined;\n  }\n\n  \n\n  \n  if (typeof (root._bokeh_timeout) === \"undefined\" || force === true) {\n    root._bokeh_timeout = Date.now() + 5000;\n    root._bokeh_failed_load = false;\n  }\n\n  var NB_LOAD_WARNING = {'data': {'text/html':\n     \"<div style='background-color: #fdd'>\\n\"+\n     \"<p>\\n\"+\n     \"BokehJS does not appear to have successfully loaded. If loading BokehJS from CDN, this \\n\"+\n     \"may be due to a slow or bad network connection. Possible fixes:\\n\"+\n     \"</p>\\n\"+\n     \"<ul>\\n\"+\n     \"<li>re-rerun `output_notebook()` to attempt to load from CDN again, or</li>\\n\"+\n     \"<li>use INLINE resources instead, as so:</li>\\n\"+\n     \"</ul>\\n\"+\n     \"<code>\\n\"+\n     \"from bokeh.resources import INLINE\\n\"+\n     \"output_notebook(resources=INLINE)\\n\"+\n     \"</code>\\n\"+\n     \"</div>\"}};\n\n  function display_loaded() {\n    var el = document.getElementById(null);\n    if (el != null) {\n      el.textContent = \"BokehJS is loading...\";\n    }\n    if (root.Bokeh !== undefined) {\n      if (el != null) {\n        el.textContent = \"BokehJS \" + root.Bokeh.version + \" successfully loaded.\";\n      }\n    } else if (Date.now() < root._bokeh_timeout) {\n      setTimeout(display_loaded, 100)\n    }\n  }\n\n\n  function run_callbacks() {\n    try {\n      root._bokeh_onload_callbacks.forEach(function(callback) {\n        if (callback != null)\n          callback();\n      });\n    } finally {\n      delete root._bokeh_onload_callbacks\n    }\n    console.debug(\"Bokeh: all callbacks have finished\");\n  }\n\n  function load_libs(css_urls, js_urls, callback) {\n    if (css_urls == null) css_urls = [];\n    if (js_urls == null) js_urls = [];\n\n    root._bokeh_onload_callbacks.push(callback);\n    if (root._bokeh_is_loading > 0) {\n      console.debug(\"Bokeh: BokehJS is being loaded, scheduling callback at\", now());\n      return null;\n    }\n    if (js_urls == null || js_urls.length === 0) {\n      run_callbacks();\n      return null;\n    }\n    console.debug(\"Bokeh: BokehJS not loaded, scheduling load and callback at\", now());\n    root._bokeh_is_loading = css_urls.length + js_urls.length;\n\n    function on_load() {\n      root._bokeh_is_loading--;\n      if (root._bokeh_is_loading === 0) {\n        console.debug(\"Bokeh: all BokehJS libraries/stylesheets loaded\");\n        run_callbacks()\n      }\n    }\n\n    function on_error() {\n      console.error(\"failed to load \" + url);\n    }\n\n    for (var i = 0; i < css_urls.length; i++) {\n      var url = css_urls[i];\n      const element = document.createElement(\"link\");\n      element.onload = on_load;\n      element.onerror = on_error;\n      element.rel = \"stylesheet\";\n      element.type = \"text/css\";\n      element.href = url;\n      console.debug(\"Bokeh: injecting link tag for BokehJS stylesheet: \", url);\n      document.body.appendChild(element);\n    }\n\n    for (var i = 0; i < js_urls.length; i++) {\n      var url = js_urls[i];\n      var element = document.createElement('script');\n      element.onload = on_load;\n      element.onerror = on_error;\n      element.async = false;\n      element.src = url;\n      console.debug(\"Bokeh: injecting script tag for BokehJS library: \", url);\n      document.head.appendChild(element);\n    }\n  };\n\n  function inject_raw_css(css) {\n    const element = document.createElement(\"style\");\n    element.appendChild(document.createTextNode(css));\n    document.body.appendChild(element);\n  }\n\n  \n  var js_urls = [\"https://cdn.pydata.org/bokeh/release/bokeh-1.4.0.min.js\", \"https://cdn.pydata.org/bokeh/release/bokeh-widgets-1.4.0.min.js\", \"https://cdn.pydata.org/bokeh/release/bokeh-tables-1.4.0.min.js\", \"https://cdn.pydata.org/bokeh/release/bokeh-gl-1.4.0.min.js\"];\n  var css_urls = [];\n  \n\n  var inline_js = [\n    function(Bokeh) {\n      Bokeh.set_log_level(\"info\");\n    },\n    function(Bokeh) {\n    \n    \n    }\n  ];\n\n  function run_inline_js() {\n    \n    if (root.Bokeh !== undefined || force === true) {\n      \n    for (var i = 0; i < inline_js.length; i++) {\n      inline_js[i].call(root, root.Bokeh);\n    }\n    } else if (Date.now() < root._bokeh_timeout) {\n      setTimeout(run_inline_js, 100);\n    } else if (!root._bokeh_failed_load) {\n      console.log(\"Bokeh: BokehJS failed to load within specified timeout.\");\n      root._bokeh_failed_load = true;\n    } else if (force !== true) {\n      var cell = $(document.getElementById(null)).parents('.cell').data().cell;\n      cell.output_area.append_execute_result(NB_LOAD_WARNING)\n    }\n\n  }\n\n  if (root._bokeh_is_loading === 0) {\n    console.debug(\"Bokeh: BokehJS loaded, going straight to plotting\");\n    run_inline_js();\n  } else {\n    load_libs(css_urls, js_urls, function() {\n      console.debug(\"Bokeh: BokehJS plotting callback run at\", now());\n      run_inline_js();\n    });\n  }\n}(window));"
          },
          "metadata": {
            "tags": []
          }
        },
        {
          "output_type": "display_data",
          "data": {
            "text/html": [
              "\n",
              "\n",
              "\n",
              "\n",
              "\n",
              "\n",
              "  <div class=\"bk-root\" id=\"a4bc552f-24af-42ac-898b-3db1cf68eba6\" data-root-id=\"4382\"></div>\n"
            ]
          },
          "metadata": {
            "tags": []
          }
        }
      ]
    },
    {
      "cell_type": "code",
      "metadata": {
        "id": "IkPjnhyTo4rf",
        "colab_type": "code",
        "outputId": "4e109d00-bdb5-4ecd-b18a-09060edf885c",
        "colab": {
          "base_uri": "https://localhost:8080/",
          "height": 370
        }
      },
      "source": [
        "#Calculate change of population relative to 2010:\n",
        "for i in range(8):\n",
        "    df_states[\"Delta_Population_201%d\"%i] = ((df_states[\"POPESTIMATE201%d\"%i] / df_states[\"POPESTIMATE2010\"]) -1 ) * 100\n",
        "\n",
        "#Specify slider columns:\n",
        "slider_columns = pd.unique(test2['Date'])\n",
        "\n",
        "#Specify slider-range (Maps \"Delta_Population_2010\" -> 2010, \n",
        "#                           \"Delta_Population_2011\" -> 2011, ...):\n",
        "slider_range = range(1, 1000)\n",
        "\n",
        "#Make slider plot:\n",
        "df_states.plot_bokeh(\n",
        "    figsize=(900, 600),\n",
        "    simplify_shapes=5000,\n",
        "    slider=slider_columns,\n",
        "    slider_range=slider_range,\n",
        "    slider_name=\"Date\", \n",
        "    colormap=\"Inferno\",\n",
        "    hovertool_columns=[\"StringencyIndex\"],\n",
        "    title=\"Change of Population [%]\")"
      ],
      "execution_count": 0,
      "outputs": [
        {
          "output_type": "stream",
          "text": [
            "/usr/local/lib/python3.6/dist-packages/pyproj/crs/crs.py:53: FutureWarning: '+init=<authority>:<code>' syntax is deprecated. '<authority>:<code>' is the preferred initialization method. When making the change, be mindful of axis order changes: https://pyproj4.github.io/pyproj/stable/gotchas.html#axis-order-changes-in-proj-6\n",
            "  return _prepare_from_string(\" \".join(pjargs))\n"
          ],
          "name": "stderr"
        },
        {
          "output_type": "error",
          "ename": "ValueError",
          "evalue": "ignored",
          "traceback": [
            "\u001b[0;31m---------------------------------------------------------------------------\u001b[0m",
            "\u001b[0;31mValueError\u001b[0m                                Traceback (most recent call last)",
            "\u001b[0;32m<ipython-input-157-aefaf31eaa78>\u001b[0m in \u001b[0;36m<module>\u001b[0;34m()\u001b[0m\n\u001b[1;32m     18\u001b[0m     \u001b[0mcolormap\u001b[0m\u001b[0;34m=\u001b[0m\u001b[0;34m\"Inferno\"\u001b[0m\u001b[0;34m,\u001b[0m\u001b[0;34m\u001b[0m\u001b[0;34m\u001b[0m\u001b[0m\n\u001b[1;32m     19\u001b[0m     \u001b[0mhovertool_columns\u001b[0m\u001b[0;34m=\u001b[0m\u001b[0;34m[\u001b[0m\u001b[0;34m\"StringencyIndex\"\u001b[0m\u001b[0;34m]\u001b[0m\u001b[0;34m,\u001b[0m\u001b[0;34m\u001b[0m\u001b[0;34m\u001b[0m\u001b[0m\n\u001b[0;32m---> 20\u001b[0;31m     title=\"Change of Population [%]\")\n\u001b[0m",
            "\u001b[0;32m/usr/local/lib/python3.6/dist-packages/pandas_bokeh/geoplot.py\u001b[0m in \u001b[0;36mgeoplot\u001b[0;34m(gdf_in, figure, figsize, title, xlabel, ylabel, xlim, ylim, color, colormap, colormap_uselog, colormap_range, category, dropdown, slider, slider_range, slider_name, show_colorbar, colorbar_tick_format, xrange, yrange, hovertool, hovertool_columns, hovertool_string, simplify_shapes, tile_provider, tile_provider_url, tile_attribution, tile_alpha, panning, zooming, toolbar_location, show_figure, return_figure, return_html, legend, webgl, **kwargs)\u001b[0m\n\u001b[1;32m    332\u001b[0m     \u001b[0;32melif\u001b[0m \u001b[0;32mnot\u001b[0m \u001b[0misinstance\u001b[0m\u001b[0;34m(\u001b[0m\u001b[0mslider\u001b[0m\u001b[0;34m,\u001b[0m \u001b[0;34m(\u001b[0m\u001b[0mlist\u001b[0m\u001b[0;34m,\u001b[0m \u001b[0mtuple\u001b[0m\u001b[0;34m)\u001b[0m\u001b[0;34m)\u001b[0m\u001b[0;34m:\u001b[0m\u001b[0;34m\u001b[0m\u001b[0;34m\u001b[0m\u001b[0m\n\u001b[1;32m    333\u001b[0m         raise ValueError(\n\u001b[0;32m--> 334\u001b[0;31m             \u001b[0;34m\"For <slider>, please provide a list/tuple of existing columns of the GeoDataFrame.\"\u001b[0m\u001b[0;34m\u001b[0m\u001b[0;34m\u001b[0m\u001b[0m\n\u001b[0m\u001b[1;32m    335\u001b[0m         )\n\u001b[1;32m    336\u001b[0m     \u001b[0;32melse\u001b[0m\u001b[0;34m:\u001b[0m\u001b[0;34m\u001b[0m\u001b[0;34m\u001b[0m\u001b[0m\n",
            "\u001b[0;31mValueError\u001b[0m: For <slider>, please provide a list/tuple of existing columns of the GeoDataFrame."
          ]
        }
      ]
    },
    {
      "cell_type": "code",
      "metadata": {
        "id": "dZc6QqJAzSUa",
        "colab_type": "code",
        "colab": {}
      },
      "source": [
        "slider_columns = "
      ],
      "execution_count": 0,
      "outputs": []
    }
  ]
}