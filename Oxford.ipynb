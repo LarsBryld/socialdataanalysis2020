{
  "nbformat": 4,
  "nbformat_minor": 0,
  "metadata": {
    "colab": {
      "name": "Copy of Oxford.ipynb",
      "provenance": [],
      "collapsed_sections": [],
      "authorship_tag": "ABX9TyNVWRgFhAuO6wE3l37KVXgS",
      "include_colab_link": true
    },
    "kernelspec": {
      "name": "python3",
      "display_name": "Python 3"
    }
  },
  "cells": [
    {
      "cell_type": "markdown",
      "metadata": {
        "id": "view-in-github",
        "colab_type": "text"
      },
      "source": [
        "<a href=\"https://colab.research.google.com/github/LarsBryld/socialdataanalysis2020/blob/master/Oxford.ipynb\" target=\"_parent\"><img src=\"https://colab.research.google.com/assets/colab-badge.svg\" alt=\"Open In Colab\"/></a>"
      ]
    },
    {
      "cell_type": "code",
      "metadata": {
        "id": "yM9wFsEAlXZp",
        "colab_type": "code",
        "colab": {}
      },
      "source": [
        "import pandas as pd\n",
        "\n",
        "ox = pd.read_csv(\"https://raw.githubusercontent.com/OxCGRT/covid-policy-tracker/master/data/OxCGRT_latest.csv\" , parse_dates=[\"Date\"])\n",
        "\n",
        "covid = pd.read_csv(\"https://open-covid-19.github.io/data/data.csv\", parse_dates=[\"Date\"], na_values='-')\n",
        "\n",
        "\n",
        "\n",
        "#Define focus contries based on stock indecies\n",
        "focuscountries = set(['China', 'Austria', 'Belgium', 'Denmark', 'Finland', 'France', 'Italy', 'Germany', 'Greece', 'Iceland', 'Ireland', 'Netherlands', 'Poland', 'Portugal', 'Spain',\n",
        "                  'Sweden', 'Switzerland', 'United Kingdom', 'Canada', 'United States', 'Australia', 'New Zealand', 'Hong Kong', 'Japan', 'South Korea', 'Singapore',\n",
        "                  'Taiwan', 'Brazil', 'Israel', 'India', 'Mexico', 'South Africa', 'Russia'])\n",
        "\n",
        "\n",
        "#Create dataframes of only focus countries\n",
        "ox = ox[ox['CountryName'].isin(focuscountries)]\n",
        "covid = covid[covid['CountryName'].isin(focuscountries)]\n",
        "\n",
        "\n",
        "#Sometimes, due to data entry errors, we have isgeneral=1 when the underlying indicator is 0 or null. These cases should be disregarded. Only use isgeneral=1 values when the underlying indicator is 1 or higher.\n",
        "\n",
        "#ox = ox[(ox['S1_IsGeneral'] != 1) & (ox['S1_School closing'] > 0)]\n",
        "#ox =  (ox['S2_IsGeneral'] != 1) & (ox['S2_Workplace closing'] > 0) \n",
        "#ox = ox[(ox['S2_IsGeneral'] != 1) & (ox['S2_Workplace closing'] > 0)]\n",
        "#ox = ox[(ox['S3_IsGeneral'] != 1) & (ox['S3_Cancel public events'] > 0)]\n",
        "#ox = ox[(ox['S4_IsGeneral'] != 1) & (ox['S4_Close public transport'] > 0)]\n",
        "#ox = ox[(ox['S5_IsGeneral'] != 1) & (ox['S5_Public information campaigns'] > 0)]\n",
        "#ox = ox[(ox['S6_IsGeneral'] != 1) & (ox['S6_Restrictions on internal movement'] > 0)]\n",
        "#drop2 = ox[(ox['S1_IsGeneral'] == 1) & (ox['S1_School closing'] == 0)] \n",
        "\n",
        "\n",
        "#Nine of the indicators (S1–S7, S12 and S13) take policies such as school closures, travel bans, etc, and are recorded on an ordinal scale\n",
        "#policies = ox[['CountryName', 'Date', 'S1_School closing', 'S2_Workplace closing', 'S3_Cancel public events', 'S3_Cancel public events', 'S4_Close public transport', 'S5_Public information campaigns', 'S6_Restrictions on internal movement', 'S7_International travel controls']]\n",
        "\n",
        "#the others (S8–S11) are financial indicators such as fiscal or monetary measures\n",
        "#financial = ox[['CountryName', 'Date', 'S8_Fiscal measures', 'S9_Monetary measures', 'S10_Emergency investment in health care', 'S11_Investment in Vaccines']]\n",
        "\n",
        "#The tracker aggregates the policy scores (not the financial scores) into a common ‘Stringency Index’.\n",
        "#stringency = ox[['CountryName', 'Date', 'StringencyIndex']]\n",
        "\n",
        "ox_country = (ox['CountryName']).unique()\n",
        "covid_country = (covid['CountryName']).unique()\n",
        "\n"
      ],
      "execution_count": 0,
      "outputs": []
    },
    {
      "cell_type": "code",
      "metadata": {
        "id": "HFU09sJzFVmN",
        "colab_type": "code",
        "colab": {}
      },
      "source": [
        "#Renaming the NaN regional codes to 'Country', since we then can isolate total country level data using this variable\n",
        "\n",
        "covid['RegionCode'] = covid['RegionCode'].fillna('Country')\n"
      ],
      "execution_count": 0,
      "outputs": []
    },
    {
      "cell_type": "code",
      "metadata": {
        "id": "h5sDp-tdsKfR",
        "colab_type": "code",
        "outputId": "b30f0eeb-216f-4e08-d45b-6a654f961229",
        "colab": {
          "base_uri": "https://localhost:8080/",
          "height": 105
        }
      },
      "source": [
        "\n",
        "print(\"The Covid data has {} unique countries and {} unique dates\".format(len(covid_country),len(covid['Date'].unique())))\n",
        "print(\"The Covid data has start data {} and end date {} \".format(min(covid['Date']),max(covid['Date'])))\n",
        "print(\"The Oxford data has {} unique countries and {} unique dates\".format(len(ox_country),len(ox['Date'].unique())))\n",
        "print(\"The Oxford data has start data {} and end date {} \".format(min(ox['Date']),max(ox['Date'])))\n",
        "print(\"The country in Oxford data that is NOT in Covid data is THIS Function IS MISSING {:10.0f} \".format(len(ox['CountryName'].unique()),len(ox['Date'].unique())))\n",
        "\n",
        "# https://www.dataquest.io/blog/python-datetime-tutorial/ useful link to corect the printed date format\n"
      ],
      "execution_count": 38,
      "outputs": [
        {
          "output_type": "stream",
          "text": [
            "The Covid data has 31 unique countries and 124 unique dates\n",
            "The Covid data has start data 2019-12-30 00:00:00 and end date 2020-05-01 00:00:00 \n",
            "The Oxford data has 33 unique countries and 122 unique dates\n",
            "The Oxford data has start data 2020-01-01 00:00:00 and end date 2020-05-01 00:00:00 \n",
            "The country in Oxford data that is NOT in Covid data is THIS Function IS MISSING         33 \n"
          ],
          "name": "stdout"
        }
      ]
    },
    {
      "cell_type": "code",
      "metadata": {
        "id": "PJDZl_QBo3Dk",
        "colab_type": "code",
        "colab": {}
      },
      "source": [
        "#Creating single country example for test of merging. \n",
        "ox_den = ox[ox['CountryName'] == 'Denmark']\n",
        "covid_den = covid[covid['CountryName'] == 'Denmark']\n",
        "\n",
        "#Creating single country example for merging test.\n",
        "ox_it = ox[ox['CountryCode'] == 'ITA']\n",
        "covid_it = covid[(covid['CountryName'] == 'Italy') & (covid['Key'] == 'IT')]\n"
      ],
      "execution_count": 0,
      "outputs": []
    },
    {
      "cell_type": "code",
      "metadata": {
        "id": "b4CIngeXGLsK",
        "colab_type": "code",
        "colab": {}
      },
      "source": [
        "#reduce the variables that are not being used both in oxford and covid data\n",
        "drop_ox = ['CountryName', 'CountryCode'] \n",
        "ox_it = ox_it.drop(drop_ox, axis=1)\n",
        "\n",
        "drop_covid = ['Key', 'CountryCode'] \n",
        "covid_it = covid_it.drop(drop_covid, axis=1)"
      ],
      "execution_count": 0,
      "outputs": []
    },
    {
      "cell_type": "code",
      "metadata": {
        "id": "tiMPon0u9ov-",
        "colab_type": "code",
        "outputId": "7f47ad51-2762-438a-f961-67304da1a9ab",
        "colab": {
          "base_uri": "https://localhost:8080/",
          "height": 34
        }
      },
      "source": [
        "# Summing total confirmed cases for it to compare against the entire data set \n",
        "it = pd.merge(covid_it,ox_it, how='inner', on='Date')\n",
        "sum(it['Confirmed'])\n"
      ],
      "execution_count": 41,
      "outputs": [
        {
          "output_type": "execute_result",
          "data": {
            "text/plain": [
              "5936711.0"
            ]
          },
          "metadata": {
            "tags": []
          },
          "execution_count": 41
        }
      ]
    },
    {
      "cell_type": "code",
      "metadata": {
        "id": "jTgg_CXDHtsV",
        "colab_type": "code",
        "outputId": "fe4b06c8-34a5-4ef5-e20f-9c9ca08f28d7",
        "colab": {
          "base_uri": "https://localhost:8080/",
          "height": 34
        }
      },
      "source": [
        "# Same as above but for DK \n",
        "den = pd.merge(covid_den,ox_den, how='inner', on='Date')\n",
        "sum(den['Confirmed'])"
      ],
      "execution_count": 42,
      "outputs": [
        {
          "output_type": "execute_result",
          "data": {
            "text/plain": [
              "219694.0"
            ]
          },
          "metadata": {
            "tags": []
          },
          "execution_count": 42
        }
      ]
    },
    {
      "cell_type": "code",
      "metadata": {
        "id": "2y3I_Rq6-CJt",
        "colab_type": "code",
        "colab": {}
      },
      "source": [
        "#making a general solution to the above mereging example. oxford_data is the complete data set \n",
        "\n",
        "oxford_data = pd.merge(covid,ox, how='inner', on=['Date', 'CountryName'])\n"
      ],
      "execution_count": 0,
      "outputs": []
    },
    {
      "cell_type": "code",
      "metadata": {
        "id": "WR2aZq0qIsqz",
        "colab_type": "code",
        "outputId": "42e93b0f-9510-46ab-9ce5-6510aa95fa5b",
        "colab": {
          "base_uri": "https://localhost:8080/",
          "height": 34
        }
      },
      "source": [
        "#testing that the manual merging example creates the same results as in the oxford_data\n",
        "\n",
        "it_test = oxford_data[(oxford_data['CountryName'] == 'Italy') & (oxford_data['RegionCode'] == 'Country')]\n",
        "sum(it_test['Confirmed'])"
      ],
      "execution_count": 44,
      "outputs": [
        {
          "output_type": "execute_result",
          "data": {
            "text/plain": [
              "5936711.0"
            ]
          },
          "metadata": {
            "tags": []
          },
          "execution_count": 44
        }
      ]
    },
    {
      "cell_type": "code",
      "metadata": {
        "id": "WWmXUTtAIY6U",
        "colab_type": "code",
        "outputId": "50d2e084-2116-4ea2-ae2c-e5ac35c121ce",
        "colab": {
          "base_uri": "https://localhost:8080/",
          "height": 351
        }
      },
      "source": [
        "#same as above but for denmark\n",
        "\n",
        "dk_test = oxford_data[(oxford_data['CountryName'] == 'Denmark') & (oxford_data['RegionCode'] == 'Country')]\n",
        "sum(dk_test['Confirmed'])\n",
        "dk_test.head(5)"
      ],
      "execution_count": 45,
      "outputs": [
        {
          "output_type": "execute_result",
          "data": {
            "text/html": [
              "<div>\n",
              "<style scoped>\n",
              "    .dataframe tbody tr th:only-of-type {\n",
              "        vertical-align: middle;\n",
              "    }\n",
              "\n",
              "    .dataframe tbody tr th {\n",
              "        vertical-align: top;\n",
              "    }\n",
              "\n",
              "    .dataframe thead th {\n",
              "        text-align: right;\n",
              "    }\n",
              "</style>\n",
              "<table border=\"1\" class=\"dataframe\">\n",
              "  <thead>\n",
              "    <tr style=\"text-align: right;\">\n",
              "      <th></th>\n",
              "      <th>Date</th>\n",
              "      <th>Key</th>\n",
              "      <th>CountryCode_x</th>\n",
              "      <th>CountryName</th>\n",
              "      <th>RegionCode</th>\n",
              "      <th>RegionName</th>\n",
              "      <th>Confirmed</th>\n",
              "      <th>Deaths</th>\n",
              "      <th>Latitude</th>\n",
              "      <th>Longitude</th>\n",
              "      <th>Population</th>\n",
              "      <th>CountryCode_y</th>\n",
              "      <th>C1_School closing</th>\n",
              "      <th>C1_Flag</th>\n",
              "      <th>C2_Workplace closing</th>\n",
              "      <th>C2_Flag</th>\n",
              "      <th>C3_Cancel public events</th>\n",
              "      <th>C3_Flag</th>\n",
              "      <th>C4_Restrictions on gatherings</th>\n",
              "      <th>C4_Flag</th>\n",
              "      <th>C5_Close public transport</th>\n",
              "      <th>C5_Flag</th>\n",
              "      <th>C6_Stay at home requirements</th>\n",
              "      <th>C6_Flag</th>\n",
              "      <th>C7_Restrictions on internal movement</th>\n",
              "      <th>C7_Flag</th>\n",
              "      <th>C8_International travel controls</th>\n",
              "      <th>E1_Income support</th>\n",
              "      <th>E1_Flag</th>\n",
              "      <th>E2_Debt/contract relief</th>\n",
              "      <th>E3_Fiscal measures</th>\n",
              "      <th>E4_International support</th>\n",
              "      <th>H1_Public information campaigns</th>\n",
              "      <th>H1_Flag</th>\n",
              "      <th>H2_Testing policy</th>\n",
              "      <th>H3_Contact tracing</th>\n",
              "      <th>H4_Emergency investment in healthcare</th>\n",
              "      <th>H5_Investment in vaccines</th>\n",
              "      <th>M1_Wildcard</th>\n",
              "      <th>ConfirmedCases</th>\n",
              "      <th>ConfirmedDeaths</th>\n",
              "      <th>StringencyIndex</th>\n",
              "      <th>StringencyIndexForDisplay</th>\n",
              "      <th>LegacyStringencyIndex</th>\n",
              "      <th>LegacyStringencyIndexForDisplay</th>\n",
              "    </tr>\n",
              "  </thead>\n",
              "  <tbody>\n",
              "    <tr>\n",
              "      <th>8</th>\n",
              "      <td>2020-01-01</td>\n",
              "      <td>DK</td>\n",
              "      <td>DK</td>\n",
              "      <td>Denmark</td>\n",
              "      <td>Country</td>\n",
              "      <td>NaN</td>\n",
              "      <td>0.0</td>\n",
              "      <td>0.0</td>\n",
              "      <td>56.26392</td>\n",
              "      <td>9.501785</td>\n",
              "      <td>5771876.0</td>\n",
              "      <td>DNK</td>\n",
              "      <td>0.0</td>\n",
              "      <td>NaN</td>\n",
              "      <td>0.0</td>\n",
              "      <td>NaN</td>\n",
              "      <td>0.0</td>\n",
              "      <td>NaN</td>\n",
              "      <td>0.0</td>\n",
              "      <td>NaN</td>\n",
              "      <td>0.0</td>\n",
              "      <td>NaN</td>\n",
              "      <td>0.0</td>\n",
              "      <td>NaN</td>\n",
              "      <td>0.0</td>\n",
              "      <td>NaN</td>\n",
              "      <td>0.0</td>\n",
              "      <td>NaN</td>\n",
              "      <td>NaN</td>\n",
              "      <td>NaN</td>\n",
              "      <td>0.0</td>\n",
              "      <td>NaN</td>\n",
              "      <td>0.0</td>\n",
              "      <td>NaN</td>\n",
              "      <td>0.0</td>\n",
              "      <td>0.0</td>\n",
              "      <td>0.0</td>\n",
              "      <td>0.0</td>\n",
              "      <td>NaN</td>\n",
              "      <td>0.0</td>\n",
              "      <td>0.0</td>\n",
              "      <td>0.0</td>\n",
              "      <td>0.0</td>\n",
              "      <td>0.0</td>\n",
              "      <td>0.0</td>\n",
              "    </tr>\n",
              "    <tr>\n",
              "      <th>36</th>\n",
              "      <td>2020-01-02</td>\n",
              "      <td>DK</td>\n",
              "      <td>DK</td>\n",
              "      <td>Denmark</td>\n",
              "      <td>Country</td>\n",
              "      <td>NaN</td>\n",
              "      <td>0.0</td>\n",
              "      <td>0.0</td>\n",
              "      <td>56.26392</td>\n",
              "      <td>9.501785</td>\n",
              "      <td>5771876.0</td>\n",
              "      <td>DNK</td>\n",
              "      <td>0.0</td>\n",
              "      <td>NaN</td>\n",
              "      <td>0.0</td>\n",
              "      <td>NaN</td>\n",
              "      <td>0.0</td>\n",
              "      <td>NaN</td>\n",
              "      <td>0.0</td>\n",
              "      <td>NaN</td>\n",
              "      <td>0.0</td>\n",
              "      <td>NaN</td>\n",
              "      <td>0.0</td>\n",
              "      <td>NaN</td>\n",
              "      <td>0.0</td>\n",
              "      <td>NaN</td>\n",
              "      <td>0.0</td>\n",
              "      <td>NaN</td>\n",
              "      <td>NaN</td>\n",
              "      <td>NaN</td>\n",
              "      <td>0.0</td>\n",
              "      <td>NaN</td>\n",
              "      <td>0.0</td>\n",
              "      <td>NaN</td>\n",
              "      <td>0.0</td>\n",
              "      <td>0.0</td>\n",
              "      <td>0.0</td>\n",
              "      <td>0.0</td>\n",
              "      <td>NaN</td>\n",
              "      <td>0.0</td>\n",
              "      <td>0.0</td>\n",
              "      <td>0.0</td>\n",
              "      <td>0.0</td>\n",
              "      <td>0.0</td>\n",
              "      <td>0.0</td>\n",
              "    </tr>\n",
              "    <tr>\n",
              "      <th>64</th>\n",
              "      <td>2020-01-03</td>\n",
              "      <td>DK</td>\n",
              "      <td>DK</td>\n",
              "      <td>Denmark</td>\n",
              "      <td>Country</td>\n",
              "      <td>NaN</td>\n",
              "      <td>0.0</td>\n",
              "      <td>0.0</td>\n",
              "      <td>56.26392</td>\n",
              "      <td>9.501785</td>\n",
              "      <td>5771876.0</td>\n",
              "      <td>DNK</td>\n",
              "      <td>0.0</td>\n",
              "      <td>NaN</td>\n",
              "      <td>0.0</td>\n",
              "      <td>NaN</td>\n",
              "      <td>0.0</td>\n",
              "      <td>NaN</td>\n",
              "      <td>0.0</td>\n",
              "      <td>NaN</td>\n",
              "      <td>0.0</td>\n",
              "      <td>NaN</td>\n",
              "      <td>0.0</td>\n",
              "      <td>NaN</td>\n",
              "      <td>0.0</td>\n",
              "      <td>NaN</td>\n",
              "      <td>0.0</td>\n",
              "      <td>NaN</td>\n",
              "      <td>NaN</td>\n",
              "      <td>NaN</td>\n",
              "      <td>0.0</td>\n",
              "      <td>NaN</td>\n",
              "      <td>0.0</td>\n",
              "      <td>NaN</td>\n",
              "      <td>0.0</td>\n",
              "      <td>0.0</td>\n",
              "      <td>0.0</td>\n",
              "      <td>0.0</td>\n",
              "      <td>NaN</td>\n",
              "      <td>0.0</td>\n",
              "      <td>0.0</td>\n",
              "      <td>0.0</td>\n",
              "      <td>0.0</td>\n",
              "      <td>0.0</td>\n",
              "      <td>0.0</td>\n",
              "    </tr>\n",
              "    <tr>\n",
              "      <th>92</th>\n",
              "      <td>2020-01-04</td>\n",
              "      <td>DK</td>\n",
              "      <td>DK</td>\n",
              "      <td>Denmark</td>\n",
              "      <td>Country</td>\n",
              "      <td>NaN</td>\n",
              "      <td>0.0</td>\n",
              "      <td>0.0</td>\n",
              "      <td>56.26392</td>\n",
              "      <td>9.501785</td>\n",
              "      <td>5771876.0</td>\n",
              "      <td>DNK</td>\n",
              "      <td>0.0</td>\n",
              "      <td>NaN</td>\n",
              "      <td>0.0</td>\n",
              "      <td>NaN</td>\n",
              "      <td>0.0</td>\n",
              "      <td>NaN</td>\n",
              "      <td>0.0</td>\n",
              "      <td>NaN</td>\n",
              "      <td>0.0</td>\n",
              "      <td>NaN</td>\n",
              "      <td>0.0</td>\n",
              "      <td>NaN</td>\n",
              "      <td>0.0</td>\n",
              "      <td>NaN</td>\n",
              "      <td>0.0</td>\n",
              "      <td>NaN</td>\n",
              "      <td>NaN</td>\n",
              "      <td>NaN</td>\n",
              "      <td>0.0</td>\n",
              "      <td>NaN</td>\n",
              "      <td>0.0</td>\n",
              "      <td>NaN</td>\n",
              "      <td>0.0</td>\n",
              "      <td>0.0</td>\n",
              "      <td>0.0</td>\n",
              "      <td>0.0</td>\n",
              "      <td>NaN</td>\n",
              "      <td>0.0</td>\n",
              "      <td>0.0</td>\n",
              "      <td>0.0</td>\n",
              "      <td>0.0</td>\n",
              "      <td>0.0</td>\n",
              "      <td>0.0</td>\n",
              "    </tr>\n",
              "    <tr>\n",
              "      <th>120</th>\n",
              "      <td>2020-01-05</td>\n",
              "      <td>DK</td>\n",
              "      <td>DK</td>\n",
              "      <td>Denmark</td>\n",
              "      <td>Country</td>\n",
              "      <td>NaN</td>\n",
              "      <td>0.0</td>\n",
              "      <td>0.0</td>\n",
              "      <td>56.26392</td>\n",
              "      <td>9.501785</td>\n",
              "      <td>5771876.0</td>\n",
              "      <td>DNK</td>\n",
              "      <td>0.0</td>\n",
              "      <td>NaN</td>\n",
              "      <td>0.0</td>\n",
              "      <td>NaN</td>\n",
              "      <td>0.0</td>\n",
              "      <td>NaN</td>\n",
              "      <td>0.0</td>\n",
              "      <td>NaN</td>\n",
              "      <td>0.0</td>\n",
              "      <td>NaN</td>\n",
              "      <td>0.0</td>\n",
              "      <td>NaN</td>\n",
              "      <td>0.0</td>\n",
              "      <td>NaN</td>\n",
              "      <td>0.0</td>\n",
              "      <td>NaN</td>\n",
              "      <td>NaN</td>\n",
              "      <td>NaN</td>\n",
              "      <td>0.0</td>\n",
              "      <td>NaN</td>\n",
              "      <td>0.0</td>\n",
              "      <td>NaN</td>\n",
              "      <td>0.0</td>\n",
              "      <td>0.0</td>\n",
              "      <td>0.0</td>\n",
              "      <td>0.0</td>\n",
              "      <td>NaN</td>\n",
              "      <td>0.0</td>\n",
              "      <td>0.0</td>\n",
              "      <td>0.0</td>\n",
              "      <td>0.0</td>\n",
              "      <td>0.0</td>\n",
              "      <td>0.0</td>\n",
              "    </tr>\n",
              "  </tbody>\n",
              "</table>\n",
              "</div>"
            ],
            "text/plain": [
              "          Date Key  ... LegacyStringencyIndex LegacyStringencyIndexForDisplay\n",
              "8   2020-01-01  DK  ...                   0.0                             0.0\n",
              "36  2020-01-02  DK  ...                   0.0                             0.0\n",
              "64  2020-01-03  DK  ...                   0.0                             0.0\n",
              "92  2020-01-04  DK  ...                   0.0                             0.0\n",
              "120 2020-01-05  DK  ...                   0.0                             0.0\n",
              "\n",
              "[5 rows x 45 columns]"
            ]
          },
          "metadata": {
            "tags": []
          },
          "execution_count": 45
        }
      ]
    },
    {
      "cell_type": "code",
      "metadata": {
        "id": "R-31VLWP_nkm",
        "colab_type": "code",
        "colab": {
          "base_uri": "https://localhost:8080/",
          "height": 282
        },
        "outputId": "b0f5de40-0318-47e3-ab60-16939bb07060"
      },
      "source": [
        "import matplotlib.pyplot as plt\n",
        "import numpy as np\n",
        "from pandas import DataFrame\n",
        "df = DataFrame(np.random.randn(5, 3), columns=['A', 'B', 'C'])\n",
        "\n",
        "fig, ax = plt.subplots()\n",
        "ax3 = ax.twinx()\n",
        "rspine = ax3.spines['right']\n",
        "rspine.set_position(('axes', 1.15))\n",
        "ax3.set_frame_on(True)\n",
        "ax3.patch.set_visible(False)\n",
        "fig.subplots_adjust(right=0.7)\n",
        "\n",
        "dk_test.Confirmed.plot(ax=ax, x=dk_test.Date, style='b-')\n",
        "# same ax as above since it's automatically added on the right\n",
        "dk_test.Deaths.plot(ax=ax, x=dk_test.Date, style='r-', secondary_y=True)\n",
        "dk_test.StringencyIndex.plot(ax=ax3, x=dk_test.Date, style='g-')\n",
        "\n",
        "# add legend --> take advantage of pandas providing us access\n",
        "# to the line associated with the right part of the axis\n",
        "ax3.legend([ax.get_lines()[0], ax.right_ax.get_lines()[0], ax3.get_lines()[0]],\\\n",
        "           ['Confirmed','Deaths','StringencyIndex'], bbox_to_anchor=(2.0, 1.0))"
      ],
      "execution_count": 30,
      "outputs": [
        {
          "output_type": "execute_result",
          "data": {
            "text/plain": [
              "<matplotlib.legend.Legend at 0x7ff2430c5208>"
            ]
          },
          "metadata": {
            "tags": []
          },
          "execution_count": 30
        },
        {
          "output_type": "display_data",
          "data": {
            "image/png": "[encoded data removed]",
            "text/plain": [
              "<Figure size 432x288 with 3 Axes>"
            ]
          },
          "metadata": {
            "tags": [],
            "needs_background": "light"
          }
        }
      ]
    },
    {
      "cell_type": "code",
      "metadata": {
        "id": "pQSkV8uyn-h1",
        "colab_type": "code",
        "colab": {
          "base_uri": "https://localhost:8080/",
          "height": 264
        },
        "outputId": "67b3d2d6-123a-4212-a215-74434b8612a1"
      },
      "source": [
        "import numpy as np\n",
        "import matplotlib.pyplot as plt\n",
        "\n",
        "x = dk_test.Date\n",
        "y1 = dk_test.Confirmed\n",
        "y2 = dk_test.StringencyIndex\n",
        "\n",
        "fig = plt.figure()\n",
        "ax1 = fig.add_subplot(111)\n",
        "ax1.plot(x, y1)\n",
        "ax1.set_ylabel('Confirmed')\n",
        "\n",
        "ax2 = ax1.twinx()\n",
        "ax2.plot(x, y2, 'r-')\n",
        "ax2.set_ylabel('Stringency Index', color='r')\n",
        "for tl in ax2.get_yticklabels():\n",
        "    tl.set_color('r')"
      ],
      "execution_count": 35,
      "outputs": [
        {
          "output_type": "display_data",
          "data": {
            "image/png": "[encoded data removed]",
            "text/plain": [
              "<Figure size 432x288 with 2 Axes>"
            ]
          },
          "metadata": {
            "tags": [],
            "needs_background": "light"
          }
        }
      ]
    },
    {
      "cell_type": "code",
      "metadata": {
        "id": "WX3LLAu6Aszi",
        "colab_type": "code",
        "colab": {
          "base_uri": "https://localhost:8080/",
          "height": 282
        },
        "outputId": "fedff75b-f533-4d76-f99a-404a3c313a57"
      },
      "source": [
        "\n"
      ],
      "execution_count": 16,
      "outputs": [
        {
          "output_type": "execute_result",
          "data": {
            "text/plain": [
              "<matplotlib.axes._subplots.AxesSubplot at 0x7ff2444c0668>"
            ]
          },
          "metadata": {
            "tags": []
          },
          "execution_count": 16
        },
        {
          "output_type": "display_data",
          "data": {
            "image/png": "[encoded data removed]",
            "text/plain": [
              "<Figure size 432x288 with 1 Axes>"
            ]
          },
          "metadata": {
            "tags": [],
            "needs_background": "light"
          }
        }
      ]
    },
    {
      "cell_type": "markdown",
      "metadata": {
        "id": "WJf0qiChx2gZ",
        "colab_type": "text"
      },
      "source": [
        "A full description of the strengency index can be found here: \n",
        "\n",
        "https://www.bsg.ox.ac.uk/sites/default/files/Calculation%20and%20presentation%20of%20the%20Stringency%20Index.pdf\n",
        "\n",
        "Additional desciption on a less detailed level: \n",
        "\n",
        "https://www.bsg.ox.ac.uk/research/research-projects/coronavirus-government-response-tracker\n",
        "\n"
      ]
    },
    {
      "cell_type": "markdown",
      "metadata": {
        "id": "kHDlsSuqwkKA",
        "colab_type": "text"
      },
      "source": [
        "equals(self, other)\n",
        "\n",
        "Test whether two objects contain the same elements.\n",
        "\n",
        "https://pandas.pydata.org/docs/getting_started/basics.html\n",
        "\n",
        "\n",
        "https://pandas.pydata.org/pandas-docs/stable/reference/api/pandas.DataFrame.html\n",
        "\n"
      ]
    }
  ]
}