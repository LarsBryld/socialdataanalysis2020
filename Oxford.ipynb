{
  "nbformat": 4,
  "nbformat_minor": 0,
  "metadata": {
    "colab": {
      "name": "Oxford.ipynb",
      "provenance": [],
      "collapsed_sections": [],
      "authorship_tag": "ABX9TyOCiC5cbzO4/sLxX2owtaxx",
      "include_colab_link": true
    },
    "kernelspec": {
      "name": "python3",
      "display_name": "Python 3"
    }
  },
  "cells": [
    {
      "cell_type": "markdown",
      "metadata": {
        "id": "view-in-github",
        "colab_type": "text"
      },
      "source": [
        "<a href=\"https://colab.research.google.com/github/LarsBryld/socialdataanalysis2020/blob/master/Oxford.ipynb\" target=\"_parent\"><img src=\"https://colab.research.google.com/assets/colab-badge.svg\" alt=\"Open In Colab\"/></a>"
      ]
    },
    {
      "cell_type": "code",
      "metadata": {
        "id": "yM9wFsEAlXZp",
        "colab_type": "code",
        "colab": {}
      },
      "source": [
        "import pandas as pd\n",
        "\n",
        "ox = pd.read_csv(\"https://raw.githubusercontent.com/OxCGRT/covid-policy-tracker/master/data/OxCGRT_latest.csv\" , parse_dates=[\"Date\"])\n",
        "\n",
        "covid = pd.read_csv(\"https://open-covid-19.github.io/data/data.csv\", parse_dates=[\"Date\"], na_values='-')\n",
        "\n",
        "\n",
        "\n",
        "#Define focus contries based on stock indecies\n",
        "focuscountries = set(['China', 'Austria', 'Belgium', 'Denmark', 'Finland', 'France', 'Italy', 'Germany', 'Greece', 'Iceland', 'Ireland', 'Netherlands', 'Poland', 'Portugal', 'Spain',\n",
        "                  'Sweden', 'Switzerland', 'United Kingdom', 'Canada', 'United States', 'Australia', 'New Zealand', 'Hong Kong', 'Japan', 'South Korea', 'Singapore',\n",
        "                  'Taiwan', 'Brazil', 'Israel', 'India', 'Mexico', 'South Africa', 'Russia'])\n",
        "\n",
        "\n",
        "#Create dataframes of only focus countries\n",
        "ox = ox[ox['CountryName'].isin(focuscountries)]\n",
        "covid = covid[covid['CountryName'].isin(focuscountries)]\n",
        "\n",
        "\n",
        "#Sometimes, due to data entry errors, we have isgeneral=1 when the underlying indicator is 0 or null. These cases should be disregarded. Only use isgeneral=1 values when the underlying indicator is 1 or higher.\n",
        "\n",
        "#ox = ox[(ox['S1_IsGeneral'] != 1) & (ox['S1_School closing'] > 0)]\n",
        "#ox =  (ox['S2_IsGeneral'] != 1) & (ox['S2_Workplace closing'] > 0) \n",
        "#ox = ox[(ox['S2_IsGeneral'] != 1) & (ox['S2_Workplace closing'] > 0)]\n",
        "#ox = ox[(ox['S3_IsGeneral'] != 1) & (ox['S3_Cancel public events'] > 0)]\n",
        "#ox = ox[(ox['S4_IsGeneral'] != 1) & (ox['S4_Close public transport'] > 0)]\n",
        "#ox = ox[(ox['S5_IsGeneral'] != 1) & (ox['S5_Public information campaigns'] > 0)]\n",
        "#ox = ox[(ox['S6_IsGeneral'] != 1) & (ox['S6_Restrictions on internal movement'] > 0)]\n",
        "#drop2 = ox[(ox['S1_IsGeneral'] == 1) & (ox['S1_School closing'] == 0)] \n",
        "\n",
        "\n",
        "#Nine of the indicators (S1–S7, S12 and S13) take policies such as school closures, travel bans, etc, and are recorded on an ordinal scale\n",
        "#policies = ox[['CountryName', 'Date', 'S1_School closing', 'S2_Workplace closing', 'S3_Cancel public events', 'S3_Cancel public events', 'S4_Close public transport', 'S5_Public information campaigns', 'S6_Restrictions on internal movement', 'S7_International travel controls']]\n",
        "\n",
        "#the others (S8–S11) are financial indicators such as fiscal or monetary measures\n",
        "#financial = ox[['CountryName', 'Date', 'S8_Fiscal measures', 'S9_Monetary measures', 'S10_Emergency investment in health care', 'S11_Investment in Vaccines']]\n",
        "\n",
        "#The tracker aggregates the policy scores (not the financial scores) into a common ‘Stringency Index’.\n",
        "#stringency = ox[['CountryName', 'Date', 'StringencyIndex']]\n",
        "\n",
        "ox_country = (ox['CountryName']).unique()\n",
        "covid_country = (covid['CountryName']).unique()\n",
        "\n"
      ],
      "execution_count": 0,
      "outputs": []
    },
    {
      "cell_type": "code",
      "metadata": {
        "id": "HFU09sJzFVmN",
        "colab_type": "code",
        "colab": {}
      },
      "source": [
        "#Renaming the NaN regional codes to 'Country', since we then can isolate total country level data using this variable\n",
        "\n",
        "covid['RegionCode'] = covid['RegionCode'].fillna('Country')\n"
      ],
      "execution_count": 0,
      "outputs": []
    },
    {
      "cell_type": "code",
      "metadata": {
        "id": "h5sDp-tdsKfR",
        "colab_type": "code",
        "colab": {
          "base_uri": "https://localhost:8080/",
          "height": 105
        },
        "outputId": "ac6678b1-ddc6-4d6e-9c08-159c1f4ccdbd"
      },
      "source": [
        "\n",
        "print(\"The Covid data has {} unique countries and {} unique dates\".format(len(covid_country),len(covid['Date'].unique())))\n",
        "print(\"The Covid data has start data {} and end date {} \".format(min(covid['Date']),max(covid['Date'])))\n",
        "print(\"The Oxford data has {} unique countries and {} unique dates\".format(len(ox_country),len(ox['Date'].unique())))\n",
        "print(\"The Oxford data has start data {} and end date {} \".format(min(ox['Date']),max(ox['Date'])))\n",
        "print(\"The country in Oxford data that is NOT in Covid data is THIS Function IS MISSING {:10.0f} \".format(len(ox['CountryName'].unique()),len(ox['Date'].unique())))\n",
        "\n",
        "# https://www.dataquest.io/blog/python-datetime-tutorial/ useful link to corect the printed date format\n"
      ],
      "execution_count": 171,
      "outputs": [
        {
          "output_type": "stream",
          "text": [
            "The Covid data has 31 unique countries and 122 unique dates\n",
            "The Covid data has start data 2019-12-30 00:00:00 and end date 2020-04-29 00:00:00 \n",
            "The Oxford data has 33 unique countries and 121 unique dates\n",
            "The Oxford data has start data 2020-01-01 00:00:00 and end date 2020-04-30 00:00:00 \n",
            "The country in Oxford data that is NOT in Covid data is THIS Function IS MISSING         33 \n"
          ],
          "name": "stdout"
        }
      ]
    },
    {
      "cell_type": "code",
      "metadata": {
        "id": "PJDZl_QBo3Dk",
        "colab_type": "code",
        "colab": {}
      },
      "source": [
        "#Creating single country example for test of merging. \n",
        "ox_den = ox[ox['CountryName'] == 'Denmark']\n",
        "covid_den = covid[covid['CountryName'] == 'Denmark']\n",
        "\n",
        "#Creating single country example for merging test.\n",
        "ox_it = ox[ox['CountryCode'] == 'ITA']\n",
        "covid_it = covid[(covid['CountryName'] == 'Italy') & (covid['Key'] == 'IT')]\n"
      ],
      "execution_count": 0,
      "outputs": []
    },
    {
      "cell_type": "code",
      "metadata": {
        "id": "b4CIngeXGLsK",
        "colab_type": "code",
        "colab": {}
      },
      "source": [
        "#reduce the variables that are not being used both in oxford and covid data\n",
        "drop_ox = ['CountryName', 'CountryCode'] \n",
        "ox_it = ox_it.drop(drop_ox, axis=1)\n",
        "\n",
        "drop_covid = ['Key', 'CountryCode'] \n",
        "covid_it = covid_it.drop(drop_covid, axis=1)"
      ],
      "execution_count": 0,
      "outputs": []
    },
    {
      "cell_type": "code",
      "metadata": {
        "id": "tiMPon0u9ov-",
        "colab_type": "code",
        "outputId": "3677b9b6-f9fc-4bfe-b875-cb51caa767a8",
        "colab": {
          "base_uri": "https://localhost:8080/",
          "height": 34
        }
      },
      "source": [
        "# Summing total confirmed cases for it to compare against the entire data set \n",
        "it = pd.merge(covid_it,ox_it, how='inner', on='Date')\n",
        "sum(it['Confirmed'])\n"
      ],
      "execution_count": 177,
      "outputs": [
        {
          "output_type": "execute_result",
          "data": {
            "text/plain": [
              "5733120.0"
            ]
          },
          "metadata": {
            "tags": []
          },
          "execution_count": 177
        }
      ]
    },
    {
      "cell_type": "code",
      "metadata": {
        "id": "jTgg_CXDHtsV",
        "colab_type": "code",
        "colab": {
          "base_uri": "https://localhost:8080/",
          "height": 34
        },
        "outputId": "4a91b0a4-e314-47f6-e3a4-ae42736e4125"
      },
      "source": [
        "# Same as above but for DK \n",
        "den = pd.merge(covid_den,ox_den, how='inner', on='Date')\n",
        "sum(den['Confirmed'])"
      ],
      "execution_count": 179,
      "outputs": [
        {
          "output_type": "execute_result",
          "data": {
            "text/plain": [
              "201835.0"
            ]
          },
          "metadata": {
            "tags": []
          },
          "execution_count": 179
        }
      ]
    },
    {
      "cell_type": "code",
      "metadata": {
        "id": "2y3I_Rq6-CJt",
        "colab_type": "code",
        "colab": {}
      },
      "source": [
        "#making a general solution to the above mereging example. oxford_data is the complete data set \n",
        "\n",
        "oxford_date = pd.merge(covid,ox, how='inner', on=['Date', 'CountryName'])\n"
      ],
      "execution_count": 0,
      "outputs": []
    },
    {
      "cell_type": "code",
      "metadata": {
        "id": "WR2aZq0qIsqz",
        "colab_type": "code",
        "colab": {
          "base_uri": "https://localhost:8080/",
          "height": 34
        },
        "outputId": "35984c93-197f-43d2-cd81-b6ffdfc9ae74"
      },
      "source": [
        "#testing that the manual merging example creates the same results as in the oxford_data\n",
        "\n",
        "it_test = oxford_date[(oxford_date['CountryName'] == 'Italy') & (oxford_date['RegionCode'] == 'Country')]\n",
        "sum(it_test['Confirmed'])"
      ],
      "execution_count": 184,
      "outputs": [
        {
          "output_type": "execute_result",
          "data": {
            "text/plain": [
              "5733120.0"
            ]
          },
          "metadata": {
            "tags": []
          },
          "execution_count": 184
        }
      ]
    },
    {
      "cell_type": "code",
      "metadata": {
        "id": "WWmXUTtAIY6U",
        "colab_type": "code",
        "colab": {
          "base_uri": "https://localhost:8080/",
          "height": 34
        },
        "outputId": "6f65cd0f-5ce0-4c54-943a-896db3233612"
      },
      "source": [
        "#same as above but for denmark\n",
        "\n",
        "dk_test = oxford_date[(oxford_date['CountryName'] == 'Denmark') & (oxford_date['RegionCode'] == 'Country')]\n",
        "sum(dk_test['Confirmed'])"
      ],
      "execution_count": 182,
      "outputs": [
        {
          "output_type": "execute_result",
          "data": {
            "text/plain": [
              "201835.0"
            ]
          },
          "metadata": {
            "tags": []
          },
          "execution_count": 182
        }
      ]
    },
    {
      "cell_type": "code",
      "metadata": {
        "id": "R-31VLWP_nkm",
        "colab_type": "code",
        "colab": {}
      },
      "source": [
        ""
      ],
      "execution_count": 0,
      "outputs": []
    },
    {
      "cell_type": "code",
      "metadata": {
        "id": "WX3LLAu6Aszi",
        "colab_type": "code",
        "colab": {}
      },
      "source": [
        "\n",
        "#plotting statement\n",
        "\n",
        "string = den['StringencyIndex']\n",
        "cases = den['ConfirmedCases']       \n",
        "\n",
        "string.plot.line()\n",
        "#cases.plot.line()"
      ],
      "execution_count": 0,
      "outputs": []
    },
    {
      "cell_type": "markdown",
      "metadata": {
        "id": "WJf0qiChx2gZ",
        "colab_type": "text"
      },
      "source": [
        "A full description of the strengency index can be found here: \n",
        "\n",
        "https://www.bsg.ox.ac.uk/sites/default/files/Calculation%20and%20presentation%20of%20the%20Stringency%20Index.pdf\n",
        "\n",
        "Additional desciption on a less detailed level: \n",
        "\n",
        "https://www.bsg.ox.ac.uk/research/research-projects/coronavirus-government-response-tracker\n",
        "\n"
      ]
    },
    {
      "cell_type": "markdown",
      "metadata": {
        "id": "kHDlsSuqwkKA",
        "colab_type": "text"
      },
      "source": [
        "equals(self, other)\n",
        "\n",
        "Test whether two objects contain the same elements.\n",
        "\n",
        "https://pandas.pydata.org/docs/getting_started/basics.html\n",
        "\n",
        "\n",
        "https://pandas.pydata.org/pandas-docs/stable/reference/api/pandas.DataFrame.html\n",
        "\n"
      ]
    }
  ]
}