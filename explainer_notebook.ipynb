{
  "nbformat": 4,
  "nbformat_minor": 0,
  "metadata": {
    "colab": {
      "name": "explainer notebook.ipynb",
      "provenance": [],
      "collapsed_sections": [],
      "authorship_tag": "ABX9TyO5orlm9b6aYCUW2v6YI43h",
      "include_colab_link": true
    },
    "kernelspec": {
      "name": "python3",
      "display_name": "Python 3"
    }
  },
  "cells": [
    {
      "cell_type": "markdown",
      "metadata": {
        "id": "view-in-github",
        "colab_type": "text"
      },
      "source": [
        "<a href=\"https://colab.research.google.com/github/LarsBryld/socialdataanalysis2020/blob/master/explainer_notebook.ipynb\" target=\"_parent\"><img src=\"https://colab.research.google.com/assets/colab-badge.svg\" alt=\"Open In Colab\"/></a>"
      ]
    },
    {
      "cell_type": "code",
      "metadata": {
        "id": "5RbDvHKeUXBU",
        "colab_type": "code",
        "colab": {}
      },
      "source": [
        ""
      ],
      "execution_count": 0,
      "outputs": []
    },
    {
      "cell_type": "markdown",
      "metadata": {
        "id": "9GR6uGpiUlCr",
        "colab_type": "text"
      },
      "source": [
        "**1. Motivation.**\n",
        "\n",
        "1\\. *What is your dataset?*\n",
        "> Our main data set (*df*) consists of 3 sources. One is stock market performance downloaded from Bloomberg, one is Covid data obtained directly from John Hopkins github rep. and the last source being Oxford Covid-19 Government Response Tracker colleced by Oxford University.\n",
        "\n",
        "> As explained from the Oxford documentation \"the Oxford Covid-19 Government Response Tracker (OxCGRT) collects systematic information on which governments have taken which measures, and when. ... The OxCGRT systematically collects information on several different common policy responses governments have taken, scores the stringency of such measures, and aggregates these scores into a common Stringency Index.\"     \n",
        "Source: https://github.com/OxCGRT/covid-policy-tracker\n",
        "\n",
        "\n",
        "2\\. *Why did you choose this/these particular dataset(s)?*\n",
        "> Being economists, we wish to add an economic impact of the the political restrictions taken in order to combat the covid-19 virus, to the debate. The global economy is not only affected directly by the virus, but also by the local political measurements taken to combat the virus. \n",
        ">Assuming that the stock market if priced upon future expectation to we assume that changes in the level of a local stock index, is a concequence of changes to local future expected economic growth. This can either be from a high death rate (less economic activity) or a restrictive Goverment response. \n",
        ">We have chosen to analyse political response and stock market data, to analyse if a optimal strategy for acchiving low death rate and low economic impact exist.      \n",
        "\n",
        "3\\. *What was your goal for the end user's experience?*\n",
        "> Our goal was simply to provide an overview of the development in stock market performance and a development in goverment responses during the past months using a world heat map. Hopefully this provides a clear correlation between covid death rate and economic downturn. Hopefully a difference in goverment responses between countris should also emerge from this plot.  \n",
        "> what are the policies for a succedfull health point off view and economic point of view\n"
      ]
    },
    {
      "cell_type": "markdown",
      "metadata": {
        "id": "kir6SUw7ViNY",
        "colab_type": "text"
      },
      "source": [
        "**2. Basic stats.**\n",
        "\n",
        "1\\. *Write about your choices in data cleaning and preprocessing*\n",
        ">1\\. We have chosen to disregard fiscal measures in the Oxford Goverment Response data, since we have to correct for GDP levels.\\\n",
        ">2\\. On all stock market data we have linaer interpolated on weekends and holidays.  \n",
        ">3\\. In order to classfify countries in \"Good\", \"Bad\" and \"Indifferent\" we create a Covid Index. The covid index is calculated as difference in stock market perfomance (in %) - death rate (in %). The intuition is that a positive covid index means expectations to future growth exceesds the economic imppact from the covid virus.   \n",
        "\n",
        "2\\. *Write a short section that discusses the dataset stats, containing key points/plots from your exploratory data analysis.*\n"
      ]
    },
    {
      "cell_type": "markdown",
      "metadata": {
        "id": "aW2QFhyUV3ni",
        "colab_type": "text"
      },
      "source": [
        "**3. Data Analysis**\n",
        "\n",
        "1\\. *Describe your data analysis and explain what you've learned about the dataset.*\n",
        "\n",
        "2\\. *If relevant, talk about your machine-learning.*\n",
        ">We used a tree classifier to find which is the strategy chosen by the best performing contries, measured by the cov index on the 14th og may. See our classification tree  in the file classifier.py. "
      ]
    },
    {
      "cell_type": "markdown",
      "metadata": {
        "id": "JSGdg12JVyKx",
        "colab_type": "text"
      },
      "source": [
        "**4. Genre**\n",
        "\n",
        "1\\. *Which tools did you use from each of the 3 categories of Visual Narrative (Figure 7 in Segal and Heer). Why?*\n",
        "\n",
        "\n",
        ">**Visual Narrative**\n",
        ">> * Visual Structuring: We wish to create visual structure by a **consistent visual platform** where the tabs acts as a **\"Checklist\" Progresss Tracker**. This ensures that we tell a comic book style story about the covid pandemic, the goverment actions and how the economy is affected by these two features. \n",
        ">> * Highlighting: Motion\n",
        ">> * Transition Guidance: The transition trough the story is done by the tab structure.\n",
        "\n",
        "\n",
        "2\\. *Which tools did you use from each of the 3 categories of Narrative Structure (Figure 7 in Segal and Heer). Why?*\n",
        "\n",
        ">**Narrative Structure**\n",
        ">> * Ordering: We have arranged the viewers path as **Linaer**. This is due to our analyses is dependent on atime line event and our plots are author driven.\n",
        ">> * Interactivity: We have chosen **Hover Highlighting / Details** as one way to include interactivity. This enabels the user to explore which country is place where in the scatter plot. \n",
        ">> * Messaging: We have chosen to communicates observations and commentary to the viewer trough **Introductory Text** & **Summary / Synthesis** this is due to our story being very linaer from the beginning.\n",
        "\n"
      ]
    },
    {
      "cell_type": "markdown",
      "metadata": {
        "id": "2kURszVwW3Xk",
        "colab_type": "text"
      },
      "source": [
        "**6. Discussion.**\n",
        "\n",
        "1\\. *What went well?*\n",
        ">The basic merging and plotting of data was a succes to do a basic analysis.\n",
        "\n",
        "2\\. *What is still missing? What could be improved?, Why?*\n",
        ">we have created a perfect platform for futher analyses. However time constraint and Bokeh issues kept us from doing deeper analyses."
      ]
    },
    {
      "cell_type": "markdown",
      "metadata": {
        "id": "k4qp58OMXuvn",
        "colab_type": "text"
      },
      "source": [
        "**6. Contributions.**\n",
        "\n",
        "Interactive maps done by Andrea\n",
        "\n",
        "Interactive scatter plot done by Lars\n",
        "\n",
        "Dicission Tree ang classification done by Andrea & Lars "
      ]
    }
  ]
}